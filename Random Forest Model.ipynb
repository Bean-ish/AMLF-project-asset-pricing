{
 "cells": [
  {
   "cell_type": "code",
   "execution_count": 57,
   "id": "cba0c21c",
   "metadata": {},
   "outputs": [],
   "source": [
    "import numpy as np\n",
    "import pandas as pd\n",
    "from sklearn.model_selection import train_test_split\n",
    "from sklearn.ensemble import RandomForestRegressor\n",
    "from sklearn.metrics import mean_squared_error"
   ]
  },
  {
   "cell_type": "markdown",
   "id": "6ddf18d3",
   "metadata": {},
   "source": [
    "# Preprocessing"
   ]
  },
  {
   "cell_type": "code",
   "execution_count": 58,
   "id": "07be86bf",
   "metadata": {},
   "outputs": [],
   "source": [
    "df = pd.read_csv(\"data.csv\")"
   ]
  },
  {
   "cell_type": "code",
   "execution_count": 59,
   "id": "005cc77a",
   "metadata": {},
   "outputs": [],
   "source": [
    "df = df.drop(columns = ['Unnamed: 0'])"
   ]
  },
  {
   "cell_type": "code",
   "execution_count": 60,
   "id": "1c0cb6f1",
   "metadata": {},
   "outputs": [],
   "source": [
    "#df['r(t+1)'] = df.groupby('permno')['return'].shift(-1)"
   ]
  },
  {
   "cell_type": "code",
   "execution_count": 61,
   "id": "818362a6",
   "metadata": {},
   "outputs": [],
   "source": [
    "df['Date'] = pd.to_datetime(df['Date'])\n",
    "\n"
   ]
  },
  {
   "cell_type": "code",
   "execution_count": 62,
   "id": "8e2c7b9a",
   "metadata": {},
   "outputs": [],
   "source": [
    "df_filled = df.copy()\n",
    "for feature in ['mom1m', 'mom12m', 'chmom', 'mom36m', 'turn', 'dolvol', 'idiovol', 'beta', 'betasq', 'ep', 'sp', 'agr', 'nincr']:\n",
    "    df_filled[feature] = df_filled.groupby('Date')[feature].transform(lambda x: x.fillna(x.median()))"
   ]
  },
  {
   "cell_type": "code",
   "execution_count": 63,
   "id": "497d9787",
   "metadata": {},
   "outputs": [
    {
     "data": {
      "text/plain": [
       "Date             0\n",
       "permno           0\n",
       "return           0\n",
       "mom1m            0\n",
       "mom12m           0\n",
       "chmom            0\n",
       "indmom           0\n",
       "mom36m           0\n",
       "turn             0\n",
       "mvel1            0\n",
       "dolvol           0\n",
       "ill              0\n",
       "zerotrade        0\n",
       "baspread         0\n",
       "retvol           0\n",
       "idiovol          0\n",
       "beta             0\n",
       "betasq           0\n",
       "ep               0\n",
       "sp               0\n",
       "agr              0\n",
       "nincr            0\n",
       "return(t-1)    500\n",
       "dtype: int64"
      ]
     },
     "execution_count": 63,
     "metadata": {},
     "output_type": "execute_result"
    }
   ],
   "source": [
    "df_filled.isna().sum()"
   ]
  },
  {
   "cell_type": "code",
   "execution_count": 64,
   "id": "a1e9f0ba",
   "metadata": {},
   "outputs": [],
   "source": [
    "df.loc[:, ['mom1m', 'mom12m', 'chmom', 'mom36m', 'turn', 'dolvol', 'idiovol', 'beta', 'betasq', 'ep', 'sp', 'agr', 'nincr']] = df_filled.loc[:,['mom1m', 'mom12m', 'chmom', 'mom36m', 'turn', 'dolvol', 'idiovol', 'beta', 'betasq', 'ep', 'sp', 'agr', 'nincr']]"
   ]
  },
  {
   "cell_type": "code",
   "execution_count": 65,
   "id": "745aca66",
   "metadata": {},
   "outputs": [],
   "source": [
    "mvel_sorted = df.sort_values('mvel1',ascending=False)\n",
    "top_100 = mvel_sorted.groupby('Date').head(100).reset_index(drop=True)\n",
    "bottom_100 = mvel_sorted.groupby('Date').tail(100).reset_index(drop=True)\n",
    "top_100.set_index('Date', inplace=True)\n",
    "bottom_100.set_index('Date', inplace=True)\n",
    "df.set_index('Date', inplace=True)"
   ]
  },
  {
   "cell_type": "code",
   "execution_count": 66,
   "id": "7ac410db",
   "metadata": {},
   "outputs": [
    {
     "data": {
      "text/plain": [
       "permno           0\n",
       "return           0\n",
       "mom1m            0\n",
       "mom12m           0\n",
       "chmom            0\n",
       "indmom           0\n",
       "mom36m           0\n",
       "turn             0\n",
       "mvel1            0\n",
       "dolvol           0\n",
       "ill              0\n",
       "zerotrade        0\n",
       "baspread         0\n",
       "retvol           0\n",
       "idiovol          0\n",
       "beta             0\n",
       "betasq           0\n",
       "ep               0\n",
       "sp               0\n",
       "agr              0\n",
       "nincr            0\n",
       "return(t-1)    500\n",
       "dtype: int64"
      ]
     },
     "execution_count": 66,
     "metadata": {},
     "output_type": "execute_result"
    }
   ],
   "source": [
    "df.isna().sum()"
   ]
  },
  {
   "cell_type": "markdown",
   "id": "840bae86",
   "metadata": {},
   "source": [
    "# Splitting Data"
   ]
  },
  {
   "cell_type": "code",
   "execution_count": 67,
   "id": "e4c8fcc1",
   "metadata": {},
   "outputs": [
    {
     "data": {
      "text/plain": [
       "permno           0\n",
       "return           0\n",
       "mom1m            0\n",
       "mom12m           0\n",
       "chmom            0\n",
       "indmom           0\n",
       "mom36m           0\n",
       "turn             0\n",
       "mvel1            0\n",
       "dolvol           0\n",
       "ill              0\n",
       "zerotrade        0\n",
       "baspread         0\n",
       "retvol           0\n",
       "idiovol          0\n",
       "beta             0\n",
       "betasq           0\n",
       "ep               0\n",
       "sp               0\n",
       "agr              0\n",
       "nincr            0\n",
       "return(t-1)    500\n",
       "dtype: int64"
      ]
     },
     "execution_count": 67,
     "metadata": {},
     "output_type": "execute_result"
    }
   ],
   "source": [
    "training = df[:'2007-01-01'].dropna()\n",
    "validation = df['2007-01-02':'2011-01-01']\n",
    "testing = df[:'2020-01-01'].dropna()\n",
    "\n",
    "df.isna().sum()"
   ]
  },
  {
   "cell_type": "code",
   "execution_count": 74,
   "id": "db135b2c",
   "metadata": {},
   "outputs": [],
   "source": [
    "X_train = training.drop(columns = ['return'])\n",
    "y_train = training['return']"
   ]
  },
  {
   "cell_type": "code",
   "execution_count": 75,
   "id": "6ad3d19a",
   "metadata": {},
   "outputs": [],
   "source": [
    "X_val = validation.drop(columns = ['return'])\n",
    "y_val = validation['return']"
   ]
  },
  {
   "cell_type": "code",
   "execution_count": 76,
   "id": "02da496d",
   "metadata": {},
   "outputs": [],
   "source": [
    "X_test = testing.drop(columns = ['return'])\n",
    "y_test = testing['return']"
   ]
  },
  {
   "cell_type": "markdown",
   "id": "0b4a45c7",
   "metadata": {},
   "source": [
    "# Implementing the model"
   ]
  },
  {
   "cell_type": "code",
   "execution_count": 77,
   "id": "b2b01c02",
   "metadata": {},
   "outputs": [],
   "source": [
    "#Hyperparameters based on the paper\n",
    "depths = range(1, 7)  \n",
    "n_trees = 300         \n",
    "feature_splits = [3, 5, 10, 20] "
   ]
  },
  {
   "cell_type": "code",
   "execution_count": 78,
   "id": "bee5744a",
   "metadata": {},
   "outputs": [],
   "source": [
    "def R_calc(actual, predicted):\n",
    "\n",
    "    actual = np.array(actual)\n",
    "    predicted = np.array(predicted).flatten()\n",
    "    \n",
    "    predicted = np.clip(predicted, 0, None)\n",
    "    \n",
    "    ss_res = np.sum((actual - predicted) ** 2)\n",
    "    \n",
    "    ss_tot = np.sum(actual ** 2)\n",
    "    \n",
    "    r_squared = 1 - (ss_res / ss_tot)\n",
    "    \n",
    "    return r_squared"
   ]
  },
  {
   "cell_type": "code",
   "execution_count": 79,
   "id": "beee4dd1",
   "metadata": {},
   "outputs": [
    {
     "name": "stdout",
     "output_type": "stream",
     "text": [
      "1 3 0.014958752783622686\n",
      "1 5 0.016186036584500796\n",
      "1 10 0.016938802642380013\n",
      "1 20 0.01652972516238882\n",
      "2 3 0.021405944336138738\n",
      "2 5 0.02271292684296433\n",
      "2 10 0.0236204271641699\n",
      "2 20 0.022651444900517737\n",
      "3 3 0.026736488831452188\n",
      "3 5 0.027322423940248752\n",
      "3 10 0.02729860050697308\n",
      "3 20 0.026206202963935832\n",
      "4 3 0.029550834314363672\n",
      "4 5 0.030060777825804852\n",
      "4 10 0.03031041742821916\n",
      "4 20 0.027963975036472855\n",
      "5 3 0.03175812070773154\n",
      "5 5 0.03150346898260903\n",
      "5 10 0.03116902477173067\n",
      "5 20 0.027023873450172764\n",
      "6 3 0.03243898102900289\n",
      "6 5 0.03195467298294885\n",
      "6 10 0.03149347690888582\n",
      "6 20 0.027370297712267844\n",
      "Best hyperparameters (max_depth, max_features): (6, 3)\n",
      "Best R^2 OOS: 0.03243898102900289\n"
     ]
    }
   ],
   "source": [
    "roos_vals = {}\n",
    "\n",
    "for max_depth in depths:\n",
    "    \n",
    "    for max_features in feature_splits:\n",
    "        \n",
    "        rf = RandomForestRegressor(n_estimators = n_trees,\n",
    "                                   max_depth = max_depth,\n",
    "                                   max_features = max_features,\n",
    "                                   random_state = 42)\n",
    "        \n",
    "        rf.fit(X_train, y_train)\n",
    "        \n",
    "        predictions = rf.predict(X_val)\n",
    "        \n",
    "        r_val = R_calc(y_val, predictions)\n",
    "        \n",
    "        roos_vals[((max_depth, max_features))] = r_val\n",
    "        print(max_depth, max_features, r_val)\n",
    "        \n",
    "best_hyperparameters = max(roos_vals, key=roos_vals.get)\n",
    "best_r = roos_vals[best_hyperparameters]\n",
    "\n",
    "print(\"Best hyperparameters (max_depth, max_features):\", best_hyperparameters)\n",
    "print(\"Best R^2 OOS:\", best_r)"
   ]
  },
  {
   "cell_type": "code",
   "execution_count": 80,
   "id": "caede49e",
   "metadata": {},
   "outputs": [
    {
     "name": "stdout",
     "output_type": "stream",
     "text": [
      "0.03243898102900289\n"
     ]
    }
   ],
   "source": [
    "depth = best_hyperparameters[0]\n",
    "feature = best_hyperparameters[1]\n",
    "\n",
    "rf = RandomForestRegressor(n_estimators = n_trees,\n",
    "                                   max_depth = depth,\n",
    "                                   max_features = feature,\n",
    "                                   random_state = 42)\n",
    "        \n",
    "rf.fit(X_train, y_train)\n",
    "        \n",
    "predictions = rf.predict(X_val)\n",
    "        \n",
    "r_val = R_calc(y_val, predictions)\n",
    "        \n",
    "print(r_val)"
   ]
  },
  {
   "cell_type": "code",
   "execution_count": 81,
   "id": "83fc4677",
   "metadata": {},
   "outputs": [
    {
     "name": "stdout",
     "output_type": "stream",
     "text": [
      "0.0456277935717978\n"
     ]
    }
   ],
   "source": [
    "test_pred = rf.predict(X_test)\n",
    "val = R_calc(y_test, test_pred)\n",
    "print(val)"
   ]
  },
  {
   "cell_type": "markdown",
   "id": "5ffa9944",
   "metadata": {},
   "source": [
    "# Top 100"
   ]
  },
  {
   "cell_type": "code",
   "execution_count": null,
   "id": "c3dc5bb4",
   "metadata": {},
   "outputs": [],
   "source": [
    "df.isna().sum()"
   ]
  },
  {
   "cell_type": "code",
   "execution_count": null,
   "id": "8433cc1f",
   "metadata": {},
   "outputs": [],
   "source": [
    "training = top_100[:'2007-01-01'].dropna()\n",
    "validation = top_100['2007-01-02':'2011-01-01']\n",
    "testing = top_100[:'2020-01-01'].dropna()\n",
    "\n",
    "top_100.isna().sum()"
   ]
  },
  {
   "cell_type": "code",
   "execution_count": null,
   "id": "10a1d230",
   "metadata": {},
   "outputs": [],
   "source": [
    "X_train = training.drop(columns = ['permno', 'return', 'r(t+1)'])\n",
    "y_train = training['r(t+1)']"
   ]
  },
  {
   "cell_type": "code",
   "execution_count": null,
   "id": "62f6d652",
   "metadata": {},
   "outputs": [],
   "source": [
    "X_val = validation.drop(columns = ['permno', 'return', 'r(t+1)'])\n",
    "y_val = validation['r(t+1)']"
   ]
  },
  {
   "cell_type": "code",
   "execution_count": null,
   "id": "8cffd1d2",
   "metadata": {},
   "outputs": [],
   "source": [
    "X_test = testing.drop(columns = ['permno', 'return', 'r(t+1)'])\n",
    "y_test = testing['r(t+1)']"
   ]
  },
  {
   "cell_type": "code",
   "execution_count": null,
   "id": "3f72a94c",
   "metadata": {},
   "outputs": [],
   "source": [
    "roos_vals = {}\n",
    "\n",
    "for max_depth in depths:\n",
    "    \n",
    "    for max_features in feature_splits:\n",
    "        \n",
    "        rf = RandomForestRegressor(n_estimators = n_trees,\n",
    "                                   max_depth = max_depth,\n",
    "                                   max_features = max_features,\n",
    "                                   random_state = 42)\n",
    "        \n",
    "        rf.fit(X_train, y_train)\n",
    "        \n",
    "        predictions = rf.predict(X_val)\n",
    "        \n",
    "        r_val = R_calc(y_val, predictions)\n",
    "        \n",
    "        roos_vals[((max_depth, max_features))] = r_val\n",
    "        print(max_depth, max_features, r_val)\n",
    "        \n",
    "best_hyperparameters = max(roos_vals, key=roos_vals.get)\n",
    "best_r = roos_vals[best_hyperparameters]\n",
    "\n",
    "print(\"Best hyperparameters (max_depth, max_features):\", best_hyperparameters)\n",
    "print(\"Best R^2 OOS:\", best_r)"
   ]
  },
  {
   "cell_type": "code",
   "execution_count": null,
   "id": "3fc020e1",
   "metadata": {},
   "outputs": [],
   "source": [
    "depth = best_hyperparameters[0]\n",
    "feature = best_hyperparameters[1]\n",
    "\n",
    "rf = RandomForestRegressor(n_estimators = n_trees,\n",
    "                                   max_depth = depth,\n",
    "                                   max_features = feature,\n",
    "                                   random_state = 42)\n",
    "        \n",
    "rf.fit(X_train, y_train)\n",
    "        \n",
    "predictions = rf.predict(X_val)\n",
    "        \n",
    "r_val = R_calc(y_val, predictions)\n",
    "        \n",
    "print(r_val)"
   ]
  },
  {
   "cell_type": "code",
   "execution_count": null,
   "id": "4fc2d79a",
   "metadata": {},
   "outputs": [],
   "source": [
    "test_pred = rf.predict(X_test)\n",
    "val = R_calc(y_test, test_pred)\n",
    "print(val)"
   ]
  },
  {
   "cell_type": "markdown",
   "id": "5f511ca4",
   "metadata": {},
   "source": [
    "# Bottom 100"
   ]
  },
  {
   "cell_type": "code",
   "execution_count": null,
   "id": "ea5becb4",
   "metadata": {},
   "outputs": [],
   "source": [
    "training = bottom_100[:'2007-01-01'].dropna()\n",
    "validation = bottom_100['2007-01-02':'2011-01-01']\n",
    "testing = bottom_100[:'2020-01-01'].dropna()"
   ]
  },
  {
   "cell_type": "code",
   "execution_count": null,
   "id": "8a2a25cb",
   "metadata": {},
   "outputs": [],
   "source": [
    "X_train = training.drop(columns = ['permno', 'return', 'r(t+1)'])\n",
    "y_train = training['r(t+1)']"
   ]
  },
  {
   "cell_type": "code",
   "execution_count": null,
   "id": "aa581686",
   "metadata": {},
   "outputs": [],
   "source": [
    "X_val = validation.drop(columns = ['permno', 'return', 'r(t+1)'])\n",
    "y_val = validation['r(t+1)']"
   ]
  },
  {
   "cell_type": "code",
   "execution_count": null,
   "id": "1e458921",
   "metadata": {},
   "outputs": [],
   "source": [
    "X_test = testing.drop(columns = ['permno', 'return', 'r(t+1)'])\n",
    "y_test = testing['r(t+1)']"
   ]
  },
  {
   "cell_type": "code",
   "execution_count": null,
   "id": "cc490cf2",
   "metadata": {},
   "outputs": [],
   "source": [
    "roos_vals = {}\n",
    "\n",
    "for max_depth in depths:\n",
    "    \n",
    "    for max_features in feature_splits:\n",
    "        \n",
    "        rf = RandomForestRegressor(n_estimators = n_trees,\n",
    "                                   max_depth = max_depth,\n",
    "                                   max_features = max_features,\n",
    "                                   random_state = 42)\n",
    "        \n",
    "        rf.fit(X_train, y_train)\n",
    "        \n",
    "        predictions = rf.predict(X_val)\n",
    "        \n",
    "        r_val = R_calc(y_val, predictions)\n",
    "        \n",
    "        roos_vals[((max_depth, max_features))] = r_val\n",
    "        print(max_depth, max_features, r_val)\n",
    "        \n",
    "best_hyperparameters = max(roos_vals, key=roos_vals.get)\n",
    "best_r = roos_vals[best_hyperparameters]\n",
    "\n",
    "print(\"Best hyperparameters (max_depth, max_features):\", best_hyperparameters)\n",
    "print(\"Best R^2 OOS:\", best_r)"
   ]
  },
  {
   "cell_type": "code",
   "execution_count": null,
   "id": "38286189",
   "metadata": {},
   "outputs": [],
   "source": [
    "depth = best_hyperparameters[0]\n",
    "feature = best_hyperparameters[1]\n",
    "\n",
    "rf = RandomForestRegressor(n_estimators = n_trees,\n",
    "                                   max_depth = depth,\n",
    "                                   max_features = feature,\n",
    "                                   random_state = 42)\n",
    "        \n",
    "rf.fit(X_train, y_train)\n",
    "        \n",
    "predictions = rf.predict(X_val)\n",
    "        \n",
    "r_val = R_calc(y_val, predictions)\n",
    "        \n",
    "print(r_val)"
   ]
  },
  {
   "cell_type": "code",
   "execution_count": null,
   "id": "2e1f51d6",
   "metadata": {},
   "outputs": [],
   "source": [
    "test_pred = rf.predict(X_test)\n",
    "val = R_calc(y_test, test_pred)\n",
    "print(val)"
   ]
  }
 ],
 "metadata": {
  "kernelspec": {
   "display_name": "Python 3 (ipykernel)",
   "language": "python",
   "name": "python3"
  },
  "language_info": {
   "codemirror_mode": {
    "name": "ipython",
    "version": 3
   },
   "file_extension": ".py",
   "mimetype": "text/x-python",
   "name": "python",
   "nbconvert_exporter": "python",
   "pygments_lexer": "ipython3",
   "version": "3.9.12"
  }
 },
 "nbformat": 4,
 "nbformat_minor": 5
}
