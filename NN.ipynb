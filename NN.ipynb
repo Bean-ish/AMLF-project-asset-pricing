{
 "cells": [
  {
   "cell_type": "code",
   "execution_count": null,
   "id": "aec3c3ef",
   "metadata": {},
   "outputs": [],
   "source": []
  },
  {
   "cell_type": "code",
   "execution_count": null,
   "id": "f2e19bca",
   "metadata": {},
   "outputs": [],
   "source": []
  },
  {
   "cell_type": "code",
   "execution_count": null,
   "id": "a5f881af",
   "metadata": {},
   "outputs": [],
   "source": []
  },
  {
   "cell_type": "markdown",
   "id": "97f12888",
   "metadata": {},
   "source": [
    "## NN"
   ]
  },
  {
   "cell_type": "code",
   "execution_count": null,
   "id": "2ca69c98",
   "metadata": {},
   "outputs": [],
   "source": [
    "import keras\n",
    "from keras import layers\n",
    "from keras import Sequential"
   ]
  },
  {
   "cell_type": "markdown",
   "id": "40c328bf",
   "metadata": {},
   "source": [
    "**loss function**\n",
    "\n",
    "Customize the loss function to be penalized cross-sectional average prediction error"
   ]
  },
  {
   "cell_type": "code",
   "execution_count": null,
   "id": "13872e85",
   "metadata": {},
   "outputs": [],
   "source": [
    "def custom_loss (y_true, y_pred):\n",
    "    return"
   ]
  },
  {
   "cell_type": "markdown",
   "id": "225e9b7d",
   "metadata": {},
   "source": [
    "**performance metric**\n",
    "\n",
    "Customize the performance metric as Out-of-sample R^2."
   ]
  },
  {
   "cell_type": "code",
   "execution_count": null,
   "id": "c54425b7",
   "metadata": {},
   "outputs": [],
   "source": [
    "def custom_metric (y_true, y_pred):\n",
    "    return"
   ]
  },
  {
   "cell_type": "markdown",
   "id": "16f85419",
   "metadata": {},
   "source": [
    "### model\n",
    "\n",
    "All activation functions are ReLU function <br>\n",
    "optimizer: SGD w/ learning rate shrinkage: adam <br>"
   ]
  },
  {
   "cell_type": "markdown",
   "id": "85f1f391",
   "metadata": {},
   "source": [
    "**arc 1**"
   ]
  },
  {
   "cell_type": "code",
   "execution_count": null,
   "id": "3f8abe88",
   "metadata": {},
   "outputs": [],
   "source": [
    "model_1 = Sequential()\n",
    "\n",
    "input_dim = 20\n",
    "layer1_n = 32\n",
    "\n",
    "model_1.add(layers.Dense(layer1_n, input_dim = input_dim, activation='relu'))\n",
    "model_1.add(layers.Dense(1, activation='linear'))"
   ]
  },
  {
   "cell_type": "code",
   "execution_count": null,
   "id": "eba08fe5",
   "metadata": {},
   "outputs": [],
   "source": [
    "model_1.compile(loss = custom_loss , optimizer = 'adam', metrics = [custom_metric])\n",
    "\n",
    "model_1.fit(X_train, y_train, epochs=10)"
   ]
  },
  {
   "cell_type": "code",
   "execution_count": null,
   "id": "c453ab94",
   "metadata": {},
   "outputs": [],
   "source": [
    "_, accuracy = model_1.evaluate(X_test, y_test)\n",
    "\n",
    "print('Accuracy is: %.2f' %(accuracy*100))"
   ]
  },
  {
   "cell_type": "markdown",
   "id": "e8b886ad",
   "metadata": {},
   "source": [
    "**arc 2**"
   ]
  },
  {
   "cell_type": "code",
   "execution_count": null,
   "id": "69b428ea",
   "metadata": {},
   "outputs": [],
   "source": [
    "model_2 = Sequential()\n",
    "\n",
    "input_dim = 20\n",
    "layer1_n = 32\n",
    "layer2_n = 16\n",
    "\n",
    "model_2.add(layers.Dense(layer1_n, input_dim = input_dim, activation='relu'))\n",
    "model_2.add(layers.Dense(layer2_n, activation='relu'))\n",
    "model_2.add(layers.Dense(1, activation='linear'))"
   ]
  },
  {
   "cell_type": "markdown",
   "id": "db3d8800",
   "metadata": {},
   "source": [
    "**arc 3**"
   ]
  },
  {
   "cell_type": "code",
   "execution_count": null,
   "id": "d05b81f7",
   "metadata": {},
   "outputs": [],
   "source": [
    "model_3 = Sequential()\n",
    "\n",
    "input_dim = 20\n",
    "layer1_n = 32\n",
    "layer2_n = 16\n",
    "layer3_n = 16\n",
    "\n",
    "model_3.add(layers.Dense(layer1_n, input_dim = input_dim, activation='relu'))\n",
    "model_3.add(layers.Dense(layer2_n, activation='relu'))\n",
    "model_3.add(layers.Dense(layer3_n, activation='relu'))\n",
    "model_3.add(layers.Dense(1, activation='linear'))"
   ]
  },
  {
   "cell_type": "markdown",
   "id": "b51f529a",
   "metadata": {},
   "source": [
    "**arc 4**"
   ]
  },
  {
   "cell_type": "code",
   "execution_count": null,
   "id": "a949ad63",
   "metadata": {},
   "outputs": [],
   "source": [
    "model_4 = Sequential()\n",
    "\n",
    "input_dim = 20\n",
    "layer1_n = 32\n",
    "layer2_n = 16\n",
    "layer3_n = 8\n",
    "layer3_n = 4\n",
    "\n",
    "model_4.add(layers.Dense(layer1_n, input_dim = input_dim, activation='relu'))\n",
    "model_4.add(layers.Dense(layer2_n, activation='relu'))\n",
    "model_4.add(layers.Dense(layer3_n, activation='relu'))\n",
    "model_4.add(layers.Dense(layer4_n, activation='relu'))\n",
    "model_4.add(layers.Dense(1, activation='linear'))"
   ]
  },
  {
   "cell_type": "markdown",
   "id": "4b36d919",
   "metadata": {},
   "source": [
    "**arc 5**"
   ]
  },
  {
   "cell_type": "code",
   "execution_count": null,
   "id": "26af41bf",
   "metadata": {},
   "outputs": [],
   "source": [
    "model_5 = Sequential()\n",
    "\n",
    "input_dim = 20\n",
    "layer1_n = 32\n",
    "layer2_n = 16\n",
    "layer3_n = 8\n",
    "layer3_n = 4\n",
    "layer3_n = 2\n",
    "\n",
    "model_5.add(layers.Dense(layer1_n, input_dim = input_dim, activation='relu'))\n",
    "model_5.add(layers.Dense(layer2_n, activation='relu'))\n",
    "model_5.add(layers.Dense(layer3_n, activation='relu'))\n",
    "model_5.add(layers.Dense(layer4_n, activation='relu'))\n",
    "model_5.add(layers.Dense(layer5_n, activation='relu'))\n",
    "model_5.add(layers.Dense(1, activation='linear'))"
   ]
  },
  {
   "cell_type": "code",
   "execution_count": null,
   "id": "0eec1274",
   "metadata": {},
   "outputs": [],
   "source": []
  }
 ],
 "metadata": {
  "kernelspec": {
   "display_name": "Python 3 (ipykernel)",
   "language": "python",
   "name": "python3"
  },
  "language_info": {
   "codemirror_mode": {
    "name": "ipython",
    "version": 3
   },
   "file_extension": ".py",
   "mimetype": "text/x-python",
   "name": "python",
   "nbconvert_exporter": "python",
   "pygments_lexer": "ipython3",
   "version": "3.11.5"
  }
 },
 "nbformat": 4,
 "nbformat_minor": 5
}
