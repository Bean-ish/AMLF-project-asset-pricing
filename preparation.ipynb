{
 "cells": [
  {
   "cell_type": "code",
   "execution_count": 29,
   "id": "3abadadb",
   "metadata": {},
   "outputs": [],
   "source": [
    "import numpy as np\n",
    "import pandas as pd"
   ]
  },
  {
   "cell_type": "code",
   "execution_count": 30,
   "id": "b2d0bca9",
   "metadata": {},
   "outputs": [],
   "source": [
    "df = pd.read_csv('C:/users/LL/Documents/GitHub/AMLF_projects/data.csv')"
   ]
  },
  {
   "cell_type": "code",
   "execution_count": 31,
   "id": "ec4007ab",
   "metadata": {},
   "outputs": [],
   "source": [
    "df = df.drop(columns = ['Unnamed: 0'])"
   ]
  },
  {
   "cell_type": "code",
   "execution_count": 32,
   "id": "db0bc98c",
   "metadata": {},
   "outputs": [],
   "source": [
    "df['r(t+1)'] = df.groupby('permno')['return'].shift(-1)"
   ]
  },
  {
   "cell_type": "markdown",
   "id": "aae58b2d",
   "metadata": {},
   "source": [
    "### handle missing data\n",
    "\n",
    "According to note 30 (bottom of p 2248): \"Another issue is missing characteristics, which we replace with the cross-sectional median at each month for each stock, respectively.\" <br>\n",
    "Hence, calculate monthly cross-sectional median for features: **'mom1m', 'mom12m', 'chmom', 'mom36m', 'turn', 'dolvol', 'idiovol', 'beta', 'betasq', 'ep', 'sp', 'agr', 'nincr'**."
   ]
  },
  {
   "cell_type": "code",
   "execution_count": 23,
   "id": "f7e0e469",
   "metadata": {},
   "outputs": [],
   "source": [
    "# df['Date'] = pd.to_datetime(df['Date'])\n",
    "# df.set_index('Date', inplace=True)"
   ]
  },
  {
   "cell_type": "code",
   "execution_count": 27,
   "id": "345adc69",
   "metadata": {},
   "outputs": [
    {
     "data": {
      "text/html": [
       "<div>\n",
       "<style scoped>\n",
       "    .dataframe tbody tr th:only-of-type {\n",
       "        vertical-align: middle;\n",
       "    }\n",
       "\n",
       "    .dataframe tbody tr th {\n",
       "        vertical-align: top;\n",
       "    }\n",
       "\n",
       "    .dataframe thead th {\n",
       "        text-align: right;\n",
       "    }\n",
       "</style>\n",
       "<table border=\"1\" class=\"dataframe\">\n",
       "  <thead>\n",
       "    <tr style=\"text-align: right;\">\n",
       "      <th></th>\n",
       "      <th>permno</th>\n",
       "      <th>return</th>\n",
       "      <th>mom1m</th>\n",
       "      <th>mom12m</th>\n",
       "      <th>chmom</th>\n",
       "      <th>indmom</th>\n",
       "      <th>mom36m</th>\n",
       "      <th>turn</th>\n",
       "      <th>mvel1</th>\n",
       "      <th>dolvol</th>\n",
       "      <th>...</th>\n",
       "      <th>retvol</th>\n",
       "      <th>idiovol</th>\n",
       "      <th>beta</th>\n",
       "      <th>betasq</th>\n",
       "      <th>ep</th>\n",
       "      <th>sp</th>\n",
       "      <th>agr</th>\n",
       "      <th>nincr</th>\n",
       "      <th>return(t-1)</th>\n",
       "      <th>r(t+1)</th>\n",
       "    </tr>\n",
       "    <tr>\n",
       "      <th>Date</th>\n",
       "      <th></th>\n",
       "      <th></th>\n",
       "      <th></th>\n",
       "      <th></th>\n",
       "      <th></th>\n",
       "      <th></th>\n",
       "      <th></th>\n",
       "      <th></th>\n",
       "      <th></th>\n",
       "      <th></th>\n",
       "      <th></th>\n",
       "      <th></th>\n",
       "      <th></th>\n",
       "      <th></th>\n",
       "      <th></th>\n",
       "      <th></th>\n",
       "      <th></th>\n",
       "      <th></th>\n",
       "      <th></th>\n",
       "      <th></th>\n",
       "      <th></th>\n",
       "    </tr>\n",
       "  </thead>\n",
       "  <tbody>\n",
       "    <tr>\n",
       "      <th>2001-01-31</th>\n",
       "      <td>13610</td>\n",
       "      <td>-0.202242</td>\n",
       "      <td>0.277978</td>\n",
       "      <td>-0.082232</td>\n",
       "      <td>0.518490</td>\n",
       "      <td>0.198455</td>\n",
       "      <td>-0.258322</td>\n",
       "      <td>0.820391</td>\n",
       "      <td>9.897840e+05</td>\n",
       "      <td>12.968131</td>\n",
       "      <td>...</td>\n",
       "      <td>0.032888</td>\n",
       "      <td>0.056769</td>\n",
       "      <td>0.398706</td>\n",
       "      <td>0.158967</td>\n",
       "      <td>0.019041</td>\n",
       "      <td>1.472909</td>\n",
       "      <td>0.325935</td>\n",
       "      <td>5.0</td>\n",
       "      <td>NaN</td>\n",
       "      <td>0.161318</td>\n",
       "    </tr>\n",
       "    <tr>\n",
       "      <th>2001-01-31</th>\n",
       "      <td>13856</td>\n",
       "      <td>-0.112756</td>\n",
       "      <td>0.095372</td>\n",
       "      <td>0.300233</td>\n",
       "      <td>-0.147620</td>\n",
       "      <td>0.069669</td>\n",
       "      <td>0.000718</td>\n",
       "      <td>0.660636</td>\n",
       "      <td>7.152231e+07</td>\n",
       "      <td>17.527472</td>\n",
       "      <td>...</td>\n",
       "      <td>0.022389</td>\n",
       "      <td>0.042020</td>\n",
       "      <td>0.106574</td>\n",
       "      <td>0.011358</td>\n",
       "      <td>0.039970</td>\n",
       "      <td>0.397105</td>\n",
       "      <td>0.225463</td>\n",
       "      <td>1.0</td>\n",
       "      <td>NaN</td>\n",
       "      <td>0.046940</td>\n",
       "    </tr>\n",
       "    <tr>\n",
       "      <th>2001-01-31</th>\n",
       "      <td>13901</td>\n",
       "      <td>0.010566</td>\n",
       "      <td>0.166088</td>\n",
       "      <td>0.759861</td>\n",
       "      <td>0.504130</td>\n",
       "      <td>0.400659</td>\n",
       "      <td>-0.440929</td>\n",
       "      <td>0.775189</td>\n",
       "      <td>9.783550e+07</td>\n",
       "      <td>17.773933</td>\n",
       "      <td>...</td>\n",
       "      <td>0.023475</td>\n",
       "      <td>0.050243</td>\n",
       "      <td>0.088382</td>\n",
       "      <td>0.007811</td>\n",
       "      <td>0.142695</td>\n",
       "      <td>1.148088</td>\n",
       "      <td>-0.024383</td>\n",
       "      <td>2.0</td>\n",
       "      <td>NaN</td>\n",
       "      <td>0.094426</td>\n",
       "    </tr>\n",
       "    <tr>\n",
       "      <th>2001-01-31</th>\n",
       "      <td>13928</td>\n",
       "      <td>0.033114</td>\n",
       "      <td>0.006637</td>\n",
       "      <td>0.236486</td>\n",
       "      <td>0.039925</td>\n",
       "      <td>0.400659</td>\n",
       "      <td>0.025686</td>\n",
       "      <td>0.813903</td>\n",
       "      <td>1.451888e+07</td>\n",
       "      <td>16.111030</td>\n",
       "      <td>...</td>\n",
       "      <td>0.023917</td>\n",
       "      <td>0.037427</td>\n",
       "      <td>0.159983</td>\n",
       "      <td>0.025595</td>\n",
       "      <td>0.051091</td>\n",
       "      <td>1.138525</td>\n",
       "      <td>-0.069288</td>\n",
       "      <td>1.0</td>\n",
       "      <td>NaN</td>\n",
       "      <td>-0.084292</td>\n",
       "    </tr>\n",
       "    <tr>\n",
       "      <th>2001-01-31</th>\n",
       "      <td>13936</td>\n",
       "      <td>0.014335</td>\n",
       "      <td>0.009709</td>\n",
       "      <td>0.574141</td>\n",
       "      <td>0.224657</td>\n",
       "      <td>-0.075486</td>\n",
       "      <td>-0.397110</td>\n",
       "      <td>0.755288</td>\n",
       "      <td>3.550430e+05</td>\n",
       "      <td>12.518458</td>\n",
       "      <td>...</td>\n",
       "      <td>0.030343</td>\n",
       "      <td>0.068491</td>\n",
       "      <td>1.060490</td>\n",
       "      <td>1.124640</td>\n",
       "      <td>0.091598</td>\n",
       "      <td>6.902488</td>\n",
       "      <td>0.000838</td>\n",
       "      <td>0.0</td>\n",
       "      <td>NaN</td>\n",
       "      <td>0.149662</td>\n",
       "    </tr>\n",
       "  </tbody>\n",
       "</table>\n",
       "<p>5 rows × 23 columns</p>\n",
       "</div>"
      ],
      "text/plain": [
       "            permno    return     mom1m    mom12m     chmom    indmom  \\\n",
       "Date                                                                   \n",
       "2001-01-31   13610 -0.202242  0.277978 -0.082232  0.518490  0.198455   \n",
       "2001-01-31   13856 -0.112756  0.095372  0.300233 -0.147620  0.069669   \n",
       "2001-01-31   13901  0.010566  0.166088  0.759861  0.504130  0.400659   \n",
       "2001-01-31   13928  0.033114  0.006637  0.236486  0.039925  0.400659   \n",
       "2001-01-31   13936  0.014335  0.009709  0.574141  0.224657 -0.075486   \n",
       "\n",
       "              mom36m      turn         mvel1     dolvol  ...    retvol  \\\n",
       "Date                                                     ...             \n",
       "2001-01-31 -0.258322  0.820391  9.897840e+05  12.968131  ...  0.032888   \n",
       "2001-01-31  0.000718  0.660636  7.152231e+07  17.527472  ...  0.022389   \n",
       "2001-01-31 -0.440929  0.775189  9.783550e+07  17.773933  ...  0.023475   \n",
       "2001-01-31  0.025686  0.813903  1.451888e+07  16.111030  ...  0.023917   \n",
       "2001-01-31 -0.397110  0.755288  3.550430e+05  12.518458  ...  0.030343   \n",
       "\n",
       "             idiovol      beta    betasq        ep        sp       agr  nincr  \\\n",
       "Date                                                                            \n",
       "2001-01-31  0.056769  0.398706  0.158967  0.019041  1.472909  0.325935    5.0   \n",
       "2001-01-31  0.042020  0.106574  0.011358  0.039970  0.397105  0.225463    1.0   \n",
       "2001-01-31  0.050243  0.088382  0.007811  0.142695  1.148088 -0.024383    2.0   \n",
       "2001-01-31  0.037427  0.159983  0.025595  0.051091  1.138525 -0.069288    1.0   \n",
       "2001-01-31  0.068491  1.060490  1.124640  0.091598  6.902488  0.000838    0.0   \n",
       "\n",
       "            return(t-1)    r(t+1)  \n",
       "Date                               \n",
       "2001-01-31          NaN  0.161318  \n",
       "2001-01-31          NaN  0.046940  \n",
       "2001-01-31          NaN  0.094426  \n",
       "2001-01-31          NaN -0.084292  \n",
       "2001-01-31          NaN  0.149662  \n",
       "\n",
       "[5 rows x 23 columns]"
      ]
     },
     "execution_count": 27,
     "metadata": {},
     "output_type": "execute_result"
    }
   ],
   "source": [
    "df_filled = df.copy()\n",
    "for feature in ['mom1m', 'mom12m', 'chmom', 'mom36m', 'turn', 'dolvol', 'idiovol', 'beta', 'betasq', 'ep', 'sp', 'agr', 'nincr']:\n",
    "    df_filled[feature] = df_filled.groupby('Timestamp')[feature].transform(lambda x: x.fillna(x.median()))"
   ]
  },
  {
   "cell_type": "code",
   "execution_count": 25,
   "id": "3a7725f6",
   "metadata": {},
   "outputs": [],
   "source": [
    "df_filled = df.loc[:,\n",
    "                   ['permno', 'mom1m', 'mom12m', 'chmom', 'mom36m', 'turn', 'dolvol',\n",
    "                    'idiovol', 'beta', 'betasq', 'ep', 'sp', 'agr', 'nincr']].fillna(df.groupby([pd.Grouper(freq='M'), 'permno']).transform('median'))\n",
    "\n"
   ]
  },
  {
   "cell_type": "code",
   "execution_count": null,
   "id": "e55200d4",
   "metadata": {},
   "outputs": [],
   "source": []
  },
  {
   "cell_type": "code",
   "execution_count": 26,
   "id": "0d880463",
   "metadata": {},
   "outputs": [
    {
     "data": {
      "text/plain": [
       "permno        0\n",
       "mom1m         3\n",
       "mom12m      269\n",
       "chmom       269\n",
       "mom36m     1566\n",
       "turn          9\n",
       "dolvol        6\n",
       "idiovol     352\n",
       "beta        352\n",
       "betasq      352\n",
       "ep          473\n",
       "sp          473\n",
       "agr        1026\n",
       "nincr      2794\n",
       "dtype: int64"
      ]
     },
     "execution_count": 26,
     "metadata": {},
     "output_type": "execute_result"
    }
   ],
   "source": [
    "df_filled.isna().sum()"
   ]
  },
  {
   "cell_type": "code",
   "execution_count": null,
   "id": "27543acb",
   "metadata": {},
   "outputs": [],
   "source": [
    "df.loc[:, ['mom1m', 'mom12m', 'chmom', 'mom36m', 'turn', 'dolvol', 'idiovol', 'beta', 'betasq', 'ep', 'sp', 'agr', 'nincr']] = df_filled.loc[:,['mom1m', 'mom12m', 'chmom', 'mom36m', 'turn', 'dolvol', 'idiovol', 'beta', 'betasq', 'ep', 'sp', 'agr', 'nincr']]\n",
    "\n"
   ]
  },
  {
   "cell_type": "code",
   "execution_count": 14,
   "id": "17142a94",
   "metadata": {},
   "outputs": [
    {
     "data": {
      "text/plain": [
       "permno            0\n",
       "return            0\n",
       "mom1m             3\n",
       "mom12m          269\n",
       "chmom           269\n",
       "indmom            0\n",
       "mom36m         1566\n",
       "turn              9\n",
       "mvel1             0\n",
       "dolvol            6\n",
       "ill               0\n",
       "zerotrade         0\n",
       "baspread          0\n",
       "retvol            0\n",
       "idiovol         352\n",
       "beta            352\n",
       "betasq          352\n",
       "ep              473\n",
       "sp              473\n",
       "agr            1026\n",
       "nincr          2794\n",
       "return(t-1)     500\n",
       "r(t+1)          500\n",
       "dtype: int64"
      ]
     },
     "execution_count": 14,
     "metadata": {},
     "output_type": "execute_result"
    }
   ],
   "source": [
    "df.isna().sum()"
   ]
  },
  {
   "cell_type": "markdown",
   "id": "fe9f9b6e",
   "metadata": {},
   "source": [
    "### split data\n",
    "**split training, validation, and testing datasets**\n",
    "\n",
    "training : validation : testing = 6 yr : 4yr : 9 yr <br>\n",
    "Also drop the first and last month due to the absence of r(t+1) and return(t-1)"
   ]
  },
  {
   "cell_type": "code",
   "execution_count": 13,
   "id": "ede45edb",
   "metadata": {},
   "outputs": [],
   "source": [
    "training = df[:'2007-01-01'].dropna()\n",
    "validation = df['2007-01-02':'2011-01-01']\n",
    "testing = df[:'2020-01-01'].dropna()"
   ]
  },
  {
   "cell_type": "markdown",
   "id": "4511762c",
   "metadata": {},
   "source": [
    "**separate X and y**"
   ]
  },
  {
   "cell_type": "code",
   "execution_count": null,
   "id": "493c7e71",
   "metadata": {},
   "outputs": [],
   "source": [
    "X_train = training.drop(columns = ['permno', 'return', 'r(t+1)'])\n",
    "y_train = training['r(t+1)']"
   ]
  },
  {
   "cell_type": "code",
   "execution_count": null,
   "id": "563fc22c",
   "metadata": {},
   "outputs": [],
   "source": [
    "X_val = validation.drop(columns = ['permno', 'return', 'r(t+1)'])\n",
    "y_val = validation['r(t+1)']"
   ]
  },
  {
   "cell_type": "code",
   "execution_count": null,
   "id": "74d3af02",
   "metadata": {},
   "outputs": [],
   "source": [
    "X_test = testing.drop(columns = ['permno', 'return', 'r(t+1)'])\n",
    "y_test = testing['r(t+1)']"
   ]
  },
  {
   "cell_type": "code",
   "execution_count": null,
   "id": "28f08675",
   "metadata": {},
   "outputs": [],
   "source": [
    "print(X_train.isna().values.sum())\n",
    "print(X_val.isna().values.sum())\n",
    "print(X_test.isna().values.sum())\n",
    "print(y_train.isna().values.sum())\n",
    "print(y_val.isna().values.sum())\n",
    "print(y_test.isna().values.sum())"
   ]
  },
  {
   "cell_type": "code",
   "execution_count": null,
   "id": "1ad0dbd6",
   "metadata": {},
   "outputs": [],
   "source": []
  }
 ],
 "metadata": {
  "kernelspec": {
   "display_name": "Python 3 (ipykernel)",
   "language": "python",
   "name": "python3"
  },
  "language_info": {
   "codemirror_mode": {
    "name": "ipython",
    "version": 3
   },
   "file_extension": ".py",
   "mimetype": "text/x-python",
   "name": "python",
   "nbconvert_exporter": "python",
   "pygments_lexer": "ipython3",
   "version": "3.11.5"
  }
 },
 "nbformat": 4,
 "nbformat_minor": 5
}
