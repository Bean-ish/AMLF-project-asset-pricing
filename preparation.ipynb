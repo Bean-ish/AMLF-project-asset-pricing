{
 "cells": [
  {
   "cell_type": "code",
   "execution_count": null,
   "id": "3abadadb",
   "metadata": {},
   "outputs": [],
   "source": [
    "import numpy as np\n",
    "import pandas as pd"
   ]
  },
  {
   "cell_type": "code",
   "execution_count": null,
   "id": "b2d0bca9",
   "metadata": {},
   "outputs": [],
   "source": [
    "df = pd.read_csv('C:/users/LL/Documents/GitHub/AMLF_projects/data.csv')"
   ]
  },
  {
   "cell_type": "code",
   "execution_count": null,
   "id": "ec4007ab",
   "metadata": {},
   "outputs": [],
   "source": [
    "df = df.drop(columns = ['Unnamed: 0'])"
   ]
  },
  {
   "cell_type": "code",
   "execution_count": null,
   "id": "db0bc98c",
   "metadata": {},
   "outputs": [],
   "source": [
    "df['r(t+1)'] = df.groupby('permno')['return'].shift(-1)"
   ]
  },
  {
   "cell_type": "markdown",
   "id": "aae58b2d",
   "metadata": {},
   "source": [
    "### handle missing data\n",
    "\n",
    "According to note 30 (bottom of p 2248): \"Another issue is missing characteristics, which we replace with the cross-sectional median at each month for each stock, respectively.\" <br>\n",
    "Hence, calculate monthly cross-sectional median for features: **'mom1m', 'mom12m', 'chmom', 'mom36m', 'turn', 'dolvol', 'idiovol', 'beta', 'betasq', 'ep', 'sp', 'agr', 'nincr'**."
   ]
  },
  {
   "cell_type": "code",
   "execution_count": null,
   "id": "3a7725f6",
   "metadata": {},
   "outputs": [],
   "source": [
    "df.set_index('Date', inplace=True)\n",
    "\n",
    "df_filled = df.loc[:,\n",
    "                   ['permno', 'mom1m', 'mom12m', 'chmom', 'mom36m', 'turn', 'dolvol',\n",
    "                    'idiovol', 'beta', 'betasq', 'ep', 'sp', 'agr', 'nincr']].fillna(df.groupby(['permno']).transform('median'))\n",
    "\n",
    "df.loc[:, ['mom1m', 'mom12m', 'chmom', 'mom36m', 'turn', 'dolvol', 'idiovol', 'beta', 'betasq', 'ep', 'sp', 'agr', 'nincr']] = df_filled.loc[:,['mom1m', 'mom12m', 'chmom', 'mom36m', 'turn', 'dolvol', 'idiovol', 'beta', 'betasq', 'ep', 'sp', 'agr', 'nincr']]\n",
    "\n"
   ]
  },
  {
   "cell_type": "markdown",
   "id": "fe9f9b6e",
   "metadata": {},
   "source": [
    "### split data\n",
    "**split training, validation, and testing datasets**\n",
    "\n",
    "training : validation : testing = 6 yr : 4yr : 9 yr <br>\n",
    "Also drop the first and last month due to the absence of r(t+1) and return(t-1)"
   ]
  },
  {
   "cell_type": "code",
   "execution_count": null,
   "id": "ede45edb",
   "metadata": {},
   "outputs": [],
   "source": [
    "training = df[:'2007-01-01'].dropna()\n",
    "validation = df['2007-01-02':'2011-01-01']\n",
    "testing = df[:'2020-01-01'].dropna()"
   ]
  },
  {
   "cell_type": "markdown",
   "id": "4511762c",
   "metadata": {},
   "source": [
    "**separate X and y**"
   ]
  },
  {
   "cell_type": "code",
   "execution_count": null,
   "id": "493c7e71",
   "metadata": {},
   "outputs": [],
   "source": [
    "X_train = training.drop(columns = ['permno', 'return', 'r(t+1)'])\n",
    "y_train = training['r(t+1)']"
   ]
  },
  {
   "cell_type": "code",
   "execution_count": null,
   "id": "563fc22c",
   "metadata": {},
   "outputs": [],
   "source": [
    "X_val = validation.drop(columns = ['permno', 'return', 'r(t+1)'])\n",
    "y_val = validation['r(t+1)']"
   ]
  },
  {
   "cell_type": "code",
   "execution_count": null,
   "id": "74d3af02",
   "metadata": {},
   "outputs": [],
   "source": [
    "X_test = testing.drop(columns = ['permno', 'return', 'r(t+1)'])\n",
    "y_test = testing['r(t+1)']"
   ]
  },
  {
   "cell_type": "code",
   "execution_count": null,
   "id": "28f08675",
   "metadata": {},
   "outputs": [],
   "source": [
    "print(X_train.isna().values.sum())\n",
    "print(X_val.isna().values.sum())\n",
    "print(X_test.isna().values.sum())\n",
    "print(y_train.isna().values.sum())\n",
    "print(y_val.isna().values.sum())\n",
    "print(y_test.isna().values.sum())"
   ]
  },
  {
   "cell_type": "code",
   "execution_count": null,
   "id": "1ad0dbd6",
   "metadata": {},
   "outputs": [],
   "source": []
  }
 ],
 "metadata": {
  "kernelspec": {
   "display_name": "Python 3 (ipykernel)",
   "language": "python",
   "name": "python3"
  },
  "language_info": {
   "codemirror_mode": {
    "name": "ipython",
    "version": 3
   },
   "file_extension": ".py",
   "mimetype": "text/x-python",
   "name": "python",
   "nbconvert_exporter": "python",
   "pygments_lexer": "ipython3",
   "version": "3.11.5"
  }
 },
 "nbformat": 4,
 "nbformat_minor": 5
}
