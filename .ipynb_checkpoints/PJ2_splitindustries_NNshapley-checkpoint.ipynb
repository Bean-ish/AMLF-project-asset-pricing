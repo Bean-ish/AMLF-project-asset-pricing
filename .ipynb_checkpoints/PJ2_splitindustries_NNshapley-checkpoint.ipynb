{
 "cells": [
  {
   "cell_type": "markdown",
   "id": "968a2adf",
   "metadata": {},
   "source": [
    "### TO-DO\n",
    "\n",
    "fix the model issue -> get nice models trained on rolling windows to represent time changes<br>\n",
    "save all models - > load all models <br>\n",
    "interpret each model for each bin: model1 - bin 1 to 9; model2 - bin 1 to 9, etc.<br>\n",
    "PDP, ALE, permuation importance, correlation matrix<br>\n",
    "decide which features to interpret in the nest step: <br>\n",
    "shapley, LIME (change the feature indeces and the number of samples)<br>\n",
    "graph things: shapley - for each bin, graph results over time (9 graphs); <br>"
   ]
  },
  {
   "cell_type": "code",
   "execution_count": 63,
   "id": "98c87310",
   "metadata": {},
   "outputs": [],
   "source": [
    "import numpy as np\n",
    "import pandas as pd"
   ]
  },
  {
   "cell_type": "code",
   "execution_count": 64,
   "id": "24274489",
   "metadata": {},
   "outputs": [],
   "source": [
    "dtype_specification = {'SICCD': str}"
   ]
  },
  {
   "cell_type": "code",
   "execution_count": 65,
   "id": "2a412ef2",
   "metadata": {},
   "outputs": [],
   "source": [
    "df = pd.read_csv('less_messy_data_keyword_LESS.csv', dtype=dtype_specification)"
   ]
  },
  {
   "cell_type": "code",
   "execution_count": 66,
   "id": "75ea1ae0",
   "metadata": {},
   "outputs": [
    {
     "data": {
      "text/plain": [
       "Index(['Unnamed: 0.1', 'Unnamed: 0', 'Date', 'permno', 'return', 'mom1m',\n",
       "       'mom12m', 'chmom', 'indmom', 'mom36m', 'turn', 'mvel1', 'dolvol', 'ill',\n",
       "       'zerotrade', 'baspread', 'retvol', 'idiovol', 'beta', 'betasq', 'ep',\n",
       "       'sp', 'agr', 'nincr', 'return(t-1)', 'r(t+1)', 'SICCD', 'COMNAM'],\n",
       "      dtype='object')"
      ]
     },
     "execution_count": 66,
     "metadata": {},
     "output_type": "execute_result"
    }
   ],
   "source": [
    "df.columns"
   ]
  },
  {
   "cell_type": "code",
   "execution_count": 67,
   "id": "e4763113",
   "metadata": {},
   "outputs": [],
   "source": [
    "df = df.drop(columns = ['COMNAM', 'Unnamed: 0.1', 'Unnamed: 0', 'r(t+1)' , 'return'])"
   ]
  },
  {
   "cell_type": "code",
   "execution_count": 68,
   "id": "dbc7fc0d",
   "metadata": {},
   "outputs": [],
   "source": [
    "df = df.dropna()"
   ]
  },
  {
   "cell_type": "code",
   "execution_count": 69,
   "id": "ff26d6d3",
   "metadata": {},
   "outputs": [],
   "source": [
    "df.set_index('Date', inplace=True, drop = True)"
   ]
  },
  {
   "cell_type": "markdown",
   "id": "d2de48ef",
   "metadata": {},
   "source": [
    "### create bins"
   ]
  },
  {
   "cell_type": "code",
   "execution_count": 70,
   "id": "5b5e1db7",
   "metadata": {
    "collapsed": true
   },
   "outputs": [
    {
     "data": {
      "text/plain": [
       "['0200',\n",
       " '1310',\n",
       " '1311',\n",
       " '1380',\n",
       " '1429',\n",
       " '1521',\n",
       " '1623',\n",
       " '1629',\n",
       " '2013',\n",
       " '2046',\n",
       " '2070',\n",
       " '2080',\n",
       " '2090',\n",
       " '2110',\n",
       " '2190',\n",
       " '2270',\n",
       " '2282',\n",
       " '2310',\n",
       " '2329',\n",
       " '2330',\n",
       " '2339',\n",
       " '2510',\n",
       " '2522',\n",
       " '2541',\n",
       " '2640',\n",
       " '2672',\n",
       " '2710',\n",
       " '2711',\n",
       " '2810',\n",
       " '2819',\n",
       " '2821',\n",
       " '2830',\n",
       " '2834',\n",
       " '2836',\n",
       " '2840',\n",
       " '2844',\n",
       " '2850',\n",
       " '2890',\n",
       " '2910',\n",
       " '2911',\n",
       " '2992',\n",
       " '3010',\n",
       " '3079',\n",
       " '3081',\n",
       " '3089',\n",
       " '3140',\n",
       " '3171',\n",
       " '3210',\n",
       " '3241',\n",
       " '3291',\n",
       " '3296',\n",
       " '3310',\n",
       " '3360',\n",
       " '3399',\n",
       " '3420',\n",
       " '3440',\n",
       " '3460',\n",
       " '3465',\n",
       " '3490',\n",
       " '3499',\n",
       " '3510',\n",
       " '3520',\n",
       " '3523',\n",
       " '3533',\n",
       " '3540',\n",
       " '3550',\n",
       " '3560',\n",
       " '3570',\n",
       " '3577',\n",
       " '3585',\n",
       " '3610',\n",
       " '3629',\n",
       " '3660',\n",
       " '3661',\n",
       " '3663',\n",
       " '3670',\n",
       " '3672',\n",
       " '3674',\n",
       " '3679',\n",
       " '3690',\n",
       " '3692',\n",
       " '3710',\n",
       " '3714',\n",
       " '3715',\n",
       " '3720',\n",
       " '3743',\n",
       " '3810',\n",
       " '3811',\n",
       " '3820',\n",
       " '3826',\n",
       " '3840',\n",
       " '3845',\n",
       " '3860',\n",
       " '3861',\n",
       " '3910',\n",
       " '3970',\n",
       " '4190',\n",
       " '4200',\n",
       " '4210',\n",
       " '4212',\n",
       " '4730',\n",
       " '4812',\n",
       " '4813',\n",
       " '4832',\n",
       " '4833',\n",
       " '4890',\n",
       " '4910',\n",
       " '4911',\n",
       " '4920',\n",
       " '4924',\n",
       " '4930',\n",
       " '4941',\n",
       " '4950',\n",
       " '4953',\n",
       " '5000',\n",
       " '5010',\n",
       " '5012',\n",
       " '5032',\n",
       " '5040',\n",
       " '5047',\n",
       " '5050',\n",
       " '5060',\n",
       " '5064',\n",
       " '5080',\n",
       " '5086',\n",
       " '5090',\n",
       " '5099',\n",
       " '5111',\n",
       " '5120',\n",
       " '5122',\n",
       " '5130',\n",
       " '5140',\n",
       " '5311',\n",
       " '5330',\n",
       " '5411',\n",
       " '5510',\n",
       " '5511',\n",
       " '5531',\n",
       " '5640',\n",
       " '5712',\n",
       " '5730',\n",
       " '5810',\n",
       " '5812',\n",
       " '5900',\n",
       " '5910',\n",
       " '5940',\n",
       " '5960',\n",
       " '6020',\n",
       " '6021',\n",
       " '6022',\n",
       " '6025',\n",
       " '6030',\n",
       " '6082',\n",
       " '6090',\n",
       " '6099',\n",
       " '6141',\n",
       " '6150',\n",
       " '6210',\n",
       " '6211',\n",
       " '6282',\n",
       " '6311',\n",
       " '6330',\n",
       " '6331',\n",
       " '6361',\n",
       " '6500',\n",
       " '6513',\n",
       " '6531',\n",
       " '6698',\n",
       " '6710',\n",
       " '6711',\n",
       " '6712',\n",
       " '6719',\n",
       " '6798',\n",
       " '6799',\n",
       " '7011',\n",
       " '7260',\n",
       " '7350',\n",
       " '7353',\n",
       " '7370',\n",
       " '7372',\n",
       " '7373',\n",
       " '7379',\n",
       " '7380',\n",
       " '7389',\n",
       " '7391',\n",
       " '7539',\n",
       " '7820',\n",
       " '7929',\n",
       " '7940',\n",
       " '8060',\n",
       " '8062',\n",
       " '8071',\n",
       " '8090',\n",
       " '8220',\n",
       " '8299',\n",
       " '8322',\n",
       " '8711',\n",
       " '8730',\n",
       " '8731',\n",
       " '8740',\n",
       " '8741',\n",
       " '8742',\n",
       " '8780',\n",
       " '8980']"
      ]
     },
     "execution_count": 70,
     "metadata": {},
     "output_type": "execute_result"
    }
   ],
   "source": [
    "sorted(df['SICCD'].unique().tolist())"
   ]
  },
  {
   "cell_type": "code",
   "execution_count": 71,
   "id": "e409bbfc",
   "metadata": {},
   "outputs": [],
   "source": [
    "# bins = list()"
   ]
  },
  {
   "cell_type": "code",
   "execution_count": 72,
   "id": "6f223818",
   "metadata": {},
   "outputs": [],
   "source": [
    "# bin0 = df[df['SICCD'].str.startswith('0')]\n",
    "# bins.append(bin0)\n",
    "\n",
    "# bin1 = df[df['SICCD'].str.startswith('1')]\n",
    "# bins.append(bin1)\n",
    "\n",
    "# bin2 = df[df['SICCD'].str.startswith('2')]\n",
    "# bins.append(bin2)\n",
    "\n",
    "# bin3 = df[df['SICCD'].str.startswith('3')]\n",
    "# bins.append(bin3)\n",
    "\n",
    "# bin4 = df[df['SICCD'].str.startswith('4')]\n",
    "# bins.append(bin4)\n",
    "\n",
    "# bin5 = df[df['SICCD'].str.startswith('5')]\n",
    "# bins.append(bin5)\n",
    "\n",
    "# bin6 = df[df['SICCD'].str.startswith('6')]\n",
    "# bins.append(bin6)\n",
    "\n",
    "# bin7 = df[df['SICCD'].str.startswith('7')]\n",
    "# bins.append(bin7)\n",
    "\n",
    "# bin8 = df[df['SICCD'].str.startswith('8')]\n",
    "# bins.append(bin8)\n"
   ]
  },
  {
   "cell_type": "code",
   "execution_count": 73,
   "id": "3f753952",
   "metadata": {
    "collapsed": true
   },
   "outputs": [
    {
     "name": "stderr",
     "output_type": "stream",
     "text": [
      "C:\\Users\\LL\\AppData\\Local\\Temp\\ipykernel_19260\\3336369335.py:2: SettingWithCopyWarning: \n",
      "A value is trying to be set on a copy of a slice from a DataFrame\n",
      "\n",
      "See the caveats in the documentation: https://pandas.pydata.org/pandas-docs/stable/user_guide/indexing.html#returning-a-view-versus-a-copy\n",
      "  itm.drop(columns=['SICCD', 'permno'], inplace=True)\n",
      "C:\\Users\\LL\\AppData\\Local\\Temp\\ipykernel_19260\\3336369335.py:2: SettingWithCopyWarning: \n",
      "A value is trying to be set on a copy of a slice from a DataFrame\n",
      "\n",
      "See the caveats in the documentation: https://pandas.pydata.org/pandas-docs/stable/user_guide/indexing.html#returning-a-view-versus-a-copy\n",
      "  itm.drop(columns=['SICCD', 'permno'], inplace=True)\n",
      "C:\\Users\\LL\\AppData\\Local\\Temp\\ipykernel_19260\\3336369335.py:2: SettingWithCopyWarning: \n",
      "A value is trying to be set on a copy of a slice from a DataFrame\n",
      "\n",
      "See the caveats in the documentation: https://pandas.pydata.org/pandas-docs/stable/user_guide/indexing.html#returning-a-view-versus-a-copy\n",
      "  itm.drop(columns=['SICCD', 'permno'], inplace=True)\n",
      "C:\\Users\\LL\\AppData\\Local\\Temp\\ipykernel_19260\\3336369335.py:2: SettingWithCopyWarning: \n",
      "A value is trying to be set on a copy of a slice from a DataFrame\n",
      "\n",
      "See the caveats in the documentation: https://pandas.pydata.org/pandas-docs/stable/user_guide/indexing.html#returning-a-view-versus-a-copy\n",
      "  itm.drop(columns=['SICCD', 'permno'], inplace=True)\n",
      "C:\\Users\\LL\\AppData\\Local\\Temp\\ipykernel_19260\\3336369335.py:2: SettingWithCopyWarning: \n",
      "A value is trying to be set on a copy of a slice from a DataFrame\n",
      "\n",
      "See the caveats in the documentation: https://pandas.pydata.org/pandas-docs/stable/user_guide/indexing.html#returning-a-view-versus-a-copy\n",
      "  itm.drop(columns=['SICCD', 'permno'], inplace=True)\n",
      "C:\\Users\\LL\\AppData\\Local\\Temp\\ipykernel_19260\\3336369335.py:2: SettingWithCopyWarning: \n",
      "A value is trying to be set on a copy of a slice from a DataFrame\n",
      "\n",
      "See the caveats in the documentation: https://pandas.pydata.org/pandas-docs/stable/user_guide/indexing.html#returning-a-view-versus-a-copy\n",
      "  itm.drop(columns=['SICCD', 'permno'], inplace=True)\n",
      "C:\\Users\\LL\\AppData\\Local\\Temp\\ipykernel_19260\\3336369335.py:2: SettingWithCopyWarning: \n",
      "A value is trying to be set on a copy of a slice from a DataFrame\n",
      "\n",
      "See the caveats in the documentation: https://pandas.pydata.org/pandas-docs/stable/user_guide/indexing.html#returning-a-view-versus-a-copy\n",
      "  itm.drop(columns=['SICCD', 'permno'], inplace=True)\n",
      "C:\\Users\\LL\\AppData\\Local\\Temp\\ipykernel_19260\\3336369335.py:2: SettingWithCopyWarning: \n",
      "A value is trying to be set on a copy of a slice from a DataFrame\n",
      "\n",
      "See the caveats in the documentation: https://pandas.pydata.org/pandas-docs/stable/user_guide/indexing.html#returning-a-view-versus-a-copy\n",
      "  itm.drop(columns=['SICCD', 'permno'], inplace=True)\n",
      "C:\\Users\\LL\\AppData\\Local\\Temp\\ipykernel_19260\\3336369335.py:2: SettingWithCopyWarning: \n",
      "A value is trying to be set on a copy of a slice from a DataFrame\n",
      "\n",
      "See the caveats in the documentation: https://pandas.pydata.org/pandas-docs/stable/user_guide/indexing.html#returning-a-view-versus-a-copy\n",
      "  itm.drop(columns=['SICCD', 'permno'], inplace=True)\n"
     ]
    }
   ],
   "source": [
    "# for itm in bins:\n",
    "#     itm.drop(columns=['SICCD', 'permno'], inplace=True)"
   ]
  },
  {
   "cell_type": "code",
   "execution_count": 76,
   "id": "f181b5b8",
   "metadata": {},
   "outputs": [],
   "source": [
    "# pd.to_pickle(bins, 'dataframes.pkl')"
   ]
  },
  {
   "cell_type": "markdown",
   "id": "2b79fd8e",
   "metadata": {},
   "source": [
    "### read pickle"
   ]
  },
  {
   "cell_type": "code",
   "execution_count": null,
   "id": "65760fc3",
   "metadata": {},
   "outputs": [],
   "source": [
    "bins = pd.read_pickle('dataframes.pkl')"
   ]
  },
  {
   "cell_type": "code",
   "execution_count": 75,
   "id": "bbc168f1",
   "metadata": {
    "collapsed": true
   },
   "outputs": [
    {
     "name": "stdout",
     "output_type": "stream",
     "text": [
      "227\n",
      "------\n",
      "2270\n",
      "------\n",
      "11350\n",
      "------\n",
      "23154\n",
      "------\n",
      "6129\n",
      "------\n",
      "9988\n",
      "------\n",
      "17706\n",
      "------\n",
      "6356\n",
      "------\n",
      "5675\n",
      "------\n"
     ]
    }
   ],
   "source": [
    "# len of each bin\n",
    "for item in bins:\n",
    "    print(len(item))\n",
    "    print('------')"
   ]
  },
  {
   "cell_type": "code",
   "execution_count": 74,
   "id": "b90305ef",
   "metadata": {},
   "outputs": [
    {
     "name": "stdout",
     "output_type": "stream",
     "text": [
      "Index(['mom1m', 'mom12m', 'chmom', 'indmom', 'mom36m', 'turn', 'mvel1',\n",
      "       'dolvol', 'ill', 'zerotrade', 'baspread', 'retvol', 'idiovol', 'beta',\n",
      "       'betasq', 'ep', 'sp', 'agr', 'nincr', 'return(t-1)'],\n",
      "      dtype='object')\n",
      "20\n"
     ]
    }
   ],
   "source": [
    "print(bins[0].columns)\n",
    "print(len(bins[0].columns))"
   ]
  },
  {
   "cell_type": "markdown",
   "id": "33e1c2c4",
   "metadata": {},
   "source": [
    "### load models"
   ]
  },
  {
   "cell_type": "code",
   "execution_count": null,
   "id": "194ad69d",
   "metadata": {},
   "outputs": [],
   "source": [
    "## NN\n",
    "\n",
    "import keras\n",
    "from keras import layers\n",
    "from keras import Sequential"
   ]
  },
  {
   "cell_type": "code",
   "execution_count": null,
   "id": "321582e7",
   "metadata": {},
   "outputs": [],
   "source": []
  },
  {
   "cell_type": "code",
   "execution_count": null,
   "id": "1b423071",
   "metadata": {},
   "outputs": [],
   "source": []
  },
  {
   "cell_type": "markdown",
   "id": "e7f87b94",
   "metadata": {},
   "source": [
    "### interpreting - Shapley"
   ]
  },
  {
   "cell_type": "code",
   "execution_count": null,
   "id": "116dd9cd",
   "metadata": {},
   "outputs": [],
   "source": [
    "from itertools import combinations\n",
    "import math"
   ]
  },
  {
   "cell_type": "markdown",
   "id": "06e63a54",
   "metadata": {},
   "source": [
    "**for one model**"
   ]
  },
  {
   "cell_type": "code",
   "execution_count": null,
   "id": "398c06a5",
   "metadata": {},
   "outputs": [],
   "source": [
    "# load model into obj model\n",
    "# model = "
   ]
  },
  {
   "cell_type": "code",
   "execution_count": null,
   "id": "cca1ab0e",
   "metadata": {},
   "outputs": [],
   "source": [
    "M = 10  # the number of random samples to calculate marginal contribution from\n",
    "n_features = len(bins[0])\n",
    "feature_idxs = [7, 10, 16]\n",
    "sample_to_explain = list()\n",
    "shapley_value_all = list()\n",
    "\n",
    "\n",
    "for df in bins:  # for each bin\n",
    "    samplex = df.sample(10)\n",
    "    sample_to_explain.append(samplex)\n",
    "    xarray = samplex.values\n",
    "    \n",
    "    for i in range(10):\n",
    "        x = xarray[i]\n",
    "        print(\"selected instance: \", x)# instance of interest\n",
    "        shapley_values = []\n",
    "\n",
    "        for i in range(3):   # for each feature of interest\n",
    "            x_idx = [7, 10, 16]\n",
    "            marg_contri_feature = []\n",
    "\n",
    "            feature_of_interest = feature_idxs[i]\n",
    "            print(\"Index of feature of interest: \", feature_of_interest)\n",
    "            x_idx.remove(feature_of_interest)\n",
    "\n",
    "            all_combinations = []  # all coalitions of features minus the feature of interest\n",
    "            for r in range(1, len(x_idx) + 1):\n",
    "                combinations_of_length_r = list(combinations(x_idx, r))\n",
    "                all_combinations.extend(combinations_of_length_r)\n",
    "\n",
    "            for coalition in all_combinations:  # for each coalition\n",
    "                coalition = list(coalition)\n",
    "                print('the current coalition: ', coalition)\n",
    "                weight = math.factorial(len(coalition)) * math.factorial(n_features - len(coalition)-1)/ math.factorial(n_features)\n",
    "                print(\"weight of this coalition: \", weight)\n",
    "\n",
    "                marg_contri_coalition = []  # marginal contributions of this coalition\n",
    "\n",
    "                for _ in range(M):\n",
    "                    z = df.sample(1).values[0]  # random select sample    \n",
    "\n",
    "                    # construct two new instances\n",
    "                    x_orig = np.array([x[i] if i in coalition + [feature_of_interest] else z[i] for i in range(n_features)])\n",
    "                    x_rando = np.array([x[i] if i in coalition else z[i] for i in range(n_features)])             \n",
    "\n",
    "                    # calculate marginal contribution\n",
    "                    marginal_contribution = model.predict(x_orig.reshape(1, -1))[0][0] - model.predict(x_rando.reshape(1, -1))[0][0]\n",
    "                    marg_contri_coalition.append(marginal_contribution)\n",
    "\n",
    "                sigma_j = sum(marg_contri_coalition) / len(marg_contri_coalition)\n",
    "                shapley_coalition = sigma_j*weight  # for one coaltion examined for feature of interest\n",
    "                marg_contri_feature.append(shapley_coalition)\n",
    "\n",
    "            shapley_j = sum(marg_contri_feature)  # shapley value of feature j\n",
    "            shapley_values.append(shapley_j)\n",
    "\n",
    "            print(\"feature of interest: \", feature_of_interest)\n",
    "            print(\"shapley value of this feature: \", shapley_j)\n",
    "            print('--------')\n",
    "            print('--------')\n",
    "        shapley_value_all.append(shapley_values)"
   ]
  },
  {
   "cell_type": "code",
   "execution_count": null,
   "id": "f4ca1336",
   "metadata": {},
   "outputs": [],
   "source": [
    "all_sample = pd.concat([sample_to_explain[0], sample_to_explain[1]], ignore_index=True)\n",
    "all_sample = pd.concat([all_sample, sample_to_explain[2]], ignore_index=True)\n",
    "all_sample = pd.concat([all_sample, sample_to_explain[3]], ignore_index=True)\n",
    "all_sample = pd.concat([all_sample, sample_to_explain[4]], ignore_index=True)"
   ]
  },
  {
   "cell_type": "code",
   "execution_count": null,
   "id": "4ace9d4e",
   "metadata": {},
   "outputs": [],
   "source": [
    "all_sample"
   ]
  },
  {
   "cell_type": "code",
   "execution_count": null,
   "id": "0d495fb1",
   "metadata": {},
   "outputs": [],
   "source": [
    "shapleydf = pd.DataFrame(shapley_value_all, columns = ['feature: dolvol', 'feature: baspred', 'feature: sp'])"
   ]
  },
  {
   "cell_type": "code",
   "execution_count": null,
   "id": "b52298c7",
   "metadata": {},
   "outputs": [],
   "source": [
    "shapley_mtx = pd.concat([all_sample, shapleydf], axis=1)"
   ]
  },
  {
   "cell_type": "code",
   "execution_count": null,
   "id": "5cafd71d",
   "metadata": {},
   "outputs": [],
   "source": []
  },
  {
   "cell_type": "code",
   "execution_count": null,
   "id": "b998ee0a",
   "metadata": {},
   "outputs": [],
   "source": []
  }
 ],
 "metadata": {
  "kernelspec": {
   "display_name": "Python 3 (ipykernel)",
   "language": "python",
   "name": "python3"
  },
  "language_info": {
   "codemirror_mode": {
    "name": "ipython",
    "version": 3
   },
   "file_extension": ".py",
   "mimetype": "text/x-python",
   "name": "python",
   "nbconvert_exporter": "python",
   "pygments_lexer": "ipython3",
   "version": "3.11.5"
  }
 },
 "nbformat": 4,
 "nbformat_minor": 5
}
