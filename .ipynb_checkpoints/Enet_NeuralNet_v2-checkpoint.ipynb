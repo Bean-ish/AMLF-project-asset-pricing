{
 "cells": [
  {
   "cell_type": "code",
   "execution_count": 1,
   "id": "10e35d16",
   "metadata": {},
   "outputs": [],
   "source": [
    "import numpy as np\n",
    "import pandas as pd"
   ]
  },
  {
   "cell_type": "code",
   "execution_count": 2,
   "id": "8fdfe2d8",
   "metadata": {},
   "outputs": [],
   "source": [
    "df = pd.read_csv('C:/users/LL/Documents/GitHub/AMLF_projects/data.csv')"
   ]
  },
  {
   "cell_type": "code",
   "execution_count": 3,
   "id": "5f9bfc1b",
   "metadata": {},
   "outputs": [],
   "source": [
    "df = df.drop(columns = ['Unnamed: 0'])"
   ]
  },
  {
   "cell_type": "code",
   "execution_count": 4,
   "id": "485ca046",
   "metadata": {
    "scrolled": true
   },
   "outputs": [
    {
     "data": {
      "text/html": [
       "<div>\n",
       "<style scoped>\n",
       "    .dataframe tbody tr th:only-of-type {\n",
       "        vertical-align: middle;\n",
       "    }\n",
       "\n",
       "    .dataframe tbody tr th {\n",
       "        vertical-align: top;\n",
       "    }\n",
       "\n",
       "    .dataframe thead th {\n",
       "        text-align: right;\n",
       "    }\n",
       "</style>\n",
       "<table border=\"1\" class=\"dataframe\">\n",
       "  <thead>\n",
       "    <tr style=\"text-align: right;\">\n",
       "      <th></th>\n",
       "      <th>Date</th>\n",
       "      <th>permno</th>\n",
       "      <th>return</th>\n",
       "      <th>mom1m</th>\n",
       "      <th>mom12m</th>\n",
       "      <th>chmom</th>\n",
       "      <th>indmom</th>\n",
       "      <th>mom36m</th>\n",
       "      <th>turn</th>\n",
       "      <th>mvel1</th>\n",
       "      <th>...</th>\n",
       "      <th>baspread</th>\n",
       "      <th>retvol</th>\n",
       "      <th>idiovol</th>\n",
       "      <th>beta</th>\n",
       "      <th>betasq</th>\n",
       "      <th>ep</th>\n",
       "      <th>sp</th>\n",
       "      <th>agr</th>\n",
       "      <th>nincr</th>\n",
       "      <th>return(t-1)</th>\n",
       "    </tr>\n",
       "  </thead>\n",
       "  <tbody>\n",
       "    <tr>\n",
       "      <th>0</th>\n",
       "      <td>2001-01-31</td>\n",
       "      <td>13610</td>\n",
       "      <td>-0.202242</td>\n",
       "      <td>0.277978</td>\n",
       "      <td>-0.082232</td>\n",
       "      <td>0.518490</td>\n",
       "      <td>0.198455</td>\n",
       "      <td>-0.258322</td>\n",
       "      <td>0.820391</td>\n",
       "      <td>9.897840e+05</td>\n",
       "      <td>...</td>\n",
       "      <td>0.037278</td>\n",
       "      <td>0.032888</td>\n",
       "      <td>0.056769</td>\n",
       "      <td>0.398706</td>\n",
       "      <td>0.158967</td>\n",
       "      <td>0.019041</td>\n",
       "      <td>1.472909</td>\n",
       "      <td>0.325935</td>\n",
       "      <td>5.0</td>\n",
       "      <td>NaN</td>\n",
       "    </tr>\n",
       "    <tr>\n",
       "      <th>1</th>\n",
       "      <td>2001-01-31</td>\n",
       "      <td>13856</td>\n",
       "      <td>-0.112756</td>\n",
       "      <td>0.095372</td>\n",
       "      <td>0.300233</td>\n",
       "      <td>-0.147620</td>\n",
       "      <td>0.069669</td>\n",
       "      <td>0.000718</td>\n",
       "      <td>0.660636</td>\n",
       "      <td>7.152231e+07</td>\n",
       "      <td>...</td>\n",
       "      <td>0.033983</td>\n",
       "      <td>0.022389</td>\n",
       "      <td>0.042020</td>\n",
       "      <td>0.106574</td>\n",
       "      <td>0.011358</td>\n",
       "      <td>0.039970</td>\n",
       "      <td>0.397105</td>\n",
       "      <td>0.225463</td>\n",
       "      <td>1.0</td>\n",
       "      <td>NaN</td>\n",
       "    </tr>\n",
       "    <tr>\n",
       "      <th>2</th>\n",
       "      <td>2001-01-31</td>\n",
       "      <td>13901</td>\n",
       "      <td>0.010566</td>\n",
       "      <td>0.166088</td>\n",
       "      <td>0.759861</td>\n",
       "      <td>0.504130</td>\n",
       "      <td>0.400659</td>\n",
       "      <td>-0.440929</td>\n",
       "      <td>0.775189</td>\n",
       "      <td>9.783550e+07</td>\n",
       "      <td>...</td>\n",
       "      <td>0.032844</td>\n",
       "      <td>0.023475</td>\n",
       "      <td>0.050243</td>\n",
       "      <td>0.088382</td>\n",
       "      <td>0.007811</td>\n",
       "      <td>0.142695</td>\n",
       "      <td>1.148088</td>\n",
       "      <td>-0.024383</td>\n",
       "      <td>2.0</td>\n",
       "      <td>NaN</td>\n",
       "    </tr>\n",
       "    <tr>\n",
       "      <th>3</th>\n",
       "      <td>2001-01-31</td>\n",
       "      <td>13928</td>\n",
       "      <td>0.033114</td>\n",
       "      <td>0.006637</td>\n",
       "      <td>0.236486</td>\n",
       "      <td>0.039925</td>\n",
       "      <td>0.400659</td>\n",
       "      <td>0.025686</td>\n",
       "      <td>0.813903</td>\n",
       "      <td>1.451888e+07</td>\n",
       "      <td>...</td>\n",
       "      <td>0.035964</td>\n",
       "      <td>0.023917</td>\n",
       "      <td>0.037427</td>\n",
       "      <td>0.159983</td>\n",
       "      <td>0.025595</td>\n",
       "      <td>0.051091</td>\n",
       "      <td>1.138525</td>\n",
       "      <td>-0.069288</td>\n",
       "      <td>1.0</td>\n",
       "      <td>NaN</td>\n",
       "    </tr>\n",
       "    <tr>\n",
       "      <th>4</th>\n",
       "      <td>2001-01-31</td>\n",
       "      <td>13936</td>\n",
       "      <td>0.014335</td>\n",
       "      <td>0.009709</td>\n",
       "      <td>0.574141</td>\n",
       "      <td>0.224657</td>\n",
       "      <td>-0.075486</td>\n",
       "      <td>-0.397110</td>\n",
       "      <td>0.755288</td>\n",
       "      <td>3.550430e+05</td>\n",
       "      <td>...</td>\n",
       "      <td>0.031413</td>\n",
       "      <td>0.030343</td>\n",
       "      <td>0.068491</td>\n",
       "      <td>1.060490</td>\n",
       "      <td>1.124640</td>\n",
       "      <td>0.091598</td>\n",
       "      <td>6.902488</td>\n",
       "      <td>0.000838</td>\n",
       "      <td>0.0</td>\n",
       "      <td>NaN</td>\n",
       "    </tr>\n",
       "  </tbody>\n",
       "</table>\n",
       "<p>5 rows × 23 columns</p>\n",
       "</div>"
      ],
      "text/plain": [
       "         Date  permno    return     mom1m    mom12m     chmom    indmom  \\\n",
       "0  2001-01-31   13610 -0.202242  0.277978 -0.082232  0.518490  0.198455   \n",
       "1  2001-01-31   13856 -0.112756  0.095372  0.300233 -0.147620  0.069669   \n",
       "2  2001-01-31   13901  0.010566  0.166088  0.759861  0.504130  0.400659   \n",
       "3  2001-01-31   13928  0.033114  0.006637  0.236486  0.039925  0.400659   \n",
       "4  2001-01-31   13936  0.014335  0.009709  0.574141  0.224657 -0.075486   \n",
       "\n",
       "     mom36m      turn         mvel1  ...  baspread    retvol   idiovol  \\\n",
       "0 -0.258322  0.820391  9.897840e+05  ...  0.037278  0.032888  0.056769   \n",
       "1  0.000718  0.660636  7.152231e+07  ...  0.033983  0.022389  0.042020   \n",
       "2 -0.440929  0.775189  9.783550e+07  ...  0.032844  0.023475  0.050243   \n",
       "3  0.025686  0.813903  1.451888e+07  ...  0.035964  0.023917  0.037427   \n",
       "4 -0.397110  0.755288  3.550430e+05  ...  0.031413  0.030343  0.068491   \n",
       "\n",
       "       beta    betasq        ep        sp       agr  nincr  return(t-1)  \n",
       "0  0.398706  0.158967  0.019041  1.472909  0.325935    5.0          NaN  \n",
       "1  0.106574  0.011358  0.039970  0.397105  0.225463    1.0          NaN  \n",
       "2  0.088382  0.007811  0.142695  1.148088 -0.024383    2.0          NaN  \n",
       "3  0.159983  0.025595  0.051091  1.138525 -0.069288    1.0          NaN  \n",
       "4  1.060490  1.124640  0.091598  6.902488  0.000838    0.0          NaN  \n",
       "\n",
       "[5 rows x 23 columns]"
      ]
     },
     "execution_count": 4,
     "metadata": {},
     "output_type": "execute_result"
    }
   ],
   "source": [
    "df.head()"
   ]
  },
  {
   "cell_type": "code",
   "execution_count": 5,
   "id": "6b0fa84e",
   "metadata": {},
   "outputs": [
    {
     "name": "stdout",
     "output_type": "stream",
     "text": [
      "23\n",
      "Index(['Date', 'permno', 'return', 'mom1m', 'mom12m', 'chmom', 'indmom',\n",
      "       'mom36m', 'turn', 'mvel1', 'dolvol', 'ill', 'zerotrade', 'baspread',\n",
      "       'retvol', 'idiovol', 'beta', 'betasq', 'ep', 'sp', 'agr', 'nincr',\n",
      "       'return(t-1)'],\n",
      "      dtype='object')\n"
     ]
    }
   ],
   "source": [
    "print(len(df.columns))\n",
    "print(df.columns)"
   ]
  },
  {
   "cell_type": "code",
   "execution_count": 6,
   "id": "46799c1f",
   "metadata": {},
   "outputs": [
    {
     "data": {
      "text/plain": [
       "0         12.968131\n",
       "1         17.527472\n",
       "2         17.773933\n",
       "3         16.111030\n",
       "4         12.518458\n",
       "            ...    \n",
       "113995    10.203254\n",
       "113996     9.558279\n",
       "113997    11.116588\n",
       "113998    14.259460\n",
       "113999    14.433653\n",
       "Name: dolvol, Length: 114000, dtype: float64"
      ]
     },
     "execution_count": 6,
     "metadata": {},
     "output_type": "execute_result"
    }
   ],
   "source": [
    "df['dolvol']"
   ]
  },
  {
   "cell_type": "code",
   "execution_count": 7,
   "id": "8cccd2f2",
   "metadata": {},
   "outputs": [
    {
     "data": {
      "text/plain": [
       "Date            object\n",
       "permno           int64\n",
       "return         float64\n",
       "mom1m          float64\n",
       "mom12m         float64\n",
       "chmom          float64\n",
       "indmom         float64\n",
       "mom36m         float64\n",
       "turn           float64\n",
       "mvel1          float64\n",
       "dolvol         float64\n",
       "ill            float64\n",
       "zerotrade      float64\n",
       "baspread       float64\n",
       "retvol         float64\n",
       "idiovol        float64\n",
       "beta           float64\n",
       "betasq         float64\n",
       "ep             float64\n",
       "sp             float64\n",
       "agr            float64\n",
       "nincr          float64\n",
       "return(t-1)    float64\n",
       "dtype: object"
      ]
     },
     "execution_count": 7,
     "metadata": {},
     "output_type": "execute_result"
    }
   ],
   "source": [
    "df.dtypes"
   ]
  },
  {
   "cell_type": "markdown",
   "id": "64903994",
   "metadata": {},
   "source": [
    "According to note 30: \"Therefore, to predict returns at month t+1, we use most recent monthly characteristics at the end of month t.\" <br>\n",
    "Hence, **shift return t+1 to serve as response: r(t+1)**."
   ]
  },
  {
   "cell_type": "code",
   "execution_count": 8,
   "id": "4ba792e3",
   "metadata": {},
   "outputs": [],
   "source": [
    "df['r(t+1)'] = df.groupby('permno')['return'].shift(-1)"
   ]
  },
  {
   "cell_type": "code",
   "execution_count": 9,
   "id": "5a1d5769",
   "metadata": {},
   "outputs": [
    {
     "data": {
      "text/plain": [
       "114000"
      ]
     },
     "execution_count": 9,
     "metadata": {},
     "output_type": "execute_result"
    }
   ],
   "source": [
    "len(df)"
   ]
  },
  {
   "cell_type": "code",
   "execution_count": 10,
   "id": "1521d1f9",
   "metadata": {},
   "outputs": [
    {
     "data": {
      "text/plain": [
       "Date              0\n",
       "permno            0\n",
       "return            0\n",
       "mom1m             3\n",
       "mom12m          269\n",
       "chmom           269\n",
       "indmom            0\n",
       "mom36m         1566\n",
       "turn              9\n",
       "mvel1             0\n",
       "dolvol            6\n",
       "ill               0\n",
       "zerotrade         0\n",
       "baspread          0\n",
       "retvol            0\n",
       "idiovol         352\n",
       "beta            352\n",
       "betasq          352\n",
       "ep              473\n",
       "sp              473\n",
       "agr            1026\n",
       "nincr          2794\n",
       "return(t-1)     500\n",
       "r(t+1)          500\n",
       "dtype: int64"
      ]
     },
     "execution_count": 10,
     "metadata": {},
     "output_type": "execute_result"
    }
   ],
   "source": [
    "df.isna().sum()"
   ]
  },
  {
   "cell_type": "markdown",
   "id": "2110f651",
   "metadata": {},
   "source": [
    "### handle missing data\n",
    "\n",
    "According to note 30 (bottom of p 2248): \"Another issue is missing characteristics, which we replace with the cross-sectional median at each month for each stock, respectively.\" <br>\n",
    "Hence, calculate monthly cross-sectional median for features: **'mom1m', 'mom12m', 'chmom', 'mom36m', 'turn', 'dolvol', 'idiovol', 'beta', 'betasq', 'ep', 'sp', 'agr', 'nincr'**."
   ]
  },
  {
   "cell_type": "code",
   "execution_count": 11,
   "id": "581efc30",
   "metadata": {},
   "outputs": [],
   "source": [
    "df_filled = df.copy()\n",
    "for feature in ['mom1m', 'mom12m', 'chmom', 'mom36m', 'turn', 'dolvol', 'idiovol', 'beta', 'betasq', 'ep', 'sp', 'agr', 'nincr']:\n",
    "    df_filled[feature] = df_filled.groupby('Date')[feature].transform(lambda x: x.fillna(x.median()))"
   ]
  },
  {
   "cell_type": "code",
   "execution_count": 12,
   "id": "8094662b",
   "metadata": {},
   "outputs": [
    {
     "data": {
      "text/plain": [
       "Date             0\n",
       "permno           0\n",
       "return           0\n",
       "mom1m            0\n",
       "mom12m           0\n",
       "chmom            0\n",
       "indmom           0\n",
       "mom36m           0\n",
       "turn             0\n",
       "mvel1            0\n",
       "dolvol           0\n",
       "ill              0\n",
       "zerotrade        0\n",
       "baspread         0\n",
       "retvol           0\n",
       "idiovol          0\n",
       "beta             0\n",
       "betasq           0\n",
       "ep               0\n",
       "sp               0\n",
       "agr              0\n",
       "nincr            0\n",
       "return(t-1)    500\n",
       "r(t+1)         500\n",
       "dtype: int64"
      ]
     },
     "execution_count": 12,
     "metadata": {},
     "output_type": "execute_result"
    }
   ],
   "source": [
    "df_filled.isna().sum()"
   ]
  },
  {
   "cell_type": "code",
   "execution_count": 13,
   "id": "56d22efa",
   "metadata": {},
   "outputs": [],
   "source": [
    "df.loc[:, ['mom1m', 'mom12m', 'chmom', 'mom36m', 'turn', 'dolvol', 'idiovol', 'beta', 'betasq', 'ep', 'sp', 'agr', 'nincr']] = df_filled.loc[:,['mom1m', 'mom12m', 'chmom', 'mom36m', 'turn', 'dolvol', 'idiovol', 'beta', 'betasq', 'ep', 'sp', 'agr', 'nincr']]"
   ]
  },
  {
   "cell_type": "code",
   "execution_count": 14,
   "id": "be9379e9",
   "metadata": {},
   "outputs": [
    {
     "data": {
      "text/plain": [
       "Date             0\n",
       "permno           0\n",
       "return           0\n",
       "mom1m            0\n",
       "mom12m           0\n",
       "chmom            0\n",
       "indmom           0\n",
       "mom36m           0\n",
       "turn             0\n",
       "mvel1            0\n",
       "dolvol           0\n",
       "ill              0\n",
       "zerotrade        0\n",
       "baspread         0\n",
       "retvol           0\n",
       "idiovol          0\n",
       "beta             0\n",
       "betasq           0\n",
       "ep               0\n",
       "sp               0\n",
       "agr              0\n",
       "nincr            0\n",
       "return(t-1)    500\n",
       "r(t+1)         500\n",
       "dtype: int64"
      ]
     },
     "execution_count": 14,
     "metadata": {},
     "output_type": "execute_result"
    }
   ],
   "source": [
    "df.isna().sum()"
   ]
  },
  {
   "cell_type": "code",
   "execution_count": 15,
   "id": "4f1f18f3",
   "metadata": {},
   "outputs": [],
   "source": [
    "df['Date'] = pd.to_datetime(df['Date'])\n",
    "\n",
    "# Set the datetime column as index\n",
    "df.set_index('Date', inplace=True, drop = True)"
   ]
  },
  {
   "cell_type": "code",
   "execution_count": 16,
   "id": "5b1f46c6",
   "metadata": {},
   "outputs": [],
   "source": [
    "from sklearn.preprocessing import StandardScaler\n",
    "\n",
    "scaler = StandardScaler()\n",
    "\n",
    "df_scaled = scaler.fit_transform(df)\n",
    "\n",
    "df_scaled = pd.DataFrame(df_scaled, columns=df.columns)\n"
   ]
  },
  {
   "cell_type": "code",
   "execution_count": 17,
   "id": "ff8f4b1a",
   "metadata": {},
   "outputs": [],
   "source": [
    "permno = df['permno'].reset_index(drop = True)"
   ]
  },
  {
   "cell_type": "code",
   "execution_count": 18,
   "id": "822df5fc",
   "metadata": {},
   "outputs": [],
   "source": [
    "df_scaled['permno'] = permno"
   ]
  },
  {
   "cell_type": "code",
   "execution_count": 19,
   "id": "0a730d57",
   "metadata": {},
   "outputs": [],
   "source": [
    "df_scaled.index = df.index"
   ]
  },
  {
   "cell_type": "code",
   "execution_count": 20,
   "id": "4e5993c1",
   "metadata": {},
   "outputs": [],
   "source": [
    "df_scaled_2 = df_scaled.drop(columns = [ 'permno', 'return'])"
   ]
  },
  {
   "cell_type": "markdown",
   "id": "d29cea22",
   "metadata": {},
   "source": [
    "### split data"
   ]
  },
  {
   "cell_type": "markdown",
   "id": "ad622f5c",
   "metadata": {},
   "source": [
    "**split training, validation, and testing datasets**\n",
    "\n",
    "training : validation : testing = 6 yr : 4yr : 9 yr <br>\n",
    "Also drop the first and last month due to the absence of r(t+1) and return(t-1)"
   ]
  },
  {
   "cell_type": "code",
   "execution_count": 21,
   "id": "4c7915c0",
   "metadata": {},
   "outputs": [],
   "source": [
    "training = df_scaled_2[:'2007-01-01'].dropna()\n",
    "validation = df_scaled_2['2007-01-01':'2011-01-01']\n",
    "testing = df_scaled_2['2011-01-01':].dropna()"
   ]
  },
  {
   "cell_type": "code",
   "execution_count": 22,
   "id": "dd1f3744",
   "metadata": {},
   "outputs": [],
   "source": [
    "training_combined = df_scaled_2[:'2011-01-01'].dropna()"
   ]
  },
  {
   "cell_type": "code",
   "execution_count": null,
   "id": "c613068a",
   "metadata": {},
   "outputs": [],
   "source": []
  },
  {
   "cell_type": "markdown",
   "id": "fd311e5b",
   "metadata": {},
   "source": [
    "**separate X and y**"
   ]
  },
  {
   "cell_type": "code",
   "execution_count": 23,
   "id": "ef894e41",
   "metadata": {},
   "outputs": [],
   "source": [
    "X_train = training.drop(columns = ['r(t+1)'])\n",
    "y_train = training['r(t+1)']"
   ]
  },
  {
   "cell_type": "code",
   "execution_count": 24,
   "id": "513ee4bb",
   "metadata": {},
   "outputs": [],
   "source": [
    "X_val = validation.drop(columns = ['r(t+1)'])\n",
    "y_val = validation['r(t+1)']"
   ]
  },
  {
   "cell_type": "code",
   "execution_count": 25,
   "id": "b557f131",
   "metadata": {},
   "outputs": [],
   "source": [
    "X_test = testing.drop(columns = ['r(t+1)'])\n",
    "y_test = testing['r(t+1)']"
   ]
  },
  {
   "cell_type": "code",
   "execution_count": 26,
   "id": "b683b73e",
   "metadata": {},
   "outputs": [],
   "source": [
    "X_train_combined = training_combined.drop(columns = ['r(t+1)'])\n",
    "y_train_combined = training_combined['r(t+1)']"
   ]
  },
  {
   "cell_type": "code",
   "execution_count": 27,
   "id": "5127d428",
   "metadata": {},
   "outputs": [],
   "source": [
    "# print(X_train.isna().values.sum())\n",
    "# print(X_val.isna().values.sum())\n",
    "# print(X_test.isna().values.sum())\n",
    "# print(y_train.isna().values.sum())\n",
    "# print(y_val.isna().values.sum())\n",
    "# print(y_test.isna().values.sum())"
   ]
  },
  {
   "cell_type": "code",
   "execution_count": 28,
   "id": "15eb2a25",
   "metadata": {},
   "outputs": [],
   "source": [
    "# print(training.shape)\n",
    "# print(validation.shape)\n",
    "# print(testing.shape)"
   ]
  },
  {
   "cell_type": "code",
   "execution_count": null,
   "id": "9ce0c318",
   "metadata": {},
   "outputs": [],
   "source": []
  },
  {
   "cell_type": "code",
   "execution_count": null,
   "id": "e8c34a56",
   "metadata": {},
   "outputs": [],
   "source": []
  },
  {
   "cell_type": "markdown",
   "id": "bab15222",
   "metadata": {},
   "source": [
    "### subsetting data: top and bottom 100 stocks on market value (mvel1)"
   ]
  },
  {
   "cell_type": "code",
   "execution_count": 30,
   "id": "e27b0b64",
   "metadata": {},
   "outputs": [],
   "source": [
    "# subset = df_scaled.copy()"
   ]
  },
  {
   "cell_type": "code",
   "execution_count": 31,
   "id": "e6478684",
   "metadata": {},
   "outputs": [
    {
     "data": {
      "text/html": [
       "<div>\n",
       "<style scoped>\n",
       "    .dataframe tbody tr th:only-of-type {\n",
       "        vertical-align: middle;\n",
       "    }\n",
       "\n",
       "    .dataframe tbody tr th {\n",
       "        vertical-align: top;\n",
       "    }\n",
       "\n",
       "    .dataframe thead th {\n",
       "        text-align: right;\n",
       "    }\n",
       "</style>\n",
       "<table border=\"1\" class=\"dataframe\">\n",
       "  <thead>\n",
       "    <tr style=\"text-align: right;\">\n",
       "      <th></th>\n",
       "      <th>mom1m</th>\n",
       "      <th>mom12m</th>\n",
       "      <th>chmom</th>\n",
       "      <th>indmom</th>\n",
       "      <th>mom36m</th>\n",
       "      <th>turn</th>\n",
       "      <th>mvel1</th>\n",
       "      <th>dolvol</th>\n",
       "      <th>ill</th>\n",
       "      <th>zerotrade</th>\n",
       "      <th>...</th>\n",
       "      <th>retvol</th>\n",
       "      <th>idiovol</th>\n",
       "      <th>beta</th>\n",
       "      <th>betasq</th>\n",
       "      <th>ep</th>\n",
       "      <th>sp</th>\n",
       "      <th>agr</th>\n",
       "      <th>nincr</th>\n",
       "      <th>return(t-1)</th>\n",
       "      <th>r(t+1)</th>\n",
       "    </tr>\n",
       "    <tr>\n",
       "      <th>Date</th>\n",
       "      <th></th>\n",
       "      <th></th>\n",
       "      <th></th>\n",
       "      <th></th>\n",
       "      <th></th>\n",
       "      <th></th>\n",
       "      <th></th>\n",
       "      <th></th>\n",
       "      <th></th>\n",
       "      <th></th>\n",
       "      <th></th>\n",
       "      <th></th>\n",
       "      <th></th>\n",
       "      <th></th>\n",
       "      <th></th>\n",
       "      <th></th>\n",
       "      <th></th>\n",
       "      <th></th>\n",
       "      <th></th>\n",
       "      <th></th>\n",
       "      <th></th>\n",
       "    </tr>\n",
       "  </thead>\n",
       "  <tbody>\n",
       "    <tr>\n",
       "      <th>2001-01-31</th>\n",
       "      <td>2.067047</td>\n",
       "      <td>-0.423509</td>\n",
       "      <td>1.027879</td>\n",
       "      <td>0.298817</td>\n",
       "      <td>-0.641896</td>\n",
       "      <td>-0.461379</td>\n",
       "      <td>-0.241530</td>\n",
       "      <td>-0.183589</td>\n",
       "      <td>-0.110125</td>\n",
       "      <td>-0.187966</td>\n",
       "      <td>...</td>\n",
       "      <td>0.343957</td>\n",
       "      <td>0.054602</td>\n",
       "      <td>-1.125798</td>\n",
       "      <td>-0.818182</td>\n",
       "      <td>0.109832</td>\n",
       "      <td>-0.005714</td>\n",
       "      <td>1.352752</td>\n",
       "      <td>3.271570</td>\n",
       "      <td>NaN</td>\n",
       "      <td>1.068007</td>\n",
       "    </tr>\n",
       "    <tr>\n",
       "      <th>2001-01-31</th>\n",
       "      <td>0.647658</td>\n",
       "      <td>0.318155</td>\n",
       "      <td>-0.292685</td>\n",
       "      <td>-0.154773</td>\n",
       "      <td>-0.359650</td>\n",
       "      <td>-0.551531</td>\n",
       "      <td>2.804602</td>\n",
       "      <td>1.483815</td>\n",
       "      <td>-0.110588</td>\n",
       "      <td>-0.187966</td>\n",
       "      <td>...</td>\n",
       "      <td>-0.213394</td>\n",
       "      <td>-0.403658</td>\n",
       "      <td>-1.604035</td>\n",
       "      <td>-0.904739</td>\n",
       "      <td>0.164941</td>\n",
       "      <td>-0.435813</td>\n",
       "      <td>1.039952</td>\n",
       "      <td>0.044234</td>\n",
       "      <td>NaN</td>\n",
       "      <td>0.234089</td>\n",
       "    </tr>\n",
       "    <tr>\n",
       "      <th>2001-01-31</th>\n",
       "      <td>1.197333</td>\n",
       "      <td>1.209452</td>\n",
       "      <td>0.999410</td>\n",
       "      <td>1.010986</td>\n",
       "      <td>-0.840862</td>\n",
       "      <td>-0.486887</td>\n",
       "      <td>3.941007</td>\n",
       "      <td>1.573948</td>\n",
       "      <td>-0.110588</td>\n",
       "      <td>-0.187966</td>\n",
       "      <td>...</td>\n",
       "      <td>-0.155772</td>\n",
       "      <td>-0.148161</td>\n",
       "      <td>-1.633817</td>\n",
       "      <td>-0.906819</td>\n",
       "      <td>0.435438</td>\n",
       "      <td>-0.135575</td>\n",
       "      <td>0.262103</td>\n",
       "      <td>0.851068</td>\n",
       "      <td>NaN</td>\n",
       "      <td>0.580304</td>\n",
       "    </tr>\n",
       "    <tr>\n",
       "      <th>2001-01-31</th>\n",
       "      <td>-0.042072</td>\n",
       "      <td>0.194538</td>\n",
       "      <td>0.079124</td>\n",
       "      <td>1.010986</td>\n",
       "      <td>-0.332444</td>\n",
       "      <td>-0.465040</td>\n",
       "      <td>0.342760</td>\n",
       "      <td>0.965806</td>\n",
       "      <td>-0.110564</td>\n",
       "      <td>-0.187966</td>\n",
       "      <td>...</td>\n",
       "      <td>-0.132290</td>\n",
       "      <td>-0.546369</td>\n",
       "      <td>-1.516602</td>\n",
       "      <td>-0.896391</td>\n",
       "      <td>0.194226</td>\n",
       "      <td>-0.139399</td>\n",
       "      <td>0.122298</td>\n",
       "      <td>0.044234</td>\n",
       "      <td>NaN</td>\n",
       "      <td>-0.722710</td>\n",
       "    </tr>\n",
       "    <tr>\n",
       "      <th>2001-01-31</th>\n",
       "      <td>-0.018197</td>\n",
       "      <td>0.849310</td>\n",
       "      <td>0.445356</td>\n",
       "      <td>-0.666015</td>\n",
       "      <td>-0.793118</td>\n",
       "      <td>-0.498117</td>\n",
       "      <td>-0.268943</td>\n",
       "      <td>-0.348039</td>\n",
       "      <td>-0.108338</td>\n",
       "      <td>-0.187966</td>\n",
       "      <td>...</td>\n",
       "      <td>0.208855</td>\n",
       "      <td>0.418791</td>\n",
       "      <td>-0.042420</td>\n",
       "      <td>-0.251914</td>\n",
       "      <td>0.300888</td>\n",
       "      <td>2.164993</td>\n",
       "      <td>0.340622</td>\n",
       "      <td>-0.762600</td>\n",
       "      <td>NaN</td>\n",
       "      <td>0.983025</td>\n",
       "    </tr>\n",
       "    <tr>\n",
       "      <th>...</th>\n",
       "      <td>...</td>\n",
       "      <td>...</td>\n",
       "      <td>...</td>\n",
       "      <td>...</td>\n",
       "      <td>...</td>\n",
       "      <td>...</td>\n",
       "      <td>...</td>\n",
       "      <td>...</td>\n",
       "      <td>...</td>\n",
       "      <td>...</td>\n",
       "      <td>...</td>\n",
       "      <td>...</td>\n",
       "      <td>...</td>\n",
       "      <td>...</td>\n",
       "      <td>...</td>\n",
       "      <td>...</td>\n",
       "      <td>...</td>\n",
       "      <td>...</td>\n",
       "      <td>...</td>\n",
       "      <td>...</td>\n",
       "      <td>...</td>\n",
       "    </tr>\n",
       "    <tr>\n",
       "      <th>2019-12-31</th>\n",
       "      <td>0.079381</td>\n",
       "      <td>-0.722938</td>\n",
       "      <td>0.613486</td>\n",
       "      <td>-0.339810</td>\n",
       "      <td>-0.276255</td>\n",
       "      <td>-0.820610</td>\n",
       "      <td>-0.277718</td>\n",
       "      <td>-1.194736</td>\n",
       "      <td>-0.090019</td>\n",
       "      <td>-0.187965</td>\n",
       "      <td>...</td>\n",
       "      <td>0.022378</td>\n",
       "      <td>-0.641827</td>\n",
       "      <td>-0.058042</td>\n",
       "      <td>-0.263729</td>\n",
       "      <td>0.146997</td>\n",
       "      <td>-0.516974</td>\n",
       "      <td>0.089618</td>\n",
       "      <td>0.044234</td>\n",
       "      <td>0.098223</td>\n",
       "      <td>NaN</td>\n",
       "    </tr>\n",
       "    <tr>\n",
       "      <th>2019-12-31</th>\n",
       "      <td>0.621034</td>\n",
       "      <td>-0.508996</td>\n",
       "      <td>0.971117</td>\n",
       "      <td>-0.534816</td>\n",
       "      <td>2.596698</td>\n",
       "      <td>-0.905457</td>\n",
       "      <td>-0.271309</td>\n",
       "      <td>-1.430611</td>\n",
       "      <td>-0.044586</td>\n",
       "      <td>1.685538</td>\n",
       "      <td>...</td>\n",
       "      <td>-0.155995</td>\n",
       "      <td>0.934011</td>\n",
       "      <td>0.968611</td>\n",
       "      <td>0.739869</td>\n",
       "      <td>0.984190</td>\n",
       "      <td>-0.371310</td>\n",
       "      <td>1.407156</td>\n",
       "      <td>-0.762600</td>\n",
       "      <td>0.566403</td>\n",
       "      <td>NaN</td>\n",
       "    </tr>\n",
       "    <tr>\n",
       "      <th>2019-12-31</th>\n",
       "      <td>0.340663</td>\n",
       "      <td>0.171882</td>\n",
       "      <td>1.465368</td>\n",
       "      <td>0.014624</td>\n",
       "      <td>-0.928936</td>\n",
       "      <td>-0.612435</td>\n",
       "      <td>-0.278154</td>\n",
       "      <td>-0.860719</td>\n",
       "      <td>-0.104462</td>\n",
       "      <td>-0.187966</td>\n",
       "      <td>...</td>\n",
       "      <td>-0.248385</td>\n",
       "      <td>0.071144</td>\n",
       "      <td>0.153347</td>\n",
       "      <td>-0.094796</td>\n",
       "      <td>-0.316093</td>\n",
       "      <td>0.404040</td>\n",
       "      <td>0.667478</td>\n",
       "      <td>0.044234</td>\n",
       "      <td>0.318867</td>\n",
       "      <td>NaN</td>\n",
       "    </tr>\n",
       "    <tr>\n",
       "      <th>2019-12-31</th>\n",
       "      <td>-0.756850</td>\n",
       "      <td>-0.065572</td>\n",
       "      <td>-0.229284</td>\n",
       "      <td>-1.688349</td>\n",
       "      <td>-0.114813</td>\n",
       "      <td>-0.430683</td>\n",
       "      <td>-0.208020</td>\n",
       "      <td>0.288665</td>\n",
       "      <td>-0.110218</td>\n",
       "      <td>-0.187966</td>\n",
       "      <td>...</td>\n",
       "      <td>0.054204</td>\n",
       "      <td>1.307453</td>\n",
       "      <td>1.181609</td>\n",
       "      <td>1.005859</td>\n",
       "      <td>-0.138276</td>\n",
       "      <td>-0.592114</td>\n",
       "      <td>-1.143443</td>\n",
       "      <td>-0.762600</td>\n",
       "      <td>-0.703883</td>\n",
       "      <td>NaN</td>\n",
       "    </tr>\n",
       "    <tr>\n",
       "      <th>2019-12-31</th>\n",
       "      <td>-0.396187</td>\n",
       "      <td>0.631204</td>\n",
       "      <td>0.499560</td>\n",
       "      <td>-0.188503</td>\n",
       "      <td>0.208333</td>\n",
       "      <td>-0.414381</td>\n",
       "      <td>-0.207357</td>\n",
       "      <td>0.352369</td>\n",
       "      <td>-0.110485</td>\n",
       "      <td>-0.187966</td>\n",
       "      <td>...</td>\n",
       "      <td>-0.703851</td>\n",
       "      <td>-0.687191</td>\n",
       "      <td>-0.172237</td>\n",
       "      <td>-0.346853</td>\n",
       "      <td>0.227653</td>\n",
       "      <td>-0.434535</td>\n",
       "      <td>0.149612</td>\n",
       "      <td>-0.762600</td>\n",
       "      <td>-0.386253</td>\n",
       "      <td>NaN</td>\n",
       "    </tr>\n",
       "  </tbody>\n",
       "</table>\n",
       "<p>114000 rows × 21 columns</p>\n",
       "</div>"
      ],
      "text/plain": [
       "               mom1m    mom12m     chmom    indmom    mom36m      turn  \\\n",
       "Date                                                                     \n",
       "2001-01-31  2.067047 -0.423509  1.027879  0.298817 -0.641896 -0.461379   \n",
       "2001-01-31  0.647658  0.318155 -0.292685 -0.154773 -0.359650 -0.551531   \n",
       "2001-01-31  1.197333  1.209452  0.999410  1.010986 -0.840862 -0.486887   \n",
       "2001-01-31 -0.042072  0.194538  0.079124  1.010986 -0.332444 -0.465040   \n",
       "2001-01-31 -0.018197  0.849310  0.445356 -0.666015 -0.793118 -0.498117   \n",
       "...              ...       ...       ...       ...       ...       ...   \n",
       "2019-12-31  0.079381 -0.722938  0.613486 -0.339810 -0.276255 -0.820610   \n",
       "2019-12-31  0.621034 -0.508996  0.971117 -0.534816  2.596698 -0.905457   \n",
       "2019-12-31  0.340663  0.171882  1.465368  0.014624 -0.928936 -0.612435   \n",
       "2019-12-31 -0.756850 -0.065572 -0.229284 -1.688349 -0.114813 -0.430683   \n",
       "2019-12-31 -0.396187  0.631204  0.499560 -0.188503  0.208333 -0.414381   \n",
       "\n",
       "               mvel1    dolvol       ill  zerotrade  ...    retvol   idiovol  \\\n",
       "Date                                                 ...                       \n",
       "2001-01-31 -0.241530 -0.183589 -0.110125  -0.187966  ...  0.343957  0.054602   \n",
       "2001-01-31  2.804602  1.483815 -0.110588  -0.187966  ... -0.213394 -0.403658   \n",
       "2001-01-31  3.941007  1.573948 -0.110588  -0.187966  ... -0.155772 -0.148161   \n",
       "2001-01-31  0.342760  0.965806 -0.110564  -0.187966  ... -0.132290 -0.546369   \n",
       "2001-01-31 -0.268943 -0.348039 -0.108338  -0.187966  ...  0.208855  0.418791   \n",
       "...              ...       ...       ...        ...  ...       ...       ...   \n",
       "2019-12-31 -0.277718 -1.194736 -0.090019  -0.187965  ...  0.022378 -0.641827   \n",
       "2019-12-31 -0.271309 -1.430611 -0.044586   1.685538  ... -0.155995  0.934011   \n",
       "2019-12-31 -0.278154 -0.860719 -0.104462  -0.187966  ... -0.248385  0.071144   \n",
       "2019-12-31 -0.208020  0.288665 -0.110218  -0.187966  ...  0.054204  1.307453   \n",
       "2019-12-31 -0.207357  0.352369 -0.110485  -0.187966  ... -0.703851 -0.687191   \n",
       "\n",
       "                beta    betasq        ep        sp       agr     nincr  \\\n",
       "Date                                                                     \n",
       "2001-01-31 -1.125798 -0.818182  0.109832 -0.005714  1.352752  3.271570   \n",
       "2001-01-31 -1.604035 -0.904739  0.164941 -0.435813  1.039952  0.044234   \n",
       "2001-01-31 -1.633817 -0.906819  0.435438 -0.135575  0.262103  0.851068   \n",
       "2001-01-31 -1.516602 -0.896391  0.194226 -0.139399  0.122298  0.044234   \n",
       "2001-01-31 -0.042420 -0.251914  0.300888  2.164993  0.340622 -0.762600   \n",
       "...              ...       ...       ...       ...       ...       ...   \n",
       "2019-12-31 -0.058042 -0.263729  0.146997 -0.516974  0.089618  0.044234   \n",
       "2019-12-31  0.968611  0.739869  0.984190 -0.371310  1.407156 -0.762600   \n",
       "2019-12-31  0.153347 -0.094796 -0.316093  0.404040  0.667478  0.044234   \n",
       "2019-12-31  1.181609  1.005859 -0.138276 -0.592114 -1.143443 -0.762600   \n",
       "2019-12-31 -0.172237 -0.346853  0.227653 -0.434535  0.149612 -0.762600   \n",
       "\n",
       "            return(t-1)    r(t+1)  \n",
       "Date                               \n",
       "2001-01-31          NaN  1.068007  \n",
       "2001-01-31          NaN  0.234089  \n",
       "2001-01-31          NaN  0.580304  \n",
       "2001-01-31          NaN -0.722710  \n",
       "2001-01-31          NaN  0.983025  \n",
       "...                 ...       ...  \n",
       "2019-12-31     0.098223       NaN  \n",
       "2019-12-31     0.566403       NaN  \n",
       "2019-12-31     0.318867       NaN  \n",
       "2019-12-31    -0.703883       NaN  \n",
       "2019-12-31    -0.386253       NaN  \n",
       "\n",
       "[114000 rows x 21 columns]"
      ]
     },
     "execution_count": 31,
     "metadata": {},
     "output_type": "execute_result"
    }
   ],
   "source": [
    "# subset"
   ]
  },
  {
   "cell_type": "code",
   "execution_count": 1,
   "id": "0756555d",
   "metadata": {},
   "outputs": [],
   "source": [
    "# mvel_sorted_top = subset['2019-12-01':].sort_values('mvel1',ascending=False).head(100).reset_index(drop=True)\n",
    "# filter_values_top = mvel_sorted_top['permno']\n",
    "# top_100 = subset[subset['permno'].isin(filter_values_top)]\n",
    "\n",
    "\n",
    "# mvel_sorted_bot = subset['2019-12-01':].sort_values('mvel1',ascending=False).tail(100).reset_index(drop=True)\n",
    "# filter_values_bot = mvel_sorted_bot['permno']\n",
    "# bot_100 = subset[subset['permno'].isin(filter_values_bot)]\n"
   ]
  },
  {
   "cell_type": "code",
   "execution_count": null,
   "id": "9c8ff898",
   "metadata": {},
   "outputs": [],
   "source": [
    "# top_100.shape\n",
    "# # 19*12*10 = 2280"
   ]
  },
  {
   "cell_type": "code",
   "execution_count": null,
   "id": "e9305903",
   "metadata": {},
   "outputs": [],
   "source": []
  },
  {
   "cell_type": "markdown",
   "id": "1c03273f",
   "metadata": {},
   "source": [
    "**splitting data & separating X and y** <br>\n",
    "***\n",
    "splitting data 10:9 years - to make the training set the same size as the training and validation set combined, leave testing set out of sample"
   ]
  },
  {
   "cell_type": "code",
   "execution_count": null,
   "id": "eb14aa92",
   "metadata": {},
   "outputs": [],
   "source": [
    "# training_top = top_100[:'2011-01-01'].dropna()\n",
    "# testing_top = top_100['2011-01-02':].dropna()"
   ]
  },
  {
   "cell_type": "code",
   "execution_count": null,
   "id": "482d1362",
   "metadata": {},
   "outputs": [],
   "source": [
    "# training_bot = bot_100[:'2011-01-01'].dropna()\n",
    "# testing_bot = bot_100['2011-01-02':].dropna()"
   ]
  },
  {
   "cell_type": "markdown",
   "id": "340e2063",
   "metadata": {},
   "source": [
    "separating X and y"
   ]
  },
  {
   "cell_type": "code",
   "execution_count": null,
   "id": "a29d3490",
   "metadata": {},
   "outputs": [],
   "source": [
    "# X_test_top = testing_top.drop(columns = ['permno', 'return', 'r(t+1)'])\n",
    "# y_test_top = testing_top['r(t+1)']\n",
    "\n",
    "# X_test_bot = testing_bot.drop(columns = ['permno', 'return', 'r(t+1)'])\n",
    "# y_test_bot = testing_bot['r(t+1)']"
   ]
  },
  {
   "cell_type": "markdown",
   "id": "d2e8b1b0",
   "metadata": {},
   "source": [
    "## Enet custom funcs\n",
    "***\n",
    "1. R^2 without demeaning\n",
    "2. tuning: recursive rolling tuning"
   ]
  },
  {
   "cell_type": "code",
   "execution_count": null,
   "id": "8a0a667b",
   "metadata": {},
   "outputs": [],
   "source": [
    "# from sklearn.metrics import r2_score"
   ]
  },
  {
   "cell_type": "code",
   "execution_count": null,
   "id": "ce231db9",
   "metadata": {},
   "outputs": [],
   "source": [
    "# def r2_score_wo_demeaning(y_true, y_pred):\n",
    "#     y_true = np.array(y_true)\n",
    "    \n",
    "#     ss_res = 0\n",
    "#     ss_tot = 0\n",
    "#     for i in range(len(y_true)):\n",
    "#         ss_res = ss_res + ((y_true[i] - y_pred[i])**2)\n",
    "#         ss_tot = ss_tot + ((y_true[i] - 0)**2)\n",
    "#     r2 = 1 - (ss_res / ss_tot)\n",
    "#     return float(r2)"
   ]
  },
  {
   "cell_type": "code",
   "execution_count": null,
   "id": "1557d602",
   "metadata": {},
   "outputs": [],
   "source": [
    "# def tuning_1 (model, param_combos, X_train, y_train, X_val, y_val):\n",
    "# #   param_combos: list of dictionaries of parameters combo\n",
    "    \n",
    "#     results = {'param': [], 'score': []}\n",
    "#     opt_param = 0\n",
    "#     opt_score = 0\n",
    "\n",
    "#     for params in param_combos:\n",
    "\n",
    "#         for param_name, param_value in params.items():\n",
    "#             setattr(model, param_name, param_value)\n",
    "\n",
    "#         model.fit(X_train, y_train)\n",
    "\n",
    "#         y_pred = model.predict(X_val)\n",
    "\n",
    "# #         print(\"Shape of y_val:\", y_val.shape)\n",
    "# #         print(\"Shape of y_pred:\", y_pred.shape)\n",
    "        \n",
    "#         r2 = r2_score_wo_demeaning(y_val, y_pred)\n",
    "\n",
    "#         results['param'].append(params)\n",
    "#         results['score'].append(r2)\n",
    "    \n",
    "#     sorted_zipped = sorted(zip(results['param'], results['score']), key=lambda x: x[1])\n",
    "#     opt_param = sorted_zipped[0][0]\n",
    "#     opt_score = sorted_zipped[0][1]\n",
    "    \n",
    "#     return opt_param, opt_score"
   ]
  },
  {
   "cell_type": "markdown",
   "id": "6e3ce901",
   "metadata": {},
   "source": [
    "## Enet\n",
    "\n",
    "\n",
    "prediction: g*(z i,t) - depends on neither i nor t, is dependend on z only through z i,t <br>\n",
    "responses: r i, t+1\n",
    "***\n",
    "Implement regression using APGD (accelerated proximal gradient descent). <br>\n",
    "Tune hyperparameters using recursive rolling validation method."
   ]
  },
  {
   "cell_type": "code",
   "execution_count": 403,
   "id": "67dc98bc",
   "metadata": {},
   "outputs": [],
   "source": [
    "# from sklearn.linear_model import ElasticNet"
   ]
  },
  {
   "cell_type": "markdown",
   "id": "2d566281",
   "metadata": {},
   "source": [
    "**tuning**\n",
    "\n",
    "1. set-up the search grid\n",
    "2. tuning <br>\n",
    "    a. tuning_1: fixed sample tuning <br>\n",
    "    b. tuning_2: recursive rolling validation set w/ oos R^2 metric -- <br>\n",
    "    roll one unit froward each time and take the average as the final score <br>\n",
    "3. pick the best hyperparameters, retrain the model"
   ]
  },
  {
   "cell_type": "code",
   "execution_count": 407,
   "id": "62b1cdc8",
   "metadata": {},
   "outputs": [],
   "source": [
    "# # set up searching grid\n",
    "\n",
    "# alpha_values = [0.4, 0.5, 0.6]\n",
    "# l1_ratio_values = np.logspace(-4, -1, 10)\n",
    "\n",
    "# param_enet = [{'alpha': alpha, 'l1_ratio': l1_ratio} for alpha in alpha_values for l1_ratio in l1_ratio_values]\n"
   ]
  },
  {
   "cell_type": "code",
   "execution_count": 408,
   "id": "027fb75f",
   "metadata": {},
   "outputs": [],
   "source": [
    "# # the model\n",
    "\n",
    "# Enet = ElasticNet()"
   ]
  },
  {
   "cell_type": "code",
   "execution_count": 409,
   "id": "2d6424ed",
   "metadata": {},
   "outputs": [],
   "source": [
    "# # apply tuning function\n",
    "\n",
    "# result = tuning_1(Enet, param_enet, X_train, y_train, X_val, y_val)"
   ]
  },
  {
   "cell_type": "code",
   "execution_count": 410,
   "id": "779c0844",
   "metadata": {},
   "outputs": [
    {
     "name": "stdout",
     "output_type": "stream",
     "text": [
      "the optimal parameters are {'alpha': 0.6, 'l1_ratio': 0.1} and the best score is 0.0007804446593294712.\n"
     ]
    }
   ],
   "source": [
    "# print(f\"the optimal parameters are {result[0]} and the best score is {result[1]}.\")"
   ]
  },
  {
   "cell_type": "code",
   "execution_count": null,
   "id": "c8bedc44",
   "metadata": {},
   "outputs": [],
   "source": []
  },
  {
   "cell_type": "markdown",
   "id": "7f2c02ec",
   "metadata": {},
   "source": [
    "**best model** <br>\n",
    "<br>\n",
    "Fit on all data in training and validation sets."
   ]
  },
  {
   "cell_type": "code",
   "execution_count": 411,
   "id": "7d106cea",
   "metadata": {},
   "outputs": [
    {
     "data": {
      "text/html": [
       "<style>#sk-container-id-14 {color: black;}#sk-container-id-14 pre{padding: 0;}#sk-container-id-14 div.sk-toggleable {background-color: white;}#sk-container-id-14 label.sk-toggleable__label {cursor: pointer;display: block;width: 100%;margin-bottom: 0;padding: 0.3em;box-sizing: border-box;text-align: center;}#sk-container-id-14 label.sk-toggleable__label-arrow:before {content: \"▸\";float: left;margin-right: 0.25em;color: #696969;}#sk-container-id-14 label.sk-toggleable__label-arrow:hover:before {color: black;}#sk-container-id-14 div.sk-estimator:hover label.sk-toggleable__label-arrow:before {color: black;}#sk-container-id-14 div.sk-toggleable__content {max-height: 0;max-width: 0;overflow: hidden;text-align: left;background-color: #f0f8ff;}#sk-container-id-14 div.sk-toggleable__content pre {margin: 0.2em;color: black;border-radius: 0.25em;background-color: #f0f8ff;}#sk-container-id-14 input.sk-toggleable__control:checked~div.sk-toggleable__content {max-height: 200px;max-width: 100%;overflow: auto;}#sk-container-id-14 input.sk-toggleable__control:checked~label.sk-toggleable__label-arrow:before {content: \"▾\";}#sk-container-id-14 div.sk-estimator input.sk-toggleable__control:checked~label.sk-toggleable__label {background-color: #d4ebff;}#sk-container-id-14 div.sk-label input.sk-toggleable__control:checked~label.sk-toggleable__label {background-color: #d4ebff;}#sk-container-id-14 input.sk-hidden--visually {border: 0;clip: rect(1px 1px 1px 1px);clip: rect(1px, 1px, 1px, 1px);height: 1px;margin: -1px;overflow: hidden;padding: 0;position: absolute;width: 1px;}#sk-container-id-14 div.sk-estimator {font-family: monospace;background-color: #f0f8ff;border: 1px dotted black;border-radius: 0.25em;box-sizing: border-box;margin-bottom: 0.5em;}#sk-container-id-14 div.sk-estimator:hover {background-color: #d4ebff;}#sk-container-id-14 div.sk-parallel-item::after {content: \"\";width: 100%;border-bottom: 1px solid gray;flex-grow: 1;}#sk-container-id-14 div.sk-label:hover label.sk-toggleable__label {background-color: #d4ebff;}#sk-container-id-14 div.sk-serial::before {content: \"\";position: absolute;border-left: 1px solid gray;box-sizing: border-box;top: 0;bottom: 0;left: 50%;z-index: 0;}#sk-container-id-14 div.sk-serial {display: flex;flex-direction: column;align-items: center;background-color: white;padding-right: 0.2em;padding-left: 0.2em;position: relative;}#sk-container-id-14 div.sk-item {position: relative;z-index: 1;}#sk-container-id-14 div.sk-parallel {display: flex;align-items: stretch;justify-content: center;background-color: white;position: relative;}#sk-container-id-14 div.sk-item::before, #sk-container-id-14 div.sk-parallel-item::before {content: \"\";position: absolute;border-left: 1px solid gray;box-sizing: border-box;top: 0;bottom: 0;left: 50%;z-index: -1;}#sk-container-id-14 div.sk-parallel-item {display: flex;flex-direction: column;z-index: 1;position: relative;background-color: white;}#sk-container-id-14 div.sk-parallel-item:first-child::after {align-self: flex-end;width: 50%;}#sk-container-id-14 div.sk-parallel-item:last-child::after {align-self: flex-start;width: 50%;}#sk-container-id-14 div.sk-parallel-item:only-child::after {width: 0;}#sk-container-id-14 div.sk-dashed-wrapped {border: 1px dashed gray;margin: 0 0.4em 0.5em 0.4em;box-sizing: border-box;padding-bottom: 0.4em;background-color: white;}#sk-container-id-14 div.sk-label label {font-family: monospace;font-weight: bold;display: inline-block;line-height: 1.2em;}#sk-container-id-14 div.sk-label-container {text-align: center;}#sk-container-id-14 div.sk-container {/* jupyter's `normalize.less` sets `[hidden] { display: none; }` but bootstrap.min.css set `[hidden] { display: none !important; }` so we also need the `!important` here to be able to override the default hidden behavior on the sphinx rendered scikit-learn.org. See: https://github.com/scikit-learn/scikit-learn/issues/21755 */display: inline-block !important;position: relative;}#sk-container-id-14 div.sk-text-repr-fallback {display: none;}</style><div id=\"sk-container-id-14\" class=\"sk-top-container\"><div class=\"sk-text-repr-fallback\"><pre>ElasticNet(alpha=0.6, l1_ratio=0.1)</pre><b>In a Jupyter environment, please rerun this cell to show the HTML representation or trust the notebook. <br />On GitHub, the HTML representation is unable to render, please try loading this page with nbviewer.org.</b></div><div class=\"sk-container\" hidden><div class=\"sk-item\"><div class=\"sk-estimator sk-toggleable\"><input class=\"sk-toggleable__control sk-hidden--visually\" id=\"sk-estimator-id-14\" type=\"checkbox\" checked><label for=\"sk-estimator-id-14\" class=\"sk-toggleable__label sk-toggleable__label-arrow\">ElasticNet</label><div class=\"sk-toggleable__content\"><pre>ElasticNet(alpha=0.6, l1_ratio=0.1)</pre></div></div></div></div></div>"
      ],
      "text/plain": [
       "ElasticNet(alpha=0.6, l1_ratio=0.1)"
      ]
     },
     "execution_count": 411,
     "metadata": {},
     "output_type": "execute_result"
    }
   ],
   "source": [
    "# Enet_opt = ElasticNet()\n",
    "\n",
    "# for param_name, param_value in result[0].items():\n",
    "#  setattr(Enet_opt, param_name, param_value)\n",
    "\n",
    "# Enet_opt.fit(X_train_combined, y_train_combined)"
   ]
  },
  {
   "cell_type": "code",
   "execution_count": 412,
   "id": "091852f3",
   "metadata": {},
   "outputs": [
    {
     "name": "stdout",
     "output_type": "stream",
     "text": [
      "R^2-oos: 0.00428925634848587\n"
     ]
    }
   ],
   "source": [
    "# y_pred_enet = Enet_opt.predict(X_test)\n",
    "\n",
    "# r2_enet = r2_score_wo_demeaning(y_test, y_pred_enet)\n",
    "# print(\"R^2-oos:\", r2_enet)"
   ]
  },
  {
   "cell_type": "markdown",
   "id": "71740d28",
   "metadata": {},
   "source": [
    "**top and bottom 100 prediction**"
   ]
  },
  {
   "cell_type": "code",
   "execution_count": 486,
   "id": "0cb7d04a",
   "metadata": {},
   "outputs": [
    {
     "name": "stdout",
     "output_type": "stream",
     "text": [
      "Top 100 stocks R^2-oos: 0.0027318865534429193\n"
     ]
    }
   ],
   "source": [
    "# y_pred_enet_top = Enet_opt.predict(X_test_top)\n",
    "\n",
    "# r2_enet_top = r2_score_wo_demeaning(y_test_top, y_pred_enet_top)\n",
    "# print(\"Top 100 stocks R^2-oos:\", r2_enet_top)"
   ]
  },
  {
   "cell_type": "code",
   "execution_count": 487,
   "id": "2e12d2ec",
   "metadata": {
    "scrolled": true
   },
   "outputs": [
    {
     "name": "stdout",
     "output_type": "stream",
     "text": [
      "Bottom 100 stocks R^2-oos: -0.0021962507550574717\n"
     ]
    }
   ],
   "source": [
    "# y_pred_enet_bot = Enet_opt.predict(X_test_bot)\n",
    "\n",
    "# r2_enet_bot = r2_score_wo_demeaning(y_test_bot, y_pred_enet_bot)\n",
    "# print(\"Bottom 100 stocks R^2-oos:\", r2_enet_bot)"
   ]
  },
  {
   "cell_type": "markdown",
   "id": "77969a4c",
   "metadata": {},
   "source": [
    "**feature importance**"
   ]
  },
  {
   "cell_type": "code",
   "execution_count": 538,
   "id": "e84fb9a3",
   "metadata": {},
   "outputs": [
    {
     "data": {
      "image/png": "[encoded data removed]",
      "text/plain": [
       "<Figure size 800x600 with 1 Axes>"
      ]
     },
     "metadata": {},
     "output_type": "display_data"
    }
   ],
   "source": [
    "# import matplotlib.pyplot as plt\n",
    "\n",
    "# coefficients = Enet_opt.coef_\n",
    "\n",
    "# # Get feature names\n",
    "# # Assuming feature_names is a list of your feature names\n",
    "# feature_names = X_train_combined.columns  # Insert your feature names here\n",
    "\n",
    "# # Create a dictionary to store feature importance scores with feature names\n",
    "# feature_importance_dict = dict(zip(feature_names, np.abs(coefficients)))\n",
    "\n",
    "# # Sort feature importance dictionary by importance score\n",
    "# sorted_feature_importance = sorted(feature_importance_dict.items(), key=lambda x: x[1], reverse=True)\n",
    "\n",
    "# # Extract feature names and importance scores after sorting\n",
    "# sorted_feature_names = [x[0] for x in sorted_feature_importance]\n",
    "# sorted_feature_importance_scores = [x[1] for x in sorted_feature_importance]\n",
    "\n",
    "# # Plotting\n",
    "# plt.figure(figsize=(8, 6))\n",
    "# plt.barh(sorted_feature_names, sorted_feature_importance_scores)\n",
    "# plt.xlabel('Feature Importance')\n",
    "# plt.ylabel('Features')\n",
    "# plt.title('Feature Importance of Elastic Net Model')\n",
    "# plt.gca().invert_yaxis()  # Invert y-axis to have the most important features at the top\n",
    "# plt.show()"
   ]
  },
  {
   "cell_type": "code",
   "execution_count": null,
   "id": "a2054aff",
   "metadata": {},
   "outputs": [],
   "source": []
  },
  {
   "cell_type": "markdown",
   "id": "97f12888",
   "metadata": {},
   "source": [
    "## NN custom funcs"
   ]
  },
  {
   "cell_type": "code",
   "execution_count": 307,
   "id": "2ca69c98",
   "metadata": {},
   "outputs": [
    {
     "name": "stdout",
     "output_type": "stream",
     "text": [
      "WARNING:tensorflow:From C:\\Users\\LL\\anaconda3\\Lib\\site-packages\\keras\\src\\losses.py:2976: The name tf.losses.sparse_softmax_cross_entropy is deprecated. Please use tf.compat.v1.losses.sparse_softmax_cross_entropy instead.\n",
      "\n"
     ]
    }
   ],
   "source": [
    "import keras\n",
    "from keras import layers\n",
    "from keras import Sequential"
   ]
  },
  {
   "cell_type": "markdown",
   "id": "225e9b7d",
   "metadata": {},
   "source": [
    "**performance metric**\n",
    "\n",
    "Out-of-sample R^2. (r2_score_wo_demeaning)"
   ]
  },
  {
   "cell_type": "code",
   "execution_count": 488,
   "id": "35e44da5",
   "metadata": {},
   "outputs": [],
   "source": [
    "import tensorflow as tf\n",
    "\n",
    "def r2_score_wo_demeaning_nn(y_true, y_pred):\n",
    "    ss_res = tf.reduce_sum(tf.square(y_true - y_pred))\n",
    "    ss_tot = tf.reduce_sum(tf.square(y_true - 0))\n",
    "    r2 = 1 - (ss_res / ss_tot)\n",
    "    return r2"
   ]
  },
  {
   "cell_type": "markdown",
   "id": "c599f72c",
   "metadata": {},
   "source": [
    "**tuning custom function for neural net**"
   ]
  },
  {
   "cell_type": "code",
   "execution_count": 518,
   "id": "32b3c7fe",
   "metadata": {},
   "outputs": [],
   "source": [
    "\n",
    "def compile_and_tune_model(model, parameter_dicts, x_train, y_train, x_val, y_val):\n",
    "    results = []\n",
    "    \n",
    "    for params in parameter_dicts:\n",
    "\n",
    "        model.compile(optimizer=keras.optimizers.Adam(learning_rate=params['learning_rate']),\n",
    "                      loss='mean_squared_error', metrics=r2_score_wo_demeaning_nn)  # Using mean absolute error (mae) as metric\n",
    "        \n",
    "        history = model.fit(x_train, y_train, epochs=params['epoch'], batch_size=params['batch_size'],\n",
    "                            validation_data=(x_val, y_val), verbose=0)\n",
    "        \n",
    "        # Get the metric value for the last epoch\n",
    "        last_epoch_metric = history.history['r2_score_wo_demeaning_nn'][-1]  # Validation MAE for last epoch\n",
    "        \n",
    "        # Store results for current parameter set\n",
    "        results.append({'params': params, 'val_r2_score_wo_demeaning_nn': last_epoch_metric})\n",
    "    \n",
    "    return results"
   ]
  },
  {
   "cell_type": "code",
   "execution_count": null,
   "id": "1e6d6471",
   "metadata": {},
   "outputs": [],
   "source": []
  },
  {
   "cell_type": "code",
   "execution_count": null,
   "id": "9d292e45",
   "metadata": {},
   "outputs": [],
   "source": []
  },
  {
   "cell_type": "markdown",
   "id": "16f85419",
   "metadata": {},
   "source": [
    "## NN\n",
    "\n",
    "All activation functions are ReLU function <br>\n",
    "optimizer: SGD w/ learning rate shrinkage: adam <br>"
   ]
  },
  {
   "cell_type": "markdown",
   "id": "86e0ff5a",
   "metadata": {},
   "source": [
    "convert dataframes to numpy array"
   ]
  },
  {
   "cell_type": "code",
   "execution_count": 490,
   "id": "691a6931",
   "metadata": {},
   "outputs": [],
   "source": [
    "X_train_nn = np.asarray(X_train.values)\n",
    "y_train_nn = np.asarray(y_train.values)\n",
    "\n",
    "X_val_nn = np.asarray(X_val.values)\n",
    "y_val_nn = np.asarray(y_val.values)\n",
    "\n",
    "X_test_nn = np.asarray(X_test.values)\n",
    "y_test_nn = np.asarray(y_test.values)\n",
    "\n",
    "X_train_combined_nn = np.asarray(X_train_combined.values)\n",
    "y_train_combined_nn = np.asarray(y_train_combined.values)"
   ]
  },
  {
   "cell_type": "markdown",
   "id": "68a4b2d0",
   "metadata": {},
   "source": [
    "set-up grid"
   ]
  },
  {
   "cell_type": "code",
   "execution_count": 491,
   "id": "72655500",
   "metadata": {},
   "outputs": [],
   "source": [
    "nepoch_val = [25, 50, 75, 100]\n",
    "lr_val = [0.05, 0.01, 0.001]\n",
    "nbatch_val = [1500, 2500, 3500]\n",
    "\n",
    "param_nn = [{'epoch': epoch, 'learning_rate': learning_rate, 'batch_size': batch_size} for epoch in nepoch_val for learning_rate in lr_val for batch_size in nbatch_val]"
   ]
  },
  {
   "cell_type": "markdown",
   "id": "85f1f391",
   "metadata": {},
   "source": [
    "### 1-layer <br>"
   ]
  },
  {
   "cell_type": "code",
   "execution_count": 492,
   "id": "3f8abe88",
   "metadata": {},
   "outputs": [],
   "source": [
    "# input_dim = 20\n",
    "# layer1_n = 32\n",
    "\n",
    "\n",
    "# model_1 = Sequential([\n",
    "#             layers.Dense(layer1_n, activation='relu', input_dim=input_dim),\n",
    "#             layers.Dense(1, activation='linear')\n",
    "#         ])"
   ]
  },
  {
   "cell_type": "markdown",
   "id": "ccc86773",
   "metadata": {},
   "source": [
    "tuning"
   ]
  },
  {
   "cell_type": "code",
   "execution_count": 520,
   "id": "24f097c6",
   "metadata": {},
   "outputs": [],
   "source": [
    "# result_nn1 = compile_and_tune_model(model_1, param_nn, X_train_nn, y_train_nn, X_val_nn, y_val_nn)"
   ]
  },
  {
   "cell_type": "code",
   "execution_count": 521,
   "id": "9b2c540d",
   "metadata": {},
   "outputs": [
    {
     "data": {
      "text/plain": [
       "[{'params': {'epoch': 25, 'learning_rate': 0.05, 'batch_size': 1000},\n",
       "  'val_r2_score_wo_demeaning_nn': 0.035220030695199966},\n",
       " {'params': {'epoch': 25, 'learning_rate': 0.05, 'batch_size': 1500},\n",
       "  'val_r2_score_wo_demeaning_nn': 0.038625702261924744},\n",
       " {'params': {'epoch': 25, 'learning_rate': 0.05, 'batch_size': 3000},\n",
       "  'val_r2_score_wo_demeaning_nn': 0.04407058283686638},\n",
       " {'params': {'epoch': 25, 'learning_rate': 0.025, 'batch_size': 1000},\n",
       "  'val_r2_score_wo_demeaning_nn': 0.04176253825426102},\n",
       " {'params': {'epoch': 25, 'learning_rate': 0.025, 'batch_size': 1500},\n",
       "  'val_r2_score_wo_demeaning_nn': 0.04357220605015755},\n",
       " {'params': {'epoch': 25, 'learning_rate': 0.025, 'batch_size': 3000},\n",
       "  'val_r2_score_wo_demeaning_nn': 0.046876415610313416},\n",
       " {'params': {'epoch': 25, 'learning_rate': 0.01, 'batch_size': 1000},\n",
       "  'val_r2_score_wo_demeaning_nn': 0.04553558677434921},\n",
       " {'params': {'epoch': 25, 'learning_rate': 0.01, 'batch_size': 1500},\n",
       "  'val_r2_score_wo_demeaning_nn': 0.04774317145347595},\n",
       " {'params': {'epoch': 25, 'learning_rate': 0.01, 'batch_size': 3000},\n",
       "  'val_r2_score_wo_demeaning_nn': 0.04803118109703064},\n",
       " {'params': {'epoch': 50, 'learning_rate': 0.05, 'batch_size': 1000},\n",
       "  'val_r2_score_wo_demeaning_nn': 0.037860434502363205},\n",
       " {'params': {'epoch': 50, 'learning_rate': 0.05, 'batch_size': 1500},\n",
       "  'val_r2_score_wo_demeaning_nn': 0.03679433837532997},\n",
       " {'params': {'epoch': 50, 'learning_rate': 0.05, 'batch_size': 3000},\n",
       "  'val_r2_score_wo_demeaning_nn': 0.04353052377700806},\n",
       " {'params': {'epoch': 50, 'learning_rate': 0.025, 'batch_size': 1000},\n",
       "  'val_r2_score_wo_demeaning_nn': 0.04184301570057869},\n",
       " {'params': {'epoch': 50, 'learning_rate': 0.025, 'batch_size': 1500},\n",
       "  'val_r2_score_wo_demeaning_nn': 0.04516848549246788},\n",
       " {'params': {'epoch': 50, 'learning_rate': 0.025, 'batch_size': 3000},\n",
       "  'val_r2_score_wo_demeaning_nn': 0.045539822429418564},\n",
       " {'params': {'epoch': 50, 'learning_rate': 0.01, 'batch_size': 1000},\n",
       "  'val_r2_score_wo_demeaning_nn': 0.04637724161148071},\n",
       " {'params': {'epoch': 50, 'learning_rate': 0.01, 'batch_size': 1500},\n",
       "  'val_r2_score_wo_demeaning_nn': 0.046447087079286575},\n",
       " {'params': {'epoch': 50, 'learning_rate': 0.01, 'batch_size': 3000},\n",
       "  'val_r2_score_wo_demeaning_nn': 0.04818257689476013},\n",
       " {'params': {'epoch': 75, 'learning_rate': 0.05, 'batch_size': 1000},\n",
       "  'val_r2_score_wo_demeaning_nn': 0.02869785577058792},\n",
       " {'params': {'epoch': 75, 'learning_rate': 0.05, 'batch_size': 1500},\n",
       "  'val_r2_score_wo_demeaning_nn': 0.0327315479516983},\n",
       " {'params': {'epoch': 75, 'learning_rate': 0.05, 'batch_size': 3000},\n",
       "  'val_r2_score_wo_demeaning_nn': 0.03196355327963829},\n",
       " {'params': {'epoch': 75, 'learning_rate': 0.025, 'batch_size': 1000},\n",
       "  'val_r2_score_wo_demeaning_nn': 0.033479414880275726},\n",
       " {'params': {'epoch': 75, 'learning_rate': 0.025, 'batch_size': 1500},\n",
       "  'val_r2_score_wo_demeaning_nn': 0.037642549723386765},\n",
       " {'params': {'epoch': 75, 'learning_rate': 0.025, 'batch_size': 3000},\n",
       "  'val_r2_score_wo_demeaning_nn': 0.03936237469315529},\n",
       " {'params': {'epoch': 75, 'learning_rate': 0.01, 'batch_size': 1000},\n",
       "  'val_r2_score_wo_demeaning_nn': 0.03885573148727417},\n",
       " {'params': {'epoch': 75, 'learning_rate': 0.01, 'batch_size': 1500},\n",
       "  'val_r2_score_wo_demeaning_nn': 0.03958440572023392},\n",
       " {'params': {'epoch': 75, 'learning_rate': 0.01, 'batch_size': 3000},\n",
       "  'val_r2_score_wo_demeaning_nn': 0.040713388472795486},\n",
       " {'params': {'epoch': 100, 'learning_rate': 0.05, 'batch_size': 1000},\n",
       "  'val_r2_score_wo_demeaning_nn': 0.030764685943722725},\n",
       " {'params': {'epoch': 100, 'learning_rate': 0.05, 'batch_size': 1500},\n",
       "  'val_r2_score_wo_demeaning_nn': 0.030210325494408607},\n",
       " {'params': {'epoch': 100, 'learning_rate': 0.05, 'batch_size': 3000},\n",
       "  'val_r2_score_wo_demeaning_nn': 0.036220159381628036},\n",
       " {'params': {'epoch': 100, 'learning_rate': 0.025, 'batch_size': 1000},\n",
       "  'val_r2_score_wo_demeaning_nn': 0.035358838737010956},\n",
       " {'params': {'epoch': 100, 'learning_rate': 0.025, 'batch_size': 1500},\n",
       "  'val_r2_score_wo_demeaning_nn': 0.03827144578099251},\n",
       " {'params': {'epoch': 100, 'learning_rate': 0.025, 'batch_size': 3000},\n",
       "  'val_r2_score_wo_demeaning_nn': 0.03929169476032257},\n",
       " {'params': {'epoch': 100, 'learning_rate': 0.01, 'batch_size': 1000},\n",
       "  'val_r2_score_wo_demeaning_nn': 0.038634318858385086},\n",
       " {'params': {'epoch': 100, 'learning_rate': 0.01, 'batch_size': 1500},\n",
       "  'val_r2_score_wo_demeaning_nn': 0.03991461172699928},\n",
       " {'params': {'epoch': 100, 'learning_rate': 0.01, 'batch_size': 3000},\n",
       "  'val_r2_score_wo_demeaning_nn': 0.039518386125564575}]"
      ]
     },
     "execution_count": 521,
     "metadata": {},
     "output_type": "execute_result"
    }
   ],
   "source": [
    "# result_nn1"
   ]
  },
  {
   "cell_type": "markdown",
   "id": "15fcdc47",
   "metadata": {},
   "source": [
    "**best model**\n",
    "***\n",
    "best parameters"
   ]
  },
  {
   "cell_type": "code",
   "execution_count": 522,
   "id": "7e5c72a0",
   "metadata": {},
   "outputs": [],
   "source": [
    "# result_nn1 = pd.DataFrame(result_nn1).sort_values('val_r2_score_wo_demeaning_nn',ascending=False)\n",
    "# opt_score = result_nn1.iloc[0,1]\n",
    "# opt_para = result_nn1.iloc[0,0]"
   ]
  },
  {
   "cell_type": "code",
   "execution_count": 546,
   "id": "30aba3bc",
   "metadata": {},
   "outputs": [
    {
     "data": {
      "text/plain": [
       "{'epoch': 50, 'learning_rate': 0.01, 'batch_size': 3000}"
      ]
     },
     "execution_count": 546,
     "metadata": {},
     "output_type": "execute_result"
    }
   ],
   "source": [
    "# result_nn1.iloc[0,0]"
   ]
  },
  {
   "cell_type": "code",
   "execution_count": 547,
   "id": "6b687a4b",
   "metadata": {},
   "outputs": [
    {
     "data": {
      "text/plain": [
       "0.04818257689476013"
      ]
     },
     "execution_count": 547,
     "metadata": {},
     "output_type": "execute_result"
    }
   ],
   "source": [
    "# result_nn1.iloc[0,1]"
   ]
  },
  {
   "cell_type": "markdown",
   "id": "9c6cf80a",
   "metadata": {},
   "source": [
    "best models"
   ]
  },
  {
   "cell_type": "code",
   "execution_count": 525,
   "id": "5d40fd58",
   "metadata": {},
   "outputs": [],
   "source": [
    "# model_nn1 = Sequential([\n",
    "#             layers.Dense(layer1_n, activation='relu', input_dim=input_dim),\n",
    "#             layers.Dense(1, activation='linear')\n",
    "#         ])\n",
    "\n",
    "# model_nn1.compile(optimizer=keras.optimizers.Adam(learning_rate=opt_para['learning_rate']),\n",
    "#                       loss='mean_squared_error', metrics=r2_score_wo_demeaning_nn)\n",
    "\n",
    "# history = model_nn1.fit(X_train_combined_nn, y_train_combined_nn, epochs=opt_para['epoch'], batch_size=opt_para['batch_size'],\n",
    "#                             validation_data=(X_test_nn, y_test_nn), verbose=0)\n",
    "        \n",
    "# last_epoch_metric = history.history['val_r2_score_wo_demeaning_nn'][-1]"
   ]
  },
  {
   "cell_type": "code",
   "execution_count": 526,
   "id": "0bfa2bca",
   "metadata": {},
   "outputs": [
    {
     "data": {
      "text/plain": [
       "0.0037341932766139507"
      ]
     },
     "execution_count": 526,
     "metadata": {},
     "output_type": "execute_result"
    }
   ],
   "source": [
    "# last_epoch_metric"
   ]
  },
  {
   "cell_type": "markdown",
   "id": "8c1f2aeb",
   "metadata": {},
   "source": [
    "**top and bottom 100 prediction**"
   ]
  },
  {
   "cell_type": "code",
   "execution_count": 527,
   "id": "acfd4105",
   "metadata": {},
   "outputs": [
    {
     "name": "stdout",
     "output_type": "stream",
     "text": [
      "335/335 [==============================] - 1s 2ms/step\n",
      "Top 100 stocks R^2-oos: -0.06060492992401123\n"
     ]
    }
   ],
   "source": [
    "# y_pred_nn1_top = model_nn1.predict(X_test_top)\n",
    "\n",
    "# r2_nn1_top = r2_score_wo_demeaning(y_test_top, y_pred_nn1_top)\n",
    "# print(\"Top 100 stocks R^2-oos:\", r2_nn1_top)"
   ]
  },
  {
   "cell_type": "code",
   "execution_count": 528,
   "id": "e0c87e91",
   "metadata": {
    "scrolled": true
   },
   "outputs": [
    {
     "name": "stdout",
     "output_type": "stream",
     "text": [
      "335/335 [==============================] - 1s 2ms/step\n",
      "Bottom 100 stocks R^2-oos: -0.04122185707092285\n"
     ]
    }
   ],
   "source": [
    "# y_pred_nn1_bot = model_nn1.predict(X_test_bot)\n",
    "\n",
    "# r2_nn1_bot = r2_score_wo_demeaning(y_test_bot, y_pred_nn1_bot)\n",
    "# print(\"Bottom 100 stocks R^2-oos:\", r2_nn1_bot)"
   ]
  },
  {
   "cell_type": "code",
   "execution_count": 530,
   "id": "968300d6",
   "metadata": {},
   "outputs": [
    {
     "data": {
      "text/html": [
       "<div>\n",
       "<style scoped>\n",
       "    .dataframe tbody tr th:only-of-type {\n",
       "        vertical-align: middle;\n",
       "    }\n",
       "\n",
       "    .dataframe tbody tr th {\n",
       "        vertical-align: top;\n",
       "    }\n",
       "\n",
       "    .dataframe thead th {\n",
       "        text-align: right;\n",
       "    }\n",
       "</style>\n",
       "<table border=\"1\" class=\"dataframe\">\n",
       "  <thead>\n",
       "    <tr style=\"text-align: right;\">\n",
       "      <th></th>\n",
       "      <th>mom1m</th>\n",
       "      <th>mom12m</th>\n",
       "      <th>chmom</th>\n",
       "      <th>indmom</th>\n",
       "      <th>mom36m</th>\n",
       "      <th>turn</th>\n",
       "      <th>mvel1</th>\n",
       "      <th>dolvol</th>\n",
       "      <th>ill</th>\n",
       "      <th>zerotrade</th>\n",
       "      <th>baspread</th>\n",
       "      <th>retvol</th>\n",
       "      <th>idiovol</th>\n",
       "      <th>beta</th>\n",
       "      <th>betasq</th>\n",
       "      <th>ep</th>\n",
       "      <th>sp</th>\n",
       "      <th>agr</th>\n",
       "      <th>nincr</th>\n",
       "      <th>return(t-1)</th>\n",
       "    </tr>\n",
       "    <tr>\n",
       "      <th>Date</th>\n",
       "      <th></th>\n",
       "      <th></th>\n",
       "      <th></th>\n",
       "      <th></th>\n",
       "      <th></th>\n",
       "      <th></th>\n",
       "      <th></th>\n",
       "      <th></th>\n",
       "      <th></th>\n",
       "      <th></th>\n",
       "      <th></th>\n",
       "      <th></th>\n",
       "      <th></th>\n",
       "      <th></th>\n",
       "      <th></th>\n",
       "      <th></th>\n",
       "      <th></th>\n",
       "      <th></th>\n",
       "      <th></th>\n",
       "      <th></th>\n",
       "    </tr>\n",
       "  </thead>\n",
       "  <tbody>\n",
       "    <tr>\n",
       "      <th>2011-01-31</th>\n",
       "      <td>0.584810</td>\n",
       "      <td>-0.256483</td>\n",
       "      <td>0.256220</td>\n",
       "      <td>0.676160</td>\n",
       "      <td>-0.567731</td>\n",
       "      <td>-0.835265</td>\n",
       "      <td>-0.281828</td>\n",
       "      <td>-1.400279</td>\n",
       "      <td>2.070439</td>\n",
       "      <td>1.515219</td>\n",
       "      <td>-0.115163</td>\n",
       "      <td>-0.586533</td>\n",
       "      <td>0.215949</td>\n",
       "      <td>-1.156532</td>\n",
       "      <td>-0.828638</td>\n",
       "      <td>0.200769</td>\n",
       "      <td>-0.101991</td>\n",
       "      <td>0.209916</td>\n",
       "      <td>-0.766370</td>\n",
       "      <td>0.521750</td>\n",
       "    </tr>\n",
       "    <tr>\n",
       "      <th>2011-01-31</th>\n",
       "      <td>0.438179</td>\n",
       "      <td>0.675379</td>\n",
       "      <td>0.871571</td>\n",
       "      <td>0.061446</td>\n",
       "      <td>-0.454303</td>\n",
       "      <td>-0.905068</td>\n",
       "      <td>-0.282325</td>\n",
       "      <td>-2.278308</td>\n",
       "      <td>0.876427</td>\n",
       "      <td>1.515220</td>\n",
       "      <td>-0.853653</td>\n",
       "      <td>-0.753049</td>\n",
       "      <td>2.471403</td>\n",
       "      <td>-1.325023</td>\n",
       "      <td>-0.868547</td>\n",
       "      <td>-0.050970</td>\n",
       "      <td>0.842940</td>\n",
       "      <td>0.388915</td>\n",
       "      <td>-0.766370</td>\n",
       "      <td>0.381512</td>\n",
       "    </tr>\n",
       "    <tr>\n",
       "      <th>2011-01-31</th>\n",
       "      <td>0.740006</td>\n",
       "      <td>0.120681</td>\n",
       "      <td>1.357778</td>\n",
       "      <td>0.236869</td>\n",
       "      <td>-0.812069</td>\n",
       "      <td>-0.762558</td>\n",
       "      <td>-0.281881</td>\n",
       "      <td>-1.467456</td>\n",
       "      <td>0.013225</td>\n",
       "      <td>4.069995</td>\n",
       "      <td>-0.433737</td>\n",
       "      <td>-0.243165</td>\n",
       "      <td>0.301826</td>\n",
       "      <td>0.589316</td>\n",
       "      <td>0.316307</td>\n",
       "      <td>-0.027065</td>\n",
       "      <td>-0.303045</td>\n",
       "      <td>0.524384</td>\n",
       "      <td>-0.766370</td>\n",
       "      <td>0.666412</td>\n",
       "    </tr>\n",
       "    <tr>\n",
       "      <th>2011-01-31</th>\n",
       "      <td>1.785013</td>\n",
       "      <td>-1.230255</td>\n",
       "      <td>-1.304959</td>\n",
       "      <td>-0.014577</td>\n",
       "      <td>-0.331475</td>\n",
       "      <td>1.391510</td>\n",
       "      <td>-0.283622</td>\n",
       "      <td>-1.336821</td>\n",
       "      <td>-0.077896</td>\n",
       "      <td>-0.187966</td>\n",
       "      <td>3.258869</td>\n",
       "      <td>2.543491</td>\n",
       "      <td>4.535733</td>\n",
       "      <td>1.856777</td>\n",
       "      <td>1.983352</td>\n",
       "      <td>-1.171636</td>\n",
       "      <td>-0.567123</td>\n",
       "      <td>0.870603</td>\n",
       "      <td>0.041103</td>\n",
       "      <td>1.865458</td>\n",
       "    </tr>\n",
       "    <tr>\n",
       "      <th>2011-01-31</th>\n",
       "      <td>-0.249113</td>\n",
       "      <td>0.485649</td>\n",
       "      <td>0.290043</td>\n",
       "      <td>0.633734</td>\n",
       "      <td>-0.836183</td>\n",
       "      <td>-0.653425</td>\n",
       "      <td>-0.281310</td>\n",
       "      <td>-1.059472</td>\n",
       "      <td>-0.095262</td>\n",
       "      <td>-0.187966</td>\n",
       "      <td>-0.375584</td>\n",
       "      <td>-0.090868</td>\n",
       "      <td>0.346238</td>\n",
       "      <td>-0.047373</td>\n",
       "      <td>-0.255787</td>\n",
       "      <td>-0.062964</td>\n",
       "      <td>0.682946</td>\n",
       "      <td>0.241721</td>\n",
       "      <td>0.848577</td>\n",
       "      <td>-0.209805</td>\n",
       "    </tr>\n",
       "    <tr>\n",
       "      <th>...</th>\n",
       "      <td>...</td>\n",
       "      <td>...</td>\n",
       "      <td>...</td>\n",
       "      <td>...</td>\n",
       "      <td>...</td>\n",
       "      <td>...</td>\n",
       "      <td>...</td>\n",
       "      <td>...</td>\n",
       "      <td>...</td>\n",
       "      <td>...</td>\n",
       "      <td>...</td>\n",
       "      <td>...</td>\n",
       "      <td>...</td>\n",
       "      <td>...</td>\n",
       "      <td>...</td>\n",
       "      <td>...</td>\n",
       "      <td>...</td>\n",
       "      <td>...</td>\n",
       "      <td>...</td>\n",
       "      <td>...</td>\n",
       "    </tr>\n",
       "    <tr>\n",
       "      <th>2019-11-30</th>\n",
       "      <td>-0.673725</td>\n",
       "      <td>-0.488928</td>\n",
       "      <td>-0.215529</td>\n",
       "      <td>-0.248372</td>\n",
       "      <td>1.213536</td>\n",
       "      <td>-0.640008</td>\n",
       "      <td>-0.281189</td>\n",
       "      <td>-0.978974</td>\n",
       "      <td>-0.094496</td>\n",
       "      <td>-0.187966</td>\n",
       "      <td>0.136680</td>\n",
       "      <td>0.141824</td>\n",
       "      <td>1.352577</td>\n",
       "      <td>0.619132</td>\n",
       "      <td>0.347448</td>\n",
       "      <td>0.093755</td>\n",
       "      <td>-0.255851</td>\n",
       "      <td>-0.048344</td>\n",
       "      <td>0.848577</td>\n",
       "      <td>-0.602836</td>\n",
       "    </tr>\n",
       "    <tr>\n",
       "      <th>2019-11-30</th>\n",
       "      <td>-0.082306</td>\n",
       "      <td>1.919378</td>\n",
       "      <td>-0.915005</td>\n",
       "      <td>-0.532973</td>\n",
       "      <td>-0.606556</td>\n",
       "      <td>-0.280817</td>\n",
       "      <td>-0.278554</td>\n",
       "      <td>-0.628226</td>\n",
       "      <td>-0.106582</td>\n",
       "      <td>-0.187966</td>\n",
       "      <td>1.159197</td>\n",
       "      <td>0.554890</td>\n",
       "      <td>0.776384</td>\n",
       "      <td>0.443916</td>\n",
       "      <td>0.170026</td>\n",
       "      <td>-0.319699</td>\n",
       "      <td>-0.431042</td>\n",
       "      <td>0.374282</td>\n",
       "      <td>-0.766370</td>\n",
       "      <td>0.007692</td>\n",
       "    </tr>\n",
       "    <tr>\n",
       "      <th>2019-11-30</th>\n",
       "      <td>-0.788796</td>\n",
       "      <td>-0.697156</td>\n",
       "      <td>-0.502967</td>\n",
       "      <td>-0.532973</td>\n",
       "      <td>0.347234</td>\n",
       "      <td>-0.362952</td>\n",
       "      <td>-0.279673</td>\n",
       "      <td>-0.576491</td>\n",
       "      <td>-0.096527</td>\n",
       "      <td>-0.187966</td>\n",
       "      <td>0.931676</td>\n",
       "      <td>0.254655</td>\n",
       "      <td>0.687683</td>\n",
       "      <td>0.495713</td>\n",
       "      <td>0.221076</td>\n",
       "      <td>-0.034815</td>\n",
       "      <td>-0.189048</td>\n",
       "      <td>-1.350102</td>\n",
       "      <td>-0.766370</td>\n",
       "      <td>-0.711019</td>\n",
       "    </tr>\n",
       "    <tr>\n",
       "      <th>2019-11-30</th>\n",
       "      <td>0.396466</td>\n",
       "      <td>-0.882354</td>\n",
       "      <td>0.024753</td>\n",
       "      <td>-0.369627</td>\n",
       "      <td>0.195906</td>\n",
       "      <td>-0.806222</td>\n",
       "      <td>-0.277861</td>\n",
       "      <td>-1.100711</td>\n",
       "      <td>-0.092120</td>\n",
       "      <td>-0.187966</td>\n",
       "      <td>-0.106284</td>\n",
       "      <td>-0.156832</td>\n",
       "      <td>-0.626525</td>\n",
       "      <td>0.199472</td>\n",
       "      <td>-0.055046</td>\n",
       "      <td>0.147710</td>\n",
       "      <td>-0.517358</td>\n",
       "      <td>0.087860</td>\n",
       "      <td>0.041103</td>\n",
       "      <td>0.378648</td>\n",
       "    </tr>\n",
       "    <tr>\n",
       "      <th>2019-11-30</th>\n",
       "      <td>-0.138326</td>\n",
       "      <td>0.263205</td>\n",
       "      <td>1.501982</td>\n",
       "      <td>-0.000870</td>\n",
       "      <td>-0.871190</td>\n",
       "      <td>-0.594363</td>\n",
       "      <td>-0.278425</td>\n",
       "      <td>-0.693430</td>\n",
       "      <td>-0.104750</td>\n",
       "      <td>-0.187966</td>\n",
       "      <td>-0.110159</td>\n",
       "      <td>-0.298946</td>\n",
       "      <td>0.073464</td>\n",
       "      <td>0.414399</td>\n",
       "      <td>0.141460</td>\n",
       "      <td>-0.315340</td>\n",
       "      <td>0.402804</td>\n",
       "      <td>0.665418</td>\n",
       "      <td>0.041103</td>\n",
       "      <td>-0.117846</td>\n",
       "    </tr>\n",
       "  </tbody>\n",
       "</table>\n",
       "<p>10700 rows × 20 columns</p>\n",
       "</div>"
      ],
      "text/plain": [
       "               mom1m    mom12m     chmom    indmom    mom36m      turn  \\\n",
       "Date                                                                     \n",
       "2011-01-31  0.584810 -0.256483  0.256220  0.676160 -0.567731 -0.835265   \n",
       "2011-01-31  0.438179  0.675379  0.871571  0.061446 -0.454303 -0.905068   \n",
       "2011-01-31  0.740006  0.120681  1.357778  0.236869 -0.812069 -0.762558   \n",
       "2011-01-31  1.785013 -1.230255 -1.304959 -0.014577 -0.331475  1.391510   \n",
       "2011-01-31 -0.249113  0.485649  0.290043  0.633734 -0.836183 -0.653425   \n",
       "...              ...       ...       ...       ...       ...       ...   \n",
       "2019-11-30 -0.673725 -0.488928 -0.215529 -0.248372  1.213536 -0.640008   \n",
       "2019-11-30 -0.082306  1.919378 -0.915005 -0.532973 -0.606556 -0.280817   \n",
       "2019-11-30 -0.788796 -0.697156 -0.502967 -0.532973  0.347234 -0.362952   \n",
       "2019-11-30  0.396466 -0.882354  0.024753 -0.369627  0.195906 -0.806222   \n",
       "2019-11-30 -0.138326  0.263205  1.501982 -0.000870 -0.871190 -0.594363   \n",
       "\n",
       "               mvel1    dolvol       ill  zerotrade  baspread    retvol  \\\n",
       "Date                                                                      \n",
       "2011-01-31 -0.281828 -1.400279  2.070439   1.515219 -0.115163 -0.586533   \n",
       "2011-01-31 -0.282325 -2.278308  0.876427   1.515220 -0.853653 -0.753049   \n",
       "2011-01-31 -0.281881 -1.467456  0.013225   4.069995 -0.433737 -0.243165   \n",
       "2011-01-31 -0.283622 -1.336821 -0.077896  -0.187966  3.258869  2.543491   \n",
       "2011-01-31 -0.281310 -1.059472 -0.095262  -0.187966 -0.375584 -0.090868   \n",
       "...              ...       ...       ...        ...       ...       ...   \n",
       "2019-11-30 -0.281189 -0.978974 -0.094496  -0.187966  0.136680  0.141824   \n",
       "2019-11-30 -0.278554 -0.628226 -0.106582  -0.187966  1.159197  0.554890   \n",
       "2019-11-30 -0.279673 -0.576491 -0.096527  -0.187966  0.931676  0.254655   \n",
       "2019-11-30 -0.277861 -1.100711 -0.092120  -0.187966 -0.106284 -0.156832   \n",
       "2019-11-30 -0.278425 -0.693430 -0.104750  -0.187966 -0.110159 -0.298946   \n",
       "\n",
       "             idiovol      beta    betasq        ep        sp       agr  \\\n",
       "Date                                                                     \n",
       "2011-01-31  0.215949 -1.156532 -0.828638  0.200769 -0.101991  0.209916   \n",
       "2011-01-31  2.471403 -1.325023 -0.868547 -0.050970  0.842940  0.388915   \n",
       "2011-01-31  0.301826  0.589316  0.316307 -0.027065 -0.303045  0.524384   \n",
       "2011-01-31  4.535733  1.856777  1.983352 -1.171636 -0.567123  0.870603   \n",
       "2011-01-31  0.346238 -0.047373 -0.255787 -0.062964  0.682946  0.241721   \n",
       "...              ...       ...       ...       ...       ...       ...   \n",
       "2019-11-30  1.352577  0.619132  0.347448  0.093755 -0.255851 -0.048344   \n",
       "2019-11-30  0.776384  0.443916  0.170026 -0.319699 -0.431042  0.374282   \n",
       "2019-11-30  0.687683  0.495713  0.221076 -0.034815 -0.189048 -1.350102   \n",
       "2019-11-30 -0.626525  0.199472 -0.055046  0.147710 -0.517358  0.087860   \n",
       "2019-11-30  0.073464  0.414399  0.141460 -0.315340  0.402804  0.665418   \n",
       "\n",
       "               nincr  return(t-1)  \n",
       "Date                               \n",
       "2011-01-31 -0.766370     0.521750  \n",
       "2011-01-31 -0.766370     0.381512  \n",
       "2011-01-31 -0.766370     0.666412  \n",
       "2011-01-31  0.041103     1.865458  \n",
       "2011-01-31  0.848577    -0.209805  \n",
       "...              ...          ...  \n",
       "2019-11-30  0.848577    -0.602836  \n",
       "2019-11-30 -0.766370     0.007692  \n",
       "2019-11-30 -0.766370    -0.711019  \n",
       "2019-11-30  0.041103     0.378648  \n",
       "2019-11-30  0.041103    -0.117846  \n",
       "\n",
       "[10700 rows x 20 columns]"
      ]
     },
     "execution_count": 530,
     "metadata": {},
     "output_type": "execute_result"
    }
   ],
   "source": [
    "# X_test_top\n",
    "# X_test_bot"
   ]
  },
  {
   "cell_type": "markdown",
   "id": "db3d8800",
   "metadata": {},
   "source": [
    "### 3-layer"
   ]
  },
  {
   "cell_type": "code",
   "execution_count": 531,
   "id": "d05b81f7",
   "metadata": {},
   "outputs": [],
   "source": [
    "input_dim = 20\n",
    "layer1_n = 32\n",
    "layer2_n = 16\n",
    "layer3_n = 8\n",
    "\n",
    "\n",
    "model_3 = Sequential([\n",
    "            layers.Dense(layer1_n, input_dim = input_dim, activation='relu'),\n",
    "            layers.Dense(layer2_n, activation='relu'),\n",
    "            layers.Dense(layer3_n, activation='relu'),\n",
    "            layers.Dense(1, activation='linear')\n",
    "        ])\n"
   ]
  },
  {
   "cell_type": "markdown",
   "id": "b12a2cd7",
   "metadata": {},
   "source": [
    "tuning"
   ]
  },
  {
   "cell_type": "code",
   "execution_count": 532,
   "id": "21ef7dd0",
   "metadata": {},
   "outputs": [],
   "source": [
    "result_nn3 = compile_and_tune_model(model_3, param_nn, X_train_nn, y_train_nn, X_val_nn, y_val_nn)"
   ]
  },
  {
   "cell_type": "code",
   "execution_count": 533,
   "id": "a24cc5cf",
   "metadata": {},
   "outputs": [
    {
     "data": {
      "text/plain": [
       "[{'params': {'epoch': 25, 'learning_rate': 0.05, 'batch_size': 1000},\n",
       "  'val_r2_score_wo_demeaning_nn': 0.0010298672132194042},\n",
       " {'params': {'epoch': 25, 'learning_rate': 0.05, 'batch_size': 1500},\n",
       "  'val_r2_score_wo_demeaning_nn': 0.0017247125506401062},\n",
       " {'params': {'epoch': 25, 'learning_rate': 0.05, 'batch_size': 3000},\n",
       "  'val_r2_score_wo_demeaning_nn': 0.0014482190599665046},\n",
       " {'params': {'epoch': 25, 'learning_rate': 0.025, 'batch_size': 1000},\n",
       "  'val_r2_score_wo_demeaning_nn': 0.0017445699777454138},\n",
       " {'params': {'epoch': 25, 'learning_rate': 0.025, 'batch_size': 1500},\n",
       "  'val_r2_score_wo_demeaning_nn': 0.0018130069365724921},\n",
       " {'params': {'epoch': 25, 'learning_rate': 0.025, 'batch_size': 3000},\n",
       "  'val_r2_score_wo_demeaning_nn': 0.0019832004327327013},\n",
       " {'params': {'epoch': 25, 'learning_rate': 0.01, 'batch_size': 1000},\n",
       "  'val_r2_score_wo_demeaning_nn': 0.0018280247459188104},\n",
       " {'params': {'epoch': 25, 'learning_rate': 0.01, 'batch_size': 1500},\n",
       "  'val_r2_score_wo_demeaning_nn': 0.0018020073184743524},\n",
       " {'params': {'epoch': 25, 'learning_rate': 0.01, 'batch_size': 3000},\n",
       "  'val_r2_score_wo_demeaning_nn': 0.0018051514634862542},\n",
       " {'params': {'epoch': 50, 'learning_rate': 0.05, 'batch_size': 1000},\n",
       "  'val_r2_score_wo_demeaning_nn': 0.0015574661083519459},\n",
       " {'params': {'epoch': 50, 'learning_rate': 0.05, 'batch_size': 1500},\n",
       "  'val_r2_score_wo_demeaning_nn': 0.0018952687969431281},\n",
       " {'params': {'epoch': 50, 'learning_rate': 0.05, 'batch_size': 3000},\n",
       "  'val_r2_score_wo_demeaning_nn': 0.0012364288559183478},\n",
       " {'params': {'epoch': 50, 'learning_rate': 0.025, 'batch_size': 1000},\n",
       "  'val_r2_score_wo_demeaning_nn': 0.0017751521663740277},\n",
       " {'params': {'epoch': 50, 'learning_rate': 0.025, 'batch_size': 1500},\n",
       "  'val_r2_score_wo_demeaning_nn': 0.0014443969121202826},\n",
       " {'params': {'epoch': 50, 'learning_rate': 0.025, 'batch_size': 3000},\n",
       "  'val_r2_score_wo_demeaning_nn': 0.0017313709249719977},\n",
       " {'params': {'epoch': 50, 'learning_rate': 0.01, 'batch_size': 1000},\n",
       "  'val_r2_score_wo_demeaning_nn': 0.0015069576911628246},\n",
       " {'params': {'epoch': 50, 'learning_rate': 0.01, 'batch_size': 1500},\n",
       "  'val_r2_score_wo_demeaning_nn': 0.0018529122462496161},\n",
       " {'params': {'epoch': 50, 'learning_rate': 0.01, 'batch_size': 3000},\n",
       "  'val_r2_score_wo_demeaning_nn': 0.00185389316175133},\n",
       " {'params': {'epoch': 75, 'learning_rate': 0.05, 'batch_size': 1000},\n",
       "  'val_r2_score_wo_demeaning_nn': 0.0013998978538438678},\n",
       " {'params': {'epoch': 75, 'learning_rate': 0.05, 'batch_size': 1500},\n",
       "  'val_r2_score_wo_demeaning_nn': 0.0017532259225845337},\n",
       " {'params': {'epoch': 75, 'learning_rate': 0.05, 'batch_size': 3000},\n",
       "  'val_r2_score_wo_demeaning_nn': 0.0012788722524419427},\n",
       " {'params': {'epoch': 75, 'learning_rate': 0.025, 'batch_size': 1000},\n",
       "  'val_r2_score_wo_demeaning_nn': 0.0014438810758292675},\n",
       " {'params': {'epoch': 75, 'learning_rate': 0.025, 'batch_size': 1500},\n",
       "  'val_r2_score_wo_demeaning_nn': 0.0018649076810106635},\n",
       " {'params': {'epoch': 75, 'learning_rate': 0.025, 'batch_size': 3000},\n",
       "  'val_r2_score_wo_demeaning_nn': 0.0016241768607869744},\n",
       " {'params': {'epoch': 75, 'learning_rate': 0.01, 'batch_size': 1000},\n",
       "  'val_r2_score_wo_demeaning_nn': 0.0017677578143775463},\n",
       " {'params': {'epoch': 75, 'learning_rate': 0.01, 'batch_size': 1500},\n",
       "  'val_r2_score_wo_demeaning_nn': 0.0017755503067746758},\n",
       " {'params': {'epoch': 75, 'learning_rate': 0.01, 'batch_size': 3000},\n",
       "  'val_r2_score_wo_demeaning_nn': 0.0016581416130065918},\n",
       " {'params': {'epoch': 100, 'learning_rate': 0.05, 'batch_size': 1000},\n",
       "  'val_r2_score_wo_demeaning_nn': 0.0010022686328738928},\n",
       " {'params': {'epoch': 100, 'learning_rate': 0.05, 'batch_size': 1500},\n",
       "  'val_r2_score_wo_demeaning_nn': 0.0018153637647628784},\n",
       " {'params': {'epoch': 100, 'learning_rate': 0.05, 'batch_size': 3000},\n",
       "  'val_r2_score_wo_demeaning_nn': 0.0013803094625473022},\n",
       " {'params': {'epoch': 100, 'learning_rate': 0.025, 'batch_size': 1000},\n",
       "  'val_r2_score_wo_demeaning_nn': 0.001347833196632564},\n",
       " {'params': {'epoch': 100, 'learning_rate': 0.025, 'batch_size': 1500},\n",
       "  'val_r2_score_wo_demeaning_nn': 0.001436762511730194},\n",
       " {'params': {'epoch': 100, 'learning_rate': 0.025, 'batch_size': 3000},\n",
       "  'val_r2_score_wo_demeaning_nn': 0.001992250559851527},\n",
       " {'params': {'epoch': 100, 'learning_rate': 0.01, 'batch_size': 1000},\n",
       "  'val_r2_score_wo_demeaning_nn': 0.0017522440757602453},\n",
       " {'params': {'epoch': 100, 'learning_rate': 0.01, 'batch_size': 1500},\n",
       "  'val_r2_score_wo_demeaning_nn': 0.001581624150276184},\n",
       " {'params': {'epoch': 100, 'learning_rate': 0.01, 'batch_size': 3000},\n",
       "  'val_r2_score_wo_demeaning_nn': 0.0020040820818394423}]"
      ]
     },
     "execution_count": 533,
     "metadata": {},
     "output_type": "execute_result"
    }
   ],
   "source": [
    "result_nn3"
   ]
  },
  {
   "cell_type": "markdown",
   "id": "a928625c",
   "metadata": {},
   "source": [
    "**best model**<br>\n",
    "***\n",
    "best parameters"
   ]
  },
  {
   "cell_type": "code",
   "execution_count": 534,
   "id": "0ea0e814",
   "metadata": {},
   "outputs": [],
   "source": [
    "result_nn3 = pd.DataFrame(result_nn3).sort_values('val_r2_score_wo_demeaning_nn',ascending=False)\n",
    "opt_score = result_nn3.iloc[0,1]\n",
    "opt_para = result_nn3.iloc[0,0]"
   ]
  },
  {
   "cell_type": "code",
   "execution_count": 542,
   "id": "e0e11871",
   "metadata": {},
   "outputs": [
    {
     "data": {
      "text/plain": [
       "0.0020040820818394423"
      ]
     },
     "execution_count": 542,
     "metadata": {},
     "output_type": "execute_result"
    }
   ],
   "source": [
    "result_nn3.iloc[0,1]"
   ]
  },
  {
   "cell_type": "code",
   "execution_count": 543,
   "id": "3ed235fa",
   "metadata": {},
   "outputs": [
    {
     "data": {
      "text/plain": [
       "{'epoch': 100, 'learning_rate': 0.01, 'batch_size': 3000}"
      ]
     },
     "execution_count": 543,
     "metadata": {},
     "output_type": "execute_result"
    }
   ],
   "source": [
    "result_nn3.iloc[0,0]"
   ]
  },
  {
   "cell_type": "markdown",
   "id": "c4d3e3eb",
   "metadata": {},
   "source": [
    "best model"
   ]
  },
  {
   "cell_type": "code",
   "execution_count": 539,
   "id": "08c61569",
   "metadata": {},
   "outputs": [],
   "source": [
    "model_nn3 = Sequential([\n",
    "            layers.Dense(layer1_n, activation='relu', input_dim=input_dim),\n",
    "            layers.Dense(1, activation='linear')\n",
    "        ])\n",
    "\n",
    "model_nn3.compile(optimizer=keras.optimizers.Adam(learning_rate=opt_para['learning_rate']),\n",
    "                      loss='mean_squared_error', metrics=r2_score_wo_demeaning_nn)\n",
    "\n",
    "history = model_nn3.fit(X_train_combined_nn, y_train_combined_nn, epochs=opt_para['epoch'], batch_size=opt_para['batch_size'],\n",
    "                            validation_data=(X_test_nn, y_test_nn), verbose=0)\n",
    "        \n",
    "last_epoch_metric = history.history['val_r2_score_wo_demeaning_nn'][-1]\n",
    "\n"
   ]
  },
  {
   "cell_type": "code",
   "execution_count": 540,
   "id": "df3c2f57",
   "metadata": {},
   "outputs": [
    {
     "data": {
      "text/plain": [
       "0.008071613498032093"
      ]
     },
     "execution_count": 540,
     "metadata": {},
     "output_type": "execute_result"
    }
   ],
   "source": [
    "last_epoch_metric"
   ]
  },
  {
   "cell_type": "markdown",
   "id": "7dcbd094",
   "metadata": {},
   "source": [
    "**top and bottom 100 prediction**"
   ]
  },
  {
   "cell_type": "code",
   "execution_count": 544,
   "id": "1b6c1c75",
   "metadata": {},
   "outputs": [
    {
     "name": "stdout",
     "output_type": "stream",
     "text": [
      "335/335 [==============================] - 1s 2ms/step\n",
      "Top 100 stocks R^2-oos: -0.09245109558105469\n"
     ]
    }
   ],
   "source": [
    "# y_pred_nn3_top = model_nn3.predict(X_test_top)\n",
    "\n",
    "# r2_nn3_top = r2_score_wo_demeaning(y_test_top, y_pred_nn3_top)\n",
    "# print(\"Top 100 stocks R^2-oos:\", r2_nn3_top)"
   ]
  },
  {
   "cell_type": "code",
   "execution_count": 545,
   "id": "f39b8bf2",
   "metadata": {
    "scrolled": true
   },
   "outputs": [
    {
     "name": "stdout",
     "output_type": "stream",
     "text": [
      "335/335 [==============================] - 1s 2ms/step\n",
      "Bottom 100 stocks R^2-oos: -0.02712559700012207\n"
     ]
    }
   ],
   "source": [
    "# y_pred_nn3_bot = model_nn3.predict(X_test_bot)\n",
    "\n",
    "# r2_nn3_bot = r2_score_wo_demeaning(y_test_bot, y_pred_nn3_bot)\n",
    "# print(\"Bottom 100 stocks R^2-oos:\", r2_nn3_bot)"
   ]
  },
  {
   "cell_type": "code",
   "execution_count": null,
   "id": "d3a035e0",
   "metadata": {},
   "outputs": [],
   "source": []
  },
  {
   "cell_type": "code",
   "execution_count": null,
   "id": "a956e035",
   "metadata": {},
   "outputs": [],
   "source": []
  },
  {
   "cell_type": "code",
   "execution_count": null,
   "id": "43e2fca0",
   "metadata": {},
   "outputs": [],
   "source": []
  }
 ],
 "metadata": {
  "kernelspec": {
   "display_name": "Python 3 (ipykernel)",
   "language": "python",
   "name": "python3"
  },
  "language_info": {
   "codemirror_mode": {
    "name": "ipython",
    "version": 3
   },
   "file_extension": ".py",
   "mimetype": "text/x-python",
   "name": "python",
   "nbconvert_exporter": "python",
   "pygments_lexer": "ipython3",
   "version": "3.11.5"
  }
 },
 "nbformat": 4,
 "nbformat_minor": 5
}
