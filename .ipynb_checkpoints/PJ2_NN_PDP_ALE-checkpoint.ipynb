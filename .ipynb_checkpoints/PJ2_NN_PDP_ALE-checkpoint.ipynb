{
 "cells": [
  {
   "cell_type": "markdown",
   "id": "968a2adf",
   "metadata": {},
   "source": [
    "### TO-DO\n",
    "\n",
    "fix the model issue -> get nice models trained on rolling windows to represent time changes<br>\n",
    "save all models - > load all models <br>\n",
    "<br>\n",
    "interpret each model for each bin: model1 - bin 1 to 9; model2 - bin 1 to 9, etc.<br>\n",
    "PDP, ALE, correlation matrix<br>\n",
    "decide which features to interpret in the nest step: <br>\n",
    "shapley, LIME (change the feature indices and the number of samples)<br>\n",
    "graph things: shapley - for each bin, graph results over time (9 graphs); <br>"
   ]
  },
  {
   "cell_type": "code",
   "execution_count": 44,
   "id": "98c87310",
   "metadata": {},
   "outputs": [],
   "source": [
    "import numpy as np\n",
    "import pandas as pd"
   ]
  },
  {
   "cell_type": "code",
   "execution_count": 64,
   "id": "24274489",
   "metadata": {},
   "outputs": [],
   "source": [
    "dtype_specification = {'SICCD': str}"
   ]
  },
  {
   "cell_type": "code",
   "execution_count": 65,
   "id": "2a412ef2",
   "metadata": {},
   "outputs": [],
   "source": [
    "df = pd.read_csv('less_messy_data_keyword_LESS.csv', dtype=dtype_specification)"
   ]
  },
  {
   "cell_type": "code",
   "execution_count": 66,
   "id": "75ea1ae0",
   "metadata": {
    "scrolled": true
   },
   "outputs": [
    {
     "data": {
      "text/plain": [
       "Index(['Unnamed: 0.1', 'Unnamed: 0', 'Date', 'permno', 'return', 'mom1m',\n",
       "       'mom12m', 'chmom', 'indmom', 'mom36m', 'turn', 'mvel1', 'dolvol', 'ill',\n",
       "       'zerotrade', 'baspread', 'retvol', 'idiovol', 'beta', 'betasq', 'ep',\n",
       "       'sp', 'agr', 'nincr', 'return(t-1)', 'r(t+1)', 'SICCD', 'COMNAM'],\n",
       "      dtype='object')"
      ]
     },
     "execution_count": 66,
     "metadata": {},
     "output_type": "execute_result"
    }
   ],
   "source": [
    "df.columns"
   ]
  },
  {
   "cell_type": "code",
   "execution_count": 67,
   "id": "e4763113",
   "metadata": {},
   "outputs": [],
   "source": [
    "df = df.drop(columns = ['COMNAM', 'Unnamed: 0.1', 'Unnamed: 0', 'r(t+1)' , 'return'])"
   ]
  },
  {
   "cell_type": "code",
   "execution_count": 68,
   "id": "dbc7fc0d",
   "metadata": {},
   "outputs": [],
   "source": [
    "df = df.dropna()"
   ]
  },
  {
   "cell_type": "code",
   "execution_count": 69,
   "id": "ff26d6d3",
   "metadata": {},
   "outputs": [],
   "source": [
    "df.set_index('Date', inplace=True, drop = True)"
   ]
  },
  {
   "cell_type": "markdown",
   "id": "2b79fd8e",
   "metadata": {},
   "source": [
    "### read pickle"
   ]
  },
  {
   "cell_type": "code",
   "execution_count": 64,
   "id": "65760fc3",
   "metadata": {},
   "outputs": [],
   "source": [
    "bins = pd.read_pickle('dataframes.pkl')"
   ]
  },
  {
   "cell_type": "code",
   "execution_count": 68,
   "id": "bbc168f1",
   "metadata": {},
   "outputs": [
    {
     "name": "stdout",
     "output_type": "stream",
     "text": [
      "227\n",
      "------\n",
      "2270\n",
      "------\n",
      "11350\n",
      "------\n",
      "23154\n",
      "------\n",
      "6129\n",
      "------\n",
      "9988\n",
      "------\n",
      "17706\n",
      "------\n",
      "6356\n",
      "------\n",
      "5675\n",
      "------\n"
     ]
    }
   ],
   "source": [
    "# len of each bin\n",
    "for item in bins:\n",
    "    print(len(item))\n",
    "    print('------')"
   ]
  },
  {
   "cell_type": "code",
   "execution_count": 65,
   "id": "b90305ef",
   "metadata": {},
   "outputs": [
    {
     "name": "stdout",
     "output_type": "stream",
     "text": [
      "Index(['mom1m', 'mom12m', 'chmom', 'indmom', 'mom36m', 'turn', 'mvel1',\n",
      "       'dolvol', 'ill', 'zerotrade', 'baspread', 'retvol', 'idiovol', 'beta',\n",
      "       'betasq', 'ep', 'sp', 'agr', 'nincr', 'return(t-1)'],\n",
      "      dtype='object')\n",
      "20\n"
     ]
    }
   ],
   "source": [
    "print(bins[0].columns)\n",
    "print(len(bins[0].columns))"
   ]
  },
  {
   "cell_type": "markdown",
   "id": "33e1c2c4",
   "metadata": {},
   "source": [
    "### load models"
   ]
  },
  {
   "cell_type": "code",
   "execution_count": 7,
   "id": "26d8d6ef",
   "metadata": {},
   "outputs": [],
   "source": [
    "import pickle"
   ]
  },
  {
   "cell_type": "code",
   "execution_count": 25,
   "id": "f2bc70fa",
   "metadata": {},
   "outputs": [],
   "source": [
    "import tensorflow as tf\n",
    "import keras\n",
    "\n",
    "@keras.saving.register_keras_serializable()\n",
    "def r2_score_wo_demeaning_nn(y_true, y_pred):\n",
    "    ss_res = tf.reduce_sum(tf.square(y_true - y_pred))\n",
    "    ss_tot = tf.reduce_sum(tf.square(y_true - 0))\n",
    "    r2 = 1 - (ss_res / ss_tot)\n",
    "    return r2"
   ]
  },
  {
   "cell_type": "code",
   "execution_count": 26,
   "id": "818752dd",
   "metadata": {},
   "outputs": [],
   "source": [
    "with open('models_NN.pkl', 'rb') as f:\n",
    "    models_NN = pickle.load(f)"
   ]
  },
  {
   "cell_type": "code",
   "execution_count": 16,
   "id": "194ad69d",
   "metadata": {},
   "outputs": [],
   "source": [
    "# NN\n",
    "\n",
    "from keras import layers\n",
    "from keras import Sequential"
   ]
  },
  {
   "cell_type": "code",
   "execution_count": 49,
   "id": "321582e7",
   "metadata": {},
   "outputs": [],
   "source": [
    "# for i in range(len(bins)):\n",
    "#     bins[i] = bins[i].values"
   ]
  },
  {
   "cell_type": "code",
   "execution_count": 69,
   "id": "ec40dc1f",
   "metadata": {},
   "outputs": [
    {
     "data": {
      "text/plain": [
       "pandas.core.frame.DataFrame"
      ]
     },
     "execution_count": 69,
     "metadata": {},
     "output_type": "execute_result"
    }
   ],
   "source": [
    "type(bins[0])"
   ]
  },
  {
   "cell_type": "code",
   "execution_count": null,
   "id": "a3aa1063",
   "metadata": {},
   "outputs": [],
   "source": []
  },
  {
   "cell_type": "markdown",
   "id": "23e543c0",
   "metadata": {},
   "source": [
    "### interpreting\n",
    "***\n",
    "PDP<br>\n",
    "ALE<br>\n",
    "permulation feature importance<br>\n",
    "correlation matrix<br>"
   ]
  },
  {
   "cell_type": "code",
   "execution_count": 62,
   "id": "338d71c0",
   "metadata": {},
   "outputs": [],
   "source": [
    "import matplotlib.pyplot as plt"
   ]
  },
  {
   "cell_type": "code",
   "execution_count": 52,
   "id": "92f03953",
   "metadata": {},
   "outputs": [],
   "source": [
    "features = ['mom1m', 'mom12m', 'chmom', 'indmom', 'mom36m', 'turn', 'mvel1',\n",
    "       'dolvol', 'ill', 'zerotrade', 'baspread', 'retvol', 'idiovol', 'beta',\n",
    "       'betasq', 'ep', 'sp', 'agr', 'nincr', 'return(t-1)']"
   ]
  },
  {
   "cell_type": "code",
   "execution_count": null,
   "id": "e94b90bc",
   "metadata": {},
   "outputs": [],
   "source": []
  }
 ],
 "metadata": {
  "kernelspec": {
   "display_name": "Python 3 (ipykernel)",
   "language": "python",
   "name": "python3"
  },
  "language_info": {
   "codemirror_mode": {
    "name": "ipython",
    "version": 3
   },
   "file_extension": ".py",
   "mimetype": "text/x-python",
   "name": "python",
   "nbconvert_exporter": "python",
   "pygments_lexer": "ipython3",
   "version": "3.11.5"
  }
 },
 "nbformat": 4,
 "nbformat_minor": 5
}
