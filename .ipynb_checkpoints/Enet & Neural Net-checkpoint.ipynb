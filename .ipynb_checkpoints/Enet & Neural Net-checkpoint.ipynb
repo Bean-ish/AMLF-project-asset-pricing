{
 "cells": [
  {
   "cell_type": "code",
   "execution_count": 91,
   "id": "10e35d16",
   "metadata": {},
   "outputs": [],
   "source": [
    "import numpy as np\n",
    "import pandas as pd"
   ]
  },
  {
   "cell_type": "code",
   "execution_count": 92,
   "id": "8fdfe2d8",
   "metadata": {},
   "outputs": [],
   "source": [
    "df = pd.read_csv('C:/users/LL/Documents/GitHub/AMLF_projects/data.csv')"
   ]
  },
  {
   "cell_type": "code",
   "execution_count": 93,
   "id": "5f9bfc1b",
   "metadata": {},
   "outputs": [],
   "source": [
    "df = df.drop(columns = ['Unnamed: 0'])"
   ]
  },
  {
   "cell_type": "code",
   "execution_count": 94,
   "id": "485ca046",
   "metadata": {
    "scrolled": true
   },
   "outputs": [
    {
     "data": {
      "text/html": [
       "<div>\n",
       "<style scoped>\n",
       "    .dataframe tbody tr th:only-of-type {\n",
       "        vertical-align: middle;\n",
       "    }\n",
       "\n",
       "    .dataframe tbody tr th {\n",
       "        vertical-align: top;\n",
       "    }\n",
       "\n",
       "    .dataframe thead th {\n",
       "        text-align: right;\n",
       "    }\n",
       "</style>\n",
       "<table border=\"1\" class=\"dataframe\">\n",
       "  <thead>\n",
       "    <tr style=\"text-align: right;\">\n",
       "      <th></th>\n",
       "      <th>Date</th>\n",
       "      <th>permno</th>\n",
       "      <th>return</th>\n",
       "      <th>mom1m</th>\n",
       "      <th>mom12m</th>\n",
       "      <th>chmom</th>\n",
       "      <th>indmom</th>\n",
       "      <th>mom36m</th>\n",
       "      <th>turn</th>\n",
       "      <th>mvel1</th>\n",
       "      <th>...</th>\n",
       "      <th>baspread</th>\n",
       "      <th>retvol</th>\n",
       "      <th>idiovol</th>\n",
       "      <th>beta</th>\n",
       "      <th>betasq</th>\n",
       "      <th>ep</th>\n",
       "      <th>sp</th>\n",
       "      <th>agr</th>\n",
       "      <th>nincr</th>\n",
       "      <th>return(t-1)</th>\n",
       "    </tr>\n",
       "  </thead>\n",
       "  <tbody>\n",
       "    <tr>\n",
       "      <th>0</th>\n",
       "      <td>2001-01-31</td>\n",
       "      <td>13610</td>\n",
       "      <td>-0.202242</td>\n",
       "      <td>0.277978</td>\n",
       "      <td>-0.082232</td>\n",
       "      <td>0.518490</td>\n",
       "      <td>0.198455</td>\n",
       "      <td>-0.258322</td>\n",
       "      <td>0.820391</td>\n",
       "      <td>9.897840e+05</td>\n",
       "      <td>...</td>\n",
       "      <td>0.037278</td>\n",
       "      <td>0.032888</td>\n",
       "      <td>0.056769</td>\n",
       "      <td>0.398706</td>\n",
       "      <td>0.158967</td>\n",
       "      <td>0.019041</td>\n",
       "      <td>1.472909</td>\n",
       "      <td>0.325935</td>\n",
       "      <td>5.0</td>\n",
       "      <td>NaN</td>\n",
       "    </tr>\n",
       "    <tr>\n",
       "      <th>1</th>\n",
       "      <td>2001-01-31</td>\n",
       "      <td>13856</td>\n",
       "      <td>-0.112756</td>\n",
       "      <td>0.095372</td>\n",
       "      <td>0.300233</td>\n",
       "      <td>-0.147620</td>\n",
       "      <td>0.069669</td>\n",
       "      <td>0.000718</td>\n",
       "      <td>0.660636</td>\n",
       "      <td>7.152231e+07</td>\n",
       "      <td>...</td>\n",
       "      <td>0.033983</td>\n",
       "      <td>0.022389</td>\n",
       "      <td>0.042020</td>\n",
       "      <td>0.106574</td>\n",
       "      <td>0.011358</td>\n",
       "      <td>0.039970</td>\n",
       "      <td>0.397105</td>\n",
       "      <td>0.225463</td>\n",
       "      <td>1.0</td>\n",
       "      <td>NaN</td>\n",
       "    </tr>\n",
       "    <tr>\n",
       "      <th>2</th>\n",
       "      <td>2001-01-31</td>\n",
       "      <td>13901</td>\n",
       "      <td>0.010566</td>\n",
       "      <td>0.166088</td>\n",
       "      <td>0.759861</td>\n",
       "      <td>0.504130</td>\n",
       "      <td>0.400659</td>\n",
       "      <td>-0.440929</td>\n",
       "      <td>0.775189</td>\n",
       "      <td>9.783550e+07</td>\n",
       "      <td>...</td>\n",
       "      <td>0.032844</td>\n",
       "      <td>0.023475</td>\n",
       "      <td>0.050243</td>\n",
       "      <td>0.088382</td>\n",
       "      <td>0.007811</td>\n",
       "      <td>0.142695</td>\n",
       "      <td>1.148088</td>\n",
       "      <td>-0.024383</td>\n",
       "      <td>2.0</td>\n",
       "      <td>NaN</td>\n",
       "    </tr>\n",
       "    <tr>\n",
       "      <th>3</th>\n",
       "      <td>2001-01-31</td>\n",
       "      <td>13928</td>\n",
       "      <td>0.033114</td>\n",
       "      <td>0.006637</td>\n",
       "      <td>0.236486</td>\n",
       "      <td>0.039925</td>\n",
       "      <td>0.400659</td>\n",
       "      <td>0.025686</td>\n",
       "      <td>0.813903</td>\n",
       "      <td>1.451888e+07</td>\n",
       "      <td>...</td>\n",
       "      <td>0.035964</td>\n",
       "      <td>0.023917</td>\n",
       "      <td>0.037427</td>\n",
       "      <td>0.159983</td>\n",
       "      <td>0.025595</td>\n",
       "      <td>0.051091</td>\n",
       "      <td>1.138525</td>\n",
       "      <td>-0.069288</td>\n",
       "      <td>1.0</td>\n",
       "      <td>NaN</td>\n",
       "    </tr>\n",
       "    <tr>\n",
       "      <th>4</th>\n",
       "      <td>2001-01-31</td>\n",
       "      <td>13936</td>\n",
       "      <td>0.014335</td>\n",
       "      <td>0.009709</td>\n",
       "      <td>0.574141</td>\n",
       "      <td>0.224657</td>\n",
       "      <td>-0.075486</td>\n",
       "      <td>-0.397110</td>\n",
       "      <td>0.755288</td>\n",
       "      <td>3.550430e+05</td>\n",
       "      <td>...</td>\n",
       "      <td>0.031413</td>\n",
       "      <td>0.030343</td>\n",
       "      <td>0.068491</td>\n",
       "      <td>1.060490</td>\n",
       "      <td>1.124640</td>\n",
       "      <td>0.091598</td>\n",
       "      <td>6.902488</td>\n",
       "      <td>0.000838</td>\n",
       "      <td>0.0</td>\n",
       "      <td>NaN</td>\n",
       "    </tr>\n",
       "  </tbody>\n",
       "</table>\n",
       "<p>5 rows × 23 columns</p>\n",
       "</div>"
      ],
      "text/plain": [
       "         Date  permno    return     mom1m    mom12m     chmom    indmom  \\\n",
       "0  2001-01-31   13610 -0.202242  0.277978 -0.082232  0.518490  0.198455   \n",
       "1  2001-01-31   13856 -0.112756  0.095372  0.300233 -0.147620  0.069669   \n",
       "2  2001-01-31   13901  0.010566  0.166088  0.759861  0.504130  0.400659   \n",
       "3  2001-01-31   13928  0.033114  0.006637  0.236486  0.039925  0.400659   \n",
       "4  2001-01-31   13936  0.014335  0.009709  0.574141  0.224657 -0.075486   \n",
       "\n",
       "     mom36m      turn         mvel1  ...  baspread    retvol   idiovol  \\\n",
       "0 -0.258322  0.820391  9.897840e+05  ...  0.037278  0.032888  0.056769   \n",
       "1  0.000718  0.660636  7.152231e+07  ...  0.033983  0.022389  0.042020   \n",
       "2 -0.440929  0.775189  9.783550e+07  ...  0.032844  0.023475  0.050243   \n",
       "3  0.025686  0.813903  1.451888e+07  ...  0.035964  0.023917  0.037427   \n",
       "4 -0.397110  0.755288  3.550430e+05  ...  0.031413  0.030343  0.068491   \n",
       "\n",
       "       beta    betasq        ep        sp       agr  nincr  return(t-1)  \n",
       "0  0.398706  0.158967  0.019041  1.472909  0.325935    5.0          NaN  \n",
       "1  0.106574  0.011358  0.039970  0.397105  0.225463    1.0          NaN  \n",
       "2  0.088382  0.007811  0.142695  1.148088 -0.024383    2.0          NaN  \n",
       "3  0.159983  0.025595  0.051091  1.138525 -0.069288    1.0          NaN  \n",
       "4  1.060490  1.124640  0.091598  6.902488  0.000838    0.0          NaN  \n",
       "\n",
       "[5 rows x 23 columns]"
      ]
     },
     "execution_count": 94,
     "metadata": {},
     "output_type": "execute_result"
    }
   ],
   "source": [
    "df.head()"
   ]
  },
  {
   "cell_type": "code",
   "execution_count": 95,
   "id": "6b0fa84e",
   "metadata": {},
   "outputs": [
    {
     "name": "stdout",
     "output_type": "stream",
     "text": [
      "23\n",
      "Index(['Date', 'permno', 'return', 'mom1m', 'mom12m', 'chmom', 'indmom',\n",
      "       'mom36m', 'turn', 'mvel1', 'dolvol', 'ill', 'zerotrade', 'baspread',\n",
      "       'retvol', 'idiovol', 'beta', 'betasq', 'ep', 'sp', 'agr', 'nincr',\n",
      "       'return(t-1)'],\n",
      "      dtype='object')\n"
     ]
    }
   ],
   "source": [
    "print(len(df.columns))\n",
    "print(df.columns)"
   ]
  },
  {
   "cell_type": "code",
   "execution_count": 139,
   "id": "2ebba6b5",
   "metadata": {},
   "outputs": [
    {
     "data": {
      "text/plain": [
       "Date\n",
       "2001-01-31    12.968131\n",
       "2001-01-31    17.527472\n",
       "2001-01-31    17.773933\n",
       "2001-01-31    16.111030\n",
       "2001-01-31    12.518458\n",
       "                ...    \n",
       "2019-12-31    10.203254\n",
       "2019-12-31     9.558279\n",
       "2019-12-31    11.116588\n",
       "2019-12-31    14.259460\n",
       "2019-12-31    14.433653\n",
       "Name: dolvol, Length: 114000, dtype: float64"
      ]
     },
     "execution_count": 139,
     "metadata": {},
     "output_type": "execute_result"
    }
   ],
   "source": [
    "df['dolvol']"
   ]
  },
  {
   "cell_type": "code",
   "execution_count": 96,
   "id": "8cccd2f2",
   "metadata": {},
   "outputs": [
    {
     "data": {
      "text/plain": [
       "Date            object\n",
       "permno           int64\n",
       "return         float64\n",
       "mom1m          float64\n",
       "mom12m         float64\n",
       "chmom          float64\n",
       "indmom         float64\n",
       "mom36m         float64\n",
       "turn           float64\n",
       "mvel1          float64\n",
       "dolvol         float64\n",
       "ill            float64\n",
       "zerotrade      float64\n",
       "baspread       float64\n",
       "retvol         float64\n",
       "idiovol        float64\n",
       "beta           float64\n",
       "betasq         float64\n",
       "ep             float64\n",
       "sp             float64\n",
       "agr            float64\n",
       "nincr          float64\n",
       "return(t-1)    float64\n",
       "dtype: object"
      ]
     },
     "execution_count": 96,
     "metadata": {},
     "output_type": "execute_result"
    }
   ],
   "source": [
    "df.dtypes"
   ]
  },
  {
   "cell_type": "markdown",
   "id": "55f82d4d",
   "metadata": {},
   "source": [
    "According to note 30: \"Therefore, to predict returns at month t+1, we use most recent monthly characteristics at the end of month t.\" <br>\n",
    "Hence, **shift return t+1 to serve as response: r(t+1)**."
   ]
  },
  {
   "cell_type": "code",
   "execution_count": 97,
   "id": "4ba792e3",
   "metadata": {},
   "outputs": [],
   "source": [
    "df['r(t+1)'] = df.groupby('permno')['return'].shift(-1)"
   ]
  },
  {
   "cell_type": "code",
   "execution_count": 98,
   "id": "860f265d",
   "metadata": {},
   "outputs": [
    {
     "data": {
      "text/plain": [
       "114000"
      ]
     },
     "execution_count": 98,
     "metadata": {},
     "output_type": "execute_result"
    }
   ],
   "source": [
    "len(df)"
   ]
  },
  {
   "cell_type": "code",
   "execution_count": 99,
   "id": "be7100fc",
   "metadata": {},
   "outputs": [
    {
     "data": {
      "text/plain": [
       "Date              0\n",
       "permno            0\n",
       "return            0\n",
       "mom1m             3\n",
       "mom12m          269\n",
       "chmom           269\n",
       "indmom            0\n",
       "mom36m         1566\n",
       "turn              9\n",
       "mvel1             0\n",
       "dolvol            6\n",
       "ill               0\n",
       "zerotrade         0\n",
       "baspread          0\n",
       "retvol            0\n",
       "idiovol         352\n",
       "beta            352\n",
       "betasq          352\n",
       "ep              473\n",
       "sp              473\n",
       "agr            1026\n",
       "nincr          2794\n",
       "return(t-1)     500\n",
       "r(t+1)          500\n",
       "dtype: int64"
      ]
     },
     "execution_count": 99,
     "metadata": {},
     "output_type": "execute_result"
    }
   ],
   "source": [
    "df.isna().sum()"
   ]
  },
  {
   "cell_type": "markdown",
   "id": "f9eb3b8a",
   "metadata": {},
   "source": [
    "### handle missing data\n",
    "\n",
    "According to note 30 (bottom of p 2248): \"Another issue is missing characteristics, which we replace with the cross-sectional median at each month for each stock, respectively.\" <br>\n",
    "Hence, calculate monthly cross-sectional median for features: **'mom1m', 'mom12m', 'chmom', 'mom36m', 'turn', 'dolvol', 'idiovol', 'beta', 'betasq', 'ep', 'sp', 'agr', 'nincr'**."
   ]
  },
  {
   "cell_type": "code",
   "execution_count": 101,
   "id": "aba53d6c",
   "metadata": {},
   "outputs": [],
   "source": [
    "df_filled = df.copy()\n",
    "for feature in ['mom1m', 'mom12m', 'chmom', 'mom36m', 'turn', 'dolvol', 'idiovol', 'beta', 'betasq', 'ep', 'sp', 'agr', 'nincr']:\n",
    "    df_filled[feature] = df_filled.groupby('Date')[feature].transform(lambda x: x.fillna(x.median()))"
   ]
  },
  {
   "cell_type": "code",
   "execution_count": 102,
   "id": "0cd49cc8",
   "metadata": {},
   "outputs": [
    {
     "data": {
      "text/plain": [
       "permno     0\n",
       "mom1m      0\n",
       "mom12m     0\n",
       "chmom      0\n",
       "mom36m     0\n",
       "turn       0\n",
       "dolvol     0\n",
       "idiovol    0\n",
       "beta       0\n",
       "betasq     0\n",
       "ep         0\n",
       "sp         0\n",
       "agr        0\n",
       "nincr      0\n",
       "dtype: int64"
      ]
     },
     "execution_count": 102,
     "metadata": {},
     "output_type": "execute_result"
    }
   ],
   "source": [
    "df_filled.isna().sum()"
   ]
  },
  {
   "cell_type": "code",
   "execution_count": 103,
   "id": "f81d4a58",
   "metadata": {},
   "outputs": [],
   "source": [
    "df.loc[:, ['mom1m', 'mom12m', 'chmom', 'mom36m', 'turn', 'dolvol', 'idiovol', 'beta', 'betasq', 'ep', 'sp', 'agr', 'nincr']] = df_filled.loc[:,['mom1m', 'mom12m', 'chmom', 'mom36m', 'turn', 'dolvol', 'idiovol', 'beta', 'betasq', 'ep', 'sp', 'agr', 'nincr']]"
   ]
  },
  {
   "cell_type": "code",
   "execution_count": 104,
   "id": "9f87aa42",
   "metadata": {},
   "outputs": [
    {
     "data": {
      "text/plain": [
       "permno           0\n",
       "return           0\n",
       "mom1m            0\n",
       "mom12m           0\n",
       "chmom            0\n",
       "indmom           0\n",
       "mom36m           0\n",
       "turn             0\n",
       "mvel1            0\n",
       "dolvol           0\n",
       "ill              0\n",
       "zerotrade        0\n",
       "baspread         0\n",
       "retvol           0\n",
       "idiovol          0\n",
       "beta             0\n",
       "betasq           0\n",
       "ep               0\n",
       "sp               0\n",
       "agr              0\n",
       "nincr            0\n",
       "return(t-1)    500\n",
       "r(t+1)         500\n",
       "dtype: int64"
      ]
     },
     "execution_count": 104,
     "metadata": {},
     "output_type": "execute_result"
    }
   ],
   "source": [
    "df.isna().sum()"
   ]
  },
  {
   "cell_type": "code",
   "execution_count": null,
   "id": "f39aa17e",
   "metadata": {},
   "outputs": [],
   "source": []
  },
  {
   "cell_type": "markdown",
   "id": "d29cea22",
   "metadata": {},
   "source": [
    "### split data"
   ]
  },
  {
   "cell_type": "markdown",
   "id": "ad622f5c",
   "metadata": {},
   "source": [
    "**split training, validation, and testing datasets**\n",
    "\n",
    "training : validation : testing = 6 yr : 4yr : 9 yr <br>\n",
    "Also drop the first and last month due to the absence of r(t+1) and return(t-1)"
   ]
  },
  {
   "cell_type": "code",
   "execution_count": 113,
   "id": "4c7915c0",
   "metadata": {},
   "outputs": [],
   "source": [
    "training = df[:'2007-01-01'].dropna()\n",
    "validation = df['2007-01-02':'2011-01-01']\n",
    "testing = df[:'2020-01-01'].dropna()"
   ]
  },
  {
   "cell_type": "code",
   "execution_count": 263,
   "id": "a04aa5c6",
   "metadata": {},
   "outputs": [],
   "source": [
    "training_combined = df[:'2011-01-01'].dropna()"
   ]
  },
  {
   "cell_type": "code",
   "execution_count": null,
   "id": "c619210f",
   "metadata": {},
   "outputs": [],
   "source": []
  },
  {
   "cell_type": "markdown",
   "id": "fd311e5b",
   "metadata": {},
   "source": [
    "**separate X and y**"
   ]
  },
  {
   "cell_type": "code",
   "execution_count": 287,
   "id": "ef894e41",
   "metadata": {},
   "outputs": [],
   "source": [
    "X_train = training.drop(columns = ['permno', 'return', 'r(t+1)'])\n",
    "y_train = training['r(t+1)']"
   ]
  },
  {
   "cell_type": "code",
   "execution_count": 288,
   "id": "513ee4bb",
   "metadata": {},
   "outputs": [],
   "source": [
    "X_val = validation.drop(columns = ['permno', 'return', 'r(t+1)'])\n",
    "y_val = validation['r(t+1)']"
   ]
  },
  {
   "cell_type": "code",
   "execution_count": 289,
   "id": "b557f131",
   "metadata": {},
   "outputs": [],
   "source": [
    "X_test = testing.drop(columns = ['permno', 'return', 'r(t+1)'])\n",
    "y_test = testing['r(t+1)']"
   ]
  },
  {
   "cell_type": "code",
   "execution_count": 290,
   "id": "cd3adb38",
   "metadata": {},
   "outputs": [],
   "source": [
    "X_train_combined = training_combined.drop(columns = ['permno', 'return', 'r(t+1)'])\n",
    "y_train_combined = training_combined['r(t+1)']"
   ]
  },
  {
   "cell_type": "code",
   "execution_count": 291,
   "id": "3e88a46a",
   "metadata": {},
   "outputs": [
    {
     "name": "stdout",
     "output_type": "stream",
     "text": [
      "0\n",
      "0\n",
      "0\n",
      "0\n",
      "0\n",
      "0\n"
     ]
    }
   ],
   "source": [
    "print(X_train.isna().values.sum())\n",
    "print(X_val.isna().values.sum())\n",
    "print(X_test.isna().values.sum())\n",
    "print(y_train.isna().values.sum())\n",
    "print(y_val.isna().values.sum())\n",
    "print(y_test.isna().values.sum())"
   ]
  },
  {
   "cell_type": "code",
   "execution_count": 374,
   "id": "28f245fd",
   "metadata": {},
   "outputs": [
    {
     "name": "stdout",
     "output_type": "stream",
     "text": [
      "(35500, 23)\n",
      "(24000, 23)\n",
      "(113000, 23)\n"
     ]
    }
   ],
   "source": [
    "print(training.shape)\n",
    "print(validation.shape)\n",
    "print(testing.shape)"
   ]
  },
  {
   "cell_type": "markdown",
   "id": "a29e1b1e",
   "metadata": {},
   "source": [
    "## packages & custom funcs\n",
    "***\n",
    "1. R^2 without demeaning\n",
    "2. tuning_1: fixed set hyperparameter tuning\n",
    "3. tuning: recursive rolling tuning"
   ]
  },
  {
   "cell_type": "code",
   "execution_count": null,
   "id": "ce1bf1fd",
   "metadata": {},
   "outputs": [],
   "source": [
    "from sklearn.metrics import r2_score"
   ]
  },
  {
   "cell_type": "code",
   "execution_count": 256,
   "id": "3cf6e8dc",
   "metadata": {},
   "outputs": [],
   "source": [
    "def r2_score_wo_demeaning(y_true, y_pred):\n",
    "    y_true = np.array(y_true)\n",
    "    \n",
    "    ss_res = 0\n",
    "    ss_tot = 0\n",
    "    for i in range(len(y_true)):\n",
    "        ss_res = ss_res + ((y_true[i] - y_pred[i])**2)\n",
    "        ss_tot = ss_tot + ((y_true[i] - 0)**2)\n",
    "    r2 = 1 - (ss_res / ss_tot)\n",
    "    return float(r2)"
   ]
  },
  {
   "cell_type": "code",
   "execution_count": 259,
   "id": "16484625",
   "metadata": {},
   "outputs": [],
   "source": [
    "def tuning_1 (model, param_combos, X_train, y_train, X_val, y_val):\n",
    "#   param_combos: list of dictionaries of parameters combo\n",
    "    \n",
    "    results = {'param': [], 'score': []}\n",
    "    opt_param = 0\n",
    "    opt_score = 0\n",
    "\n",
    "    for params in param_combos:\n",
    "\n",
    "        for param_name, param_value in params.items():\n",
    "            setattr(model, param_name, param_value)\n",
    "\n",
    "        model.fit(X_train, y_train)\n",
    "\n",
    "        y_pred = model.predict(X_val)\n",
    "\n",
    "#         print(\"Shape of y_val:\", y_val.shape)\n",
    "#         print(\"Shape of y_pred:\", y_pred.shape)\n",
    "        \n",
    "        r2 = r2_score_wo_demeaning(y_val, y_pred)\n",
    "\n",
    "        results['param'].append(params)\n",
    "        results['score'].append(r2)\n",
    "    \n",
    "    sorted_zipped = sorted(zip(results['param'], results['score']), key=lambda x: x[1])\n",
    "    opt_param = sorted_zipped[0][0]\n",
    "    opt_score = sorted_zipped[0][1]\n",
    "    \n",
    "    return opt_param, opt_score"
   ]
  },
  {
   "cell_type": "code",
   "execution_count": null,
   "id": "a2450fda",
   "metadata": {},
   "outputs": [],
   "source": []
  },
  {
   "cell_type": "code",
   "execution_count": null,
   "id": "97bb2873",
   "metadata": {},
   "outputs": [],
   "source": []
  },
  {
   "cell_type": "code",
   "execution_count": null,
   "id": "e1974bfe",
   "metadata": {},
   "outputs": [],
   "source": []
  },
  {
   "cell_type": "markdown",
   "id": "6e3ce901",
   "metadata": {},
   "source": [
    "## Enet\n",
    "\n",
    "\n",
    "prediction: g*(z i,t) - depends on neither i nor t, is dependend on z only through z i,t <br>\n",
    "responses: r i, t+1\n",
    "***\n",
    "Implement regression using APGD (accelerated proximal gradient descent). <br>\n",
    "Tune hyperparameters using recursive rolling validation method."
   ]
  },
  {
   "cell_type": "markdown",
   "id": "948973e5",
   "metadata": {},
   "source": [
    "**customize Enet function w/ accelerated proximal gradient**"
   ]
  },
  {
   "cell_type": "code",
   "execution_count": null,
   "id": "08037794",
   "metadata": {},
   "outputs": [],
   "source": [
    "# class ElasticNetAPGD:\n",
    "#     def __init__(self, alpha=1.0, l1_ratio=0.5, max_iter=1000, tol=1e-4, learning_rate=0.01):\n",
    "#         self.alpha = alpha\n",
    "#         self.l1_ratio = l1_ratio\n",
    "#         self.max_iter = max_iter\n",
    "#         self.tol = tol\n",
    "#         self.learning_rate = learning_rate\n",
    "\n",
    "#     def _soft_thresholding_operator(self, x, lambda_):\n",
    "#         return np.sign(x) * np.maximum(np.abs(x) - lambda_, 0)\n",
    "\n",
    "#     def _objective(self, X, y, beta):\n",
    "#         residuals = y - np.dot(X, beta)\n",
    "#         l2_norm = np.sum(residuals ** 2) / 2\n",
    "#         l1_norm = np.sum(np.abs(beta))\n",
    "#         return l2_norm + self.alpha * self.l1_ratio * l1_norm + 0.5 * self.alpha * (1 - self.l1_ratio) * np.sum(beta ** 2)\n",
    "\n",
    "#     def fit(self, X, y):\n",
    "#         n_samples, n_features = X.shape\n",
    "#         beta = np.zeros(n_features)\n",
    "#         z = np.zeros(n_features)\n",
    "#         t = 1\n",
    "#         t_next = 1\n",
    "#         for iteration in range(self.max_iter):\n",
    "#             beta_old = beta.copy()\n",
    "#             z -= self.learning_rate * (np.dot(X.T, np.dot(X, z) - y) / n_samples + self.alpha * self.l1_ratio * np.sign(z))\n",
    "#             beta = self._soft_thresholding_operator(z, self.alpha * self.l1_ratio * self.learning_rate)\n",
    "#             t_next = (1 + np.sqrt(1 + 4 * t ** 2)) / 2\n",
    "#             z = beta + ((t - 1) / t_next) * (beta - beta_old)\n",
    "#             t = t_next\n",
    "#             if np.sum(np.abs(beta - beta_old)) < self.tol:\n",
    "#                 break\n",
    "#         self.coef_ = beta\n",
    "\n",
    "#     def predict(self, X):\n",
    "#         return np.dot(X, self.coef_)"
   ]
  },
  {
   "cell_type": "code",
   "execution_count": null,
   "id": "39554c4c",
   "metadata": {},
   "outputs": [],
   "source": []
  },
  {
   "cell_type": "markdown",
   "id": "beb96280",
   "metadata": {},
   "source": [
    "**initialize an Enet model**\n",
    "\n",
    "1. choose a random set of phi and lambda\n",
    "2. estimate parameters"
   ]
  },
  {
   "cell_type": "code",
   "execution_count": 197,
   "id": "67dc98bc",
   "metadata": {},
   "outputs": [],
   "source": [
    "from sklearn.linear_model import ElasticNet\n",
    "from sklearn.metrics import mean_squared_error"
   ]
  },
  {
   "cell_type": "code",
   "execution_count": 292,
   "id": "de665ebf",
   "metadata": {},
   "outputs": [
    {
     "data": {
      "text/html": [
       "<style>#sk-container-id-8 {color: black;}#sk-container-id-8 pre{padding: 0;}#sk-container-id-8 div.sk-toggleable {background-color: white;}#sk-container-id-8 label.sk-toggleable__label {cursor: pointer;display: block;width: 100%;margin-bottom: 0;padding: 0.3em;box-sizing: border-box;text-align: center;}#sk-container-id-8 label.sk-toggleable__label-arrow:before {content: \"▸\";float: left;margin-right: 0.25em;color: #696969;}#sk-container-id-8 label.sk-toggleable__label-arrow:hover:before {color: black;}#sk-container-id-8 div.sk-estimator:hover label.sk-toggleable__label-arrow:before {color: black;}#sk-container-id-8 div.sk-toggleable__content {max-height: 0;max-width: 0;overflow: hidden;text-align: left;background-color: #f0f8ff;}#sk-container-id-8 div.sk-toggleable__content pre {margin: 0.2em;color: black;border-radius: 0.25em;background-color: #f0f8ff;}#sk-container-id-8 input.sk-toggleable__control:checked~div.sk-toggleable__content {max-height: 200px;max-width: 100%;overflow: auto;}#sk-container-id-8 input.sk-toggleable__control:checked~label.sk-toggleable__label-arrow:before {content: \"▾\";}#sk-container-id-8 div.sk-estimator input.sk-toggleable__control:checked~label.sk-toggleable__label {background-color: #d4ebff;}#sk-container-id-8 div.sk-label input.sk-toggleable__control:checked~label.sk-toggleable__label {background-color: #d4ebff;}#sk-container-id-8 input.sk-hidden--visually {border: 0;clip: rect(1px 1px 1px 1px);clip: rect(1px, 1px, 1px, 1px);height: 1px;margin: -1px;overflow: hidden;padding: 0;position: absolute;width: 1px;}#sk-container-id-8 div.sk-estimator {font-family: monospace;background-color: #f0f8ff;border: 1px dotted black;border-radius: 0.25em;box-sizing: border-box;margin-bottom: 0.5em;}#sk-container-id-8 div.sk-estimator:hover {background-color: #d4ebff;}#sk-container-id-8 div.sk-parallel-item::after {content: \"\";width: 100%;border-bottom: 1px solid gray;flex-grow: 1;}#sk-container-id-8 div.sk-label:hover label.sk-toggleable__label {background-color: #d4ebff;}#sk-container-id-8 div.sk-serial::before {content: \"\";position: absolute;border-left: 1px solid gray;box-sizing: border-box;top: 0;bottom: 0;left: 50%;z-index: 0;}#sk-container-id-8 div.sk-serial {display: flex;flex-direction: column;align-items: center;background-color: white;padding-right: 0.2em;padding-left: 0.2em;position: relative;}#sk-container-id-8 div.sk-item {position: relative;z-index: 1;}#sk-container-id-8 div.sk-parallel {display: flex;align-items: stretch;justify-content: center;background-color: white;position: relative;}#sk-container-id-8 div.sk-item::before, #sk-container-id-8 div.sk-parallel-item::before {content: \"\";position: absolute;border-left: 1px solid gray;box-sizing: border-box;top: 0;bottom: 0;left: 50%;z-index: -1;}#sk-container-id-8 div.sk-parallel-item {display: flex;flex-direction: column;z-index: 1;position: relative;background-color: white;}#sk-container-id-8 div.sk-parallel-item:first-child::after {align-self: flex-end;width: 50%;}#sk-container-id-8 div.sk-parallel-item:last-child::after {align-self: flex-start;width: 50%;}#sk-container-id-8 div.sk-parallel-item:only-child::after {width: 0;}#sk-container-id-8 div.sk-dashed-wrapped {border: 1px dashed gray;margin: 0 0.4em 0.5em 0.4em;box-sizing: border-box;padding-bottom: 0.4em;background-color: white;}#sk-container-id-8 div.sk-label label {font-family: monospace;font-weight: bold;display: inline-block;line-height: 1.2em;}#sk-container-id-8 div.sk-label-container {text-align: center;}#sk-container-id-8 div.sk-container {/* jupyter's `normalize.less` sets `[hidden] { display: none; }` but bootstrap.min.css set `[hidden] { display: none !important; }` so we also need the `!important` here to be able to override the default hidden behavior on the sphinx rendered scikit-learn.org. See: https://github.com/scikit-learn/scikit-learn/issues/21755 */display: inline-block !important;position: relative;}#sk-container-id-8 div.sk-text-repr-fallback {display: none;}</style><div id=\"sk-container-id-8\" class=\"sk-top-container\"><div class=\"sk-text-repr-fallback\"><pre>ElasticNet(alpha=0.1)</pre><b>In a Jupyter environment, please rerun this cell to show the HTML representation or trust the notebook. <br />On GitHub, the HTML representation is unable to render, please try loading this page with nbviewer.org.</b></div><div class=\"sk-container\" hidden><div class=\"sk-item\"><div class=\"sk-estimator sk-toggleable\"><input class=\"sk-toggleable__control sk-hidden--visually\" id=\"sk-estimator-id-8\" type=\"checkbox\" checked><label for=\"sk-estimator-id-8\" class=\"sk-toggleable__label sk-toggleable__label-arrow\">ElasticNet</label><div class=\"sk-toggleable__content\"><pre>ElasticNet(alpha=0.1)</pre></div></div></div></div></div>"
      ],
      "text/plain": [
       "ElasticNet(alpha=0.1)"
      ]
     },
     "execution_count": 292,
     "metadata": {},
     "output_type": "execute_result"
    }
   ],
   "source": [
    "enet = ElasticNet(alpha=0.1, l1_ratio=0.5)\n",
    "enet.fit(X_train, y_train)"
   ]
  },
  {
   "cell_type": "code",
   "execution_count": 293,
   "id": "a132c1c0",
   "metadata": {},
   "outputs": [],
   "source": [
    "y_pred = enet.predict(X_val)"
   ]
  },
  {
   "cell_type": "code",
   "execution_count": 294,
   "id": "c24bb19f",
   "metadata": {},
   "outputs": [
    {
     "name": "stdout",
     "output_type": "stream",
     "text": [
      "R^2-oos: 0.00453583374333788\n"
     ]
    }
   ],
   "source": [
    "r2_ = r2_score_wo_demeaning(y_val, y_pred)\n",
    "print(\"R^2-oos:\", r2_)"
   ]
  },
  {
   "cell_type": "markdown",
   "id": "2d566281",
   "metadata": {},
   "source": [
    "**tuning**\n",
    "\n",
    "1. set-up the search grid\n",
    "2. tuning <br>\n",
    "    a. tuning_1: fixed sample tuning <br>\n",
    "    b. tuning_2: recursive rolling validation set w/ oos R^2 metric -- <br>\n",
    "    roll one unit froward each time and take the average as the final score <br>\n",
    "3. pick the best hyperparameters, retrain the model"
   ]
  },
  {
   "cell_type": "code",
   "execution_count": 295,
   "id": "62b1cdc8",
   "metadata": {},
   "outputs": [],
   "source": [
    "# set up searching grid\n",
    "\n",
    "alpha_values = [0.4, 0.5, 0.6]\n",
    "l1_ratio_values = np.logspace(-4, -1, 10)\n",
    "\n",
    "param_enet = [{'alpha': alpha, 'l1_ratio': l1_ratio} for alpha in alpha_values for l1_ratio in l1_ratio_values]\n",
    "\n",
    "# for param_combination in param_combinations:\n",
    "#     print(param_combination)"
   ]
  },
  {
   "cell_type": "code",
   "execution_count": 296,
   "id": "027fb75f",
   "metadata": {},
   "outputs": [],
   "source": [
    "# the model\n",
    "\n",
    "Enet = ElasticNet()"
   ]
  },
  {
   "cell_type": "code",
   "execution_count": 297,
   "id": "2d6424ed",
   "metadata": {},
   "outputs": [],
   "source": [
    "# apply tuning function\n",
    "\n",
    "result = tuning_1(Enet, param_enet, X_train, y_train, X_val, y_val)"
   ]
  },
  {
   "cell_type": "code",
   "execution_count": 302,
   "id": "779c0844",
   "metadata": {},
   "outputs": [
    {
     "name": "stdout",
     "output_type": "stream",
     "text": [
      "the optimal parameters are {'alpha': 0.6, 'l1_ratio': 0.046415888336127774} and the best score is 0.004535833702042247.\n"
     ]
    }
   ],
   "source": [
    "print(f\"the optimal parameters are {result[0]} and the best score is {result[1]}.\")"
   ]
  },
  {
   "cell_type": "code",
   "execution_count": null,
   "id": "e32e35ed",
   "metadata": {},
   "outputs": [],
   "source": []
  },
  {
   "cell_type": "markdown",
   "id": "8ee2da1a",
   "metadata": {},
   "source": [
    "**best model** <br>\n",
    "<br>\n",
    "Fit on all data in training and validation sets."
   ]
  },
  {
   "cell_type": "code",
   "execution_count": 304,
   "id": "2a035ec7",
   "metadata": {},
   "outputs": [
    {
     "data": {
      "text/html": [
       "<style>#sk-container-id-12 {color: black;}#sk-container-id-12 pre{padding: 0;}#sk-container-id-12 div.sk-toggleable {background-color: white;}#sk-container-id-12 label.sk-toggleable__label {cursor: pointer;display: block;width: 100%;margin-bottom: 0;padding: 0.3em;box-sizing: border-box;text-align: center;}#sk-container-id-12 label.sk-toggleable__label-arrow:before {content: \"▸\";float: left;margin-right: 0.25em;color: #696969;}#sk-container-id-12 label.sk-toggleable__label-arrow:hover:before {color: black;}#sk-container-id-12 div.sk-estimator:hover label.sk-toggleable__label-arrow:before {color: black;}#sk-container-id-12 div.sk-toggleable__content {max-height: 0;max-width: 0;overflow: hidden;text-align: left;background-color: #f0f8ff;}#sk-container-id-12 div.sk-toggleable__content pre {margin: 0.2em;color: black;border-radius: 0.25em;background-color: #f0f8ff;}#sk-container-id-12 input.sk-toggleable__control:checked~div.sk-toggleable__content {max-height: 200px;max-width: 100%;overflow: auto;}#sk-container-id-12 input.sk-toggleable__control:checked~label.sk-toggleable__label-arrow:before {content: \"▾\";}#sk-container-id-12 div.sk-estimator input.sk-toggleable__control:checked~label.sk-toggleable__label {background-color: #d4ebff;}#sk-container-id-12 div.sk-label input.sk-toggleable__control:checked~label.sk-toggleable__label {background-color: #d4ebff;}#sk-container-id-12 input.sk-hidden--visually {border: 0;clip: rect(1px 1px 1px 1px);clip: rect(1px, 1px, 1px, 1px);height: 1px;margin: -1px;overflow: hidden;padding: 0;position: absolute;width: 1px;}#sk-container-id-12 div.sk-estimator {font-family: monospace;background-color: #f0f8ff;border: 1px dotted black;border-radius: 0.25em;box-sizing: border-box;margin-bottom: 0.5em;}#sk-container-id-12 div.sk-estimator:hover {background-color: #d4ebff;}#sk-container-id-12 div.sk-parallel-item::after {content: \"\";width: 100%;border-bottom: 1px solid gray;flex-grow: 1;}#sk-container-id-12 div.sk-label:hover label.sk-toggleable__label {background-color: #d4ebff;}#sk-container-id-12 div.sk-serial::before {content: \"\";position: absolute;border-left: 1px solid gray;box-sizing: border-box;top: 0;bottom: 0;left: 50%;z-index: 0;}#sk-container-id-12 div.sk-serial {display: flex;flex-direction: column;align-items: center;background-color: white;padding-right: 0.2em;padding-left: 0.2em;position: relative;}#sk-container-id-12 div.sk-item {position: relative;z-index: 1;}#sk-container-id-12 div.sk-parallel {display: flex;align-items: stretch;justify-content: center;background-color: white;position: relative;}#sk-container-id-12 div.sk-item::before, #sk-container-id-12 div.sk-parallel-item::before {content: \"\";position: absolute;border-left: 1px solid gray;box-sizing: border-box;top: 0;bottom: 0;left: 50%;z-index: -1;}#sk-container-id-12 div.sk-parallel-item {display: flex;flex-direction: column;z-index: 1;position: relative;background-color: white;}#sk-container-id-12 div.sk-parallel-item:first-child::after {align-self: flex-end;width: 50%;}#sk-container-id-12 div.sk-parallel-item:last-child::after {align-self: flex-start;width: 50%;}#sk-container-id-12 div.sk-parallel-item:only-child::after {width: 0;}#sk-container-id-12 div.sk-dashed-wrapped {border: 1px dashed gray;margin: 0 0.4em 0.5em 0.4em;box-sizing: border-box;padding-bottom: 0.4em;background-color: white;}#sk-container-id-12 div.sk-label label {font-family: monospace;font-weight: bold;display: inline-block;line-height: 1.2em;}#sk-container-id-12 div.sk-label-container {text-align: center;}#sk-container-id-12 div.sk-container {/* jupyter's `normalize.less` sets `[hidden] { display: none; }` but bootstrap.min.css set `[hidden] { display: none !important; }` so we also need the `!important` here to be able to override the default hidden behavior on the sphinx rendered scikit-learn.org. See: https://github.com/scikit-learn/scikit-learn/issues/21755 */display: inline-block !important;position: relative;}#sk-container-id-12 div.sk-text-repr-fallback {display: none;}</style><div id=\"sk-container-id-12\" class=\"sk-top-container\"><div class=\"sk-text-repr-fallback\"><pre>ElasticNet(alpha=0.6, l1_ratio=0.046415888336127774)</pre><b>In a Jupyter environment, please rerun this cell to show the HTML representation or trust the notebook. <br />On GitHub, the HTML representation is unable to render, please try loading this page with nbviewer.org.</b></div><div class=\"sk-container\" hidden><div class=\"sk-item\"><div class=\"sk-estimator sk-toggleable\"><input class=\"sk-toggleable__control sk-hidden--visually\" id=\"sk-estimator-id-12\" type=\"checkbox\" checked><label for=\"sk-estimator-id-12\" class=\"sk-toggleable__label sk-toggleable__label-arrow\">ElasticNet</label><div class=\"sk-toggleable__content\"><pre>ElasticNet(alpha=0.6, l1_ratio=0.046415888336127774)</pre></div></div></div></div></div>"
      ],
      "text/plain": [
       "ElasticNet(alpha=0.6, l1_ratio=0.046415888336127774)"
      ]
     },
     "execution_count": 304,
     "metadata": {},
     "output_type": "execute_result"
    }
   ],
   "source": [
    "Enet_opt = ElasticNet()\n",
    "\n",
    "for param_name, param_value in result[0].items():\n",
    " setattr(Enet_opt, param_name, param_value)\n",
    "\n",
    "Enet_opt.fit(X_train_combined, y_train_combined)"
   ]
  },
  {
   "cell_type": "code",
   "execution_count": 305,
   "id": "3d9916c6",
   "metadata": {},
   "outputs": [
    {
     "name": "stdout",
     "output_type": "stream",
     "text": [
      "R^2-oos: 0.011742884291285782\n"
     ]
    }
   ],
   "source": [
    "y_pred_enet = Enet_opt.predict(X_test)\n",
    "\n",
    "r2_enet = r2_score_wo_demeaning(y_test, y_pred_enet)\n",
    "print(\"R^2-oos:\", r2_enet)"
   ]
  },
  {
   "cell_type": "code",
   "execution_count": null,
   "id": "bd2bdfa2",
   "metadata": {},
   "outputs": [],
   "source": []
  },
  {
   "cell_type": "code",
   "execution_count": null,
   "id": "207dbfd7",
   "metadata": {},
   "outputs": [],
   "source": []
  },
  {
   "cell_type": "markdown",
   "id": "97f12888",
   "metadata": {},
   "source": [
    "## NN"
   ]
  },
  {
   "cell_type": "code",
   "execution_count": 307,
   "id": "2ca69c98",
   "metadata": {},
   "outputs": [
    {
     "name": "stdout",
     "output_type": "stream",
     "text": [
      "WARNING:tensorflow:From C:\\Users\\LL\\anaconda3\\Lib\\site-packages\\keras\\src\\losses.py:2976: The name tf.losses.sparse_softmax_cross_entropy is deprecated. Please use tf.compat.v1.losses.sparse_softmax_cross_entropy instead.\n",
      "\n"
     ]
    }
   ],
   "source": [
    "import keras\n",
    "from keras import layers\n",
    "from keras import Sequential"
   ]
  },
  {
   "cell_type": "markdown",
   "id": "40c328bf",
   "metadata": {},
   "source": [
    "**loss function**\n",
    "\n",
    "Customize the loss function to be **\"penalized cross-sectional average prediction error\" (appendix B.3) aggregated over time**, which is the same as **penalized l2 objective function of prediction errors (p2244)**. <br>\n",
    "***\n",
    "penalty term:"
   ]
  },
  {
   "cell_type": "code",
   "execution_count": null,
   "id": "13872e85",
   "metadata": {},
   "outputs": [],
   "source": [
    "def custom_loss_pcape (y_true, y_pred):\n",
    "    return"
   ]
  },
  {
   "cell_type": "markdown",
   "id": "225e9b7d",
   "metadata": {},
   "source": [
    "**performance metric**\n",
    "\n",
    "Out-of-sample R^2. (r2_score_wo_demeaning)"
   ]
  },
  {
   "cell_type": "code",
   "execution_count": 333,
   "id": "8e1d0519",
   "metadata": {},
   "outputs": [],
   "source": [
    "import tensorflow as tf\n",
    "\n",
    "def r2_score_wo_demeaning_nn(y_true, y_pred):\n",
    "    ss_res = tf.reduce_sum(tf.square(y_true - y_pred))\n",
    "    ss_tot = tf.reduce_sum(tf.square(y_true - 0))\n",
    "    r2 = 1 - (ss_res / ss_tot)\n",
    "    return r2"
   ]
  },
  {
   "cell_type": "markdown",
   "id": "7d9eaa3d",
   "metadata": {},
   "source": [
    "**tuning custom function for neural net**"
   ]
  },
  {
   "cell_type": "code",
   "execution_count": 361,
   "id": "5c3bf010",
   "metadata": {},
   "outputs": [],
   "source": [
    "import tensorflow as tf\n",
    "from tensorflow import keras\n",
    "\n",
    "def compile_and_tune_model(model, parameter_dicts, x_train, y_train, x_val, y_val):\n",
    "    results = []\n",
    "    \n",
    "    for params in parameter_dicts:\n",
    "\n",
    "        model.compile(optimizer=keras.optimizers.Adam(learning_rate=params['learning_rate']),\n",
    "                      loss='mean_squared_error', metrics=keras.metrics.R2Score())  # Using mean absolute error (mae) as metric\n",
    "        \n",
    "        history = model.fit(x_train, y_train, epochs=params['epoch'], batch_size=params['batch_size'],\n",
    "                            validation_data=(x_val, y_val), verbose=0)\n",
    "        \n",
    "        # Get the metric value for the last epoch\n",
    "        last_epoch_metric = history.history['val_r2_score'][-1]  # Validation MAE for last epoch\n",
    "        \n",
    "        # Store results for current parameter set\n",
    "        results.append({'params': params, 'last_epoch_metric': last_epoch_metric})\n",
    "    \n",
    "    return results"
   ]
  },
  {
   "cell_type": "code",
   "execution_count": null,
   "id": "8901dbc0",
   "metadata": {},
   "outputs": [],
   "source": []
  },
  {
   "cell_type": "code",
   "execution_count": null,
   "id": "623c00cc",
   "metadata": {},
   "outputs": [],
   "source": []
  },
  {
   "cell_type": "markdown",
   "id": "16f85419",
   "metadata": {},
   "source": [
    "### model\n",
    "\n",
    "All activation functions are ReLU function <br>\n",
    "optimizer: SGD w/ learning rate shrinkage: adam <br>"
   ]
  },
  {
   "cell_type": "markdown",
   "id": "ab21be50",
   "metadata": {},
   "source": [
    "convert dataframes to numpy array"
   ]
  },
  {
   "cell_type": "code",
   "execution_count": 329,
   "id": "b78aae67",
   "metadata": {},
   "outputs": [],
   "source": [
    "X_train_nn = np.asarray(X_train.values)\n",
    "y_train_nn = np.asarray(y_train.values)\n",
    "\n",
    "X_val_nn = np.asarray(X_val.values)\n",
    "y_val_nn = np.asarray(y_val.values)\n",
    "\n",
    "X_test_nn = np.asarray(X_test.values)\n",
    "y_test_nn = np.asarray(y_test.values)\n",
    "\n",
    "X_train_combined_nn = np.asarray(X_train_combined.values)\n",
    "y_train_combined_nn = np.asarray(y_train_combined.values)"
   ]
  },
  {
   "cell_type": "markdown",
   "id": "1c0d0ef7",
   "metadata": {},
   "source": [
    "set-up grid"
   ]
  },
  {
   "cell_type": "code",
   "execution_count": 370,
   "id": "78e6770c",
   "metadata": {},
   "outputs": [],
   "source": [
    "nepoch_val = [25, 50, 75, 100]\n",
    "lr_val = [0.05, 0.025, 0.01]\n",
    "nbatch_val = [1000, 1500, 3000]\n",
    "\n",
    "param_nn = [{'epoch': epoch, 'learning_rate': learning_rate, 'batch_size': batch_size} for epoch in nepoch_val for learning_rate in lr_val for batch_size in nbatch_val]"
   ]
  },
  {
   "cell_type": "markdown",
   "id": "85f1f391",
   "metadata": {},
   "source": [
    "**1-layer** <br>\n",
    "<br>\n",
    "initiate a model just randomly"
   ]
  },
  {
   "cell_type": "code",
   "execution_count": 356,
   "id": "3f8abe88",
   "metadata": {},
   "outputs": [],
   "source": [
    "input_dim = 20\n",
    "layer1_n = 32\n",
    "\n",
    "# model_1.add(layers.Dense(layer1_n, input_dim = input_dim, activation='relu'))\n",
    "# model_1.add(layers.Dense(1, activation='linear'))\n",
    "\n",
    "model_1 = Sequential([\n",
    "            layers.Dense(layer1_n, activation='relu', input_dim=input_dim),\n",
    "            layers.Dense(1, activation='linear')\n",
    "        ])"
   ]
  },
  {
   "cell_type": "code",
   "execution_count": 358,
   "id": "ead283d4",
   "metadata": {},
   "outputs": [],
   "source": [
    "# parameters\n",
    "\n",
    "nepoch = 50\n",
    "lr = 0.05\n",
    "nbatch = 1000"
   ]
  },
  {
   "cell_type": "code",
   "execution_count": 359,
   "id": "eba08fe5",
   "metadata": {
    "collapsed": true
   },
   "outputs": [
    {
     "name": "stdout",
     "output_type": "stream",
     "text": [
      "Epoch 1/50\n",
      "36/36 [==============================] - 1s 11ms/step - loss: 1665316421632.0000 - r2_score: -81091096477696.0000 - val_loss: 82562891776.0000 - val_r2_score: -3129686097920.0000\n",
      "Epoch 2/50\n",
      "36/36 [==============================] - 0s 6ms/step - loss: 12538835968.0000 - r2_score: -610567454720.0000 - val_loss: 8414489.0000 - val_r2_score: -318965440.0000\n",
      "Epoch 3/50\n",
      "36/36 [==============================] - 0s 6ms/step - loss: 427305504.0000 - r2_score: -20807258112.0000 - val_loss: 36608304.0000 - val_r2_score: -1387699840.0000\n",
      "Epoch 4/50\n",
      "36/36 [==============================] - 0s 6ms/step - loss: 7407306.5000 - r2_score: -360692224.0000 - val_loss: 1399501.3750 - val_r2_score: -53050472.0000\n",
      "Epoch 5/50\n",
      "36/36 [==============================] - 0s 6ms/step - loss: 298439.7812 - r2_score: -14532256.0000 - val_loss: 386.7536 - val_r2_score: -14659.5518\n",
      "Epoch 6/50\n",
      "36/36 [==============================] - 0s 5ms/step - loss: 7952.3560 - r2_score: -387231.8125 - val_loss: 1746.4481 - val_r2_score: -66201.0781\n",
      "Epoch 7/50\n",
      "36/36 [==============================] - 0s 6ms/step - loss: 296.7831 - r2_score: -14450.5801 - val_loss: 41.2879 - val_r2_score: -1564.0895\n",
      "Epoch 8/50\n",
      "36/36 [==============================] - 0s 5ms/step - loss: 14.3990 - r2_score: -700.1453 - val_loss: 3.5908 - val_r2_score: -135.1156\n",
      "Epoch 9/50\n",
      "36/36 [==============================] - 0s 5ms/step - loss: 2.7185 - r2_score: -131.3725 - val_loss: 2.5830 - val_r2_score: -96.9122\n",
      "Epoch 10/50\n",
      "36/36 [==============================] - 0s 6ms/step - loss: 2.4305 - r2_score: -117.3493 - val_loss: 2.5435 - val_r2_score: -95.4167\n",
      "Epoch 11/50\n",
      "36/36 [==============================] - 0s 6ms/step - loss: 2.4212 - r2_score: -116.8966 - val_loss: 2.5429 - val_r2_score: -95.3915\n",
      "Epoch 12/50\n",
      "36/36 [==============================] - 0s 6ms/step - loss: 2.4184 - r2_score: -116.7636 - val_loss: 2.5395 - val_r2_score: -95.2644\n",
      "Epoch 13/50\n",
      "36/36 [==============================] - 0s 6ms/step - loss: 2.4150 - r2_score: -116.5967 - val_loss: 2.5361 - val_r2_score: -95.1369\n",
      "Epoch 14/50\n",
      "36/36 [==============================] - 0s 7ms/step - loss: 2.4121 - r2_score: -116.4537 - val_loss: 2.5344 - val_r2_score: -95.0692\n",
      "Epoch 15/50\n",
      "36/36 [==============================] - 0s 7ms/step - loss: 2.4081 - r2_score: -116.2613 - val_loss: 2.5326 - val_r2_score: -95.0020\n",
      "Epoch 16/50\n",
      "36/36 [==============================] - 0s 6ms/step - loss: 2.4042 - r2_score: -116.0710 - val_loss: 2.5304 - val_r2_score: -94.9185\n",
      "Epoch 17/50\n",
      "36/36 [==============================] - 0s 7ms/step - loss: 2.4007 - r2_score: -115.8983 - val_loss: 2.5283 - val_r2_score: -94.8383\n",
      "Epoch 18/50\n",
      "36/36 [==============================] - 0s 7ms/step - loss: 2.3969 - r2_score: -115.7151 - val_loss: 2.5266 - val_r2_score: -94.7732\n",
      "Epoch 19/50\n",
      "36/36 [==============================] - 0s 7ms/step - loss: 2.3927 - r2_score: -115.5103 - val_loss: 2.5233 - val_r2_score: -94.6510\n",
      "Epoch 20/50\n",
      "36/36 [==============================] - 0s 6ms/step - loss: 2.3886 - r2_score: -115.3084 - val_loss: 2.5210 - val_r2_score: -94.5642\n",
      "Epoch 21/50\n",
      "36/36 [==============================] - 0s 7ms/step - loss: 2.3844 - r2_score: -115.1061 - val_loss: 2.5186 - val_r2_score: -94.4729\n",
      "Epoch 22/50\n",
      "36/36 [==============================] - 0s 6ms/step - loss: 2.3802 - r2_score: -114.9035 - val_loss: 2.5154 - val_r2_score: -94.3516\n",
      "Epoch 23/50\n",
      "36/36 [==============================] - 0s 7ms/step - loss: 2.3778 - r2_score: -114.7832 - val_loss: 2.5141 - val_r2_score: -94.3001\n",
      "Epoch 24/50\n",
      "36/36 [==============================] - 0s 7ms/step - loss: 2.3788 - r2_score: -114.8349 - val_loss: 2.5132 - val_r2_score: -94.2669\n",
      "Epoch 25/50\n",
      "36/36 [==============================] - 0s 7ms/step - loss: 2.3685 - r2_score: -114.3303 - val_loss: 2.5069 - val_r2_score: -94.0300\n",
      "Epoch 26/50\n",
      "36/36 [==============================] - 0s 7ms/step - loss: 2.3638 - r2_score: -114.1022 - val_loss: 2.5054 - val_r2_score: -93.9696\n",
      "Epoch 27/50\n",
      "36/36 [==============================] - 0s 7ms/step - loss: 2.3606 - r2_score: -113.9495 - val_loss: 2.5074 - val_r2_score: -94.0476\n",
      "Epoch 28/50\n",
      "36/36 [==============================] - 0s 6ms/step - loss: 2.3519 - r2_score: -113.5230 - val_loss: 2.5016 - val_r2_score: -93.8281\n",
      "Epoch 29/50\n",
      "36/36 [==============================] - 0s 8ms/step - loss: 2.3473 - r2_score: -113.2979 - val_loss: 2.5065 - val_r2_score: -94.0136\n",
      "Epoch 30/50\n",
      "36/36 [==============================] - 0s 8ms/step - loss: 2.3568 - r2_score: -113.7619 - val_loss: 2.4935 - val_r2_score: -93.5218\n",
      "Epoch 31/50\n",
      "36/36 [==============================] - 0s 9ms/step - loss: 2.3393 - r2_score: -112.9078 - val_loss: 2.4948 - val_r2_score: -93.5710\n",
      "Epoch 32/50\n",
      "36/36 [==============================] - 0s 7ms/step - loss: 2.3360 - r2_score: -112.7480 - val_loss: 2.4886 - val_r2_score: -93.3365\n",
      "Epoch 33/50\n",
      "36/36 [==============================] - 0s 7ms/step - loss: 2.3279 - r2_score: -112.3545 - val_loss: 2.4815 - val_r2_score: -93.0652\n",
      "Epoch 34/50\n",
      "36/36 [==============================] - 0s 7ms/step - loss: 2.3258 - r2_score: -112.2531 - val_loss: 2.5086 - val_r2_score: -94.0917\n",
      "Epoch 35/50\n",
      "36/36 [==============================] - 0s 6ms/step - loss: 2.3390 - r2_score: -112.8943 - val_loss: 2.4743 - val_r2_score: -92.7932\n",
      "Epoch 36/50\n",
      "36/36 [==============================] - 0s 6ms/step - loss: 2.3151 - r2_score: -111.7326 - val_loss: 2.4820 - val_r2_score: -93.0839\n",
      "Epoch 37/50\n",
      "36/36 [==============================] - 0s 6ms/step - loss: 2.3106 - r2_score: -111.5135 - val_loss: 2.4680 - val_r2_score: -92.5550\n",
      "Epoch 38/50\n",
      "36/36 [==============================] - 0s 6ms/step - loss: 2.3320 - r2_score: -112.5566 - val_loss: 2.4687 - val_r2_score: -92.5814\n",
      "Epoch 39/50\n",
      "36/36 [==============================] - 0s 6ms/step - loss: 2.2969 - r2_score: -110.8436 - val_loss: 2.4653 - val_r2_score: -92.4514\n",
      "Epoch 40/50\n",
      "36/36 [==============================] - 0s 8ms/step - loss: 2.3165 - r2_score: -111.8020 - val_loss: 2.4841 - val_r2_score: -93.1630\n",
      "Epoch 41/50\n",
      "36/36 [==============================] - 0s 9ms/step - loss: 2.2862 - r2_score: -110.3231 - val_loss: 2.4546 - val_r2_score: -92.0454\n",
      "Epoch 42/50\n",
      "36/36 [==============================] - 0s 8ms/step - loss: 2.2779 - r2_score: -109.9225 - val_loss: 2.4486 - val_r2_score: -91.8197\n",
      "Epoch 43/50\n",
      "36/36 [==============================] - 0s 8ms/step - loss: 2.2744 - r2_score: -109.7484 - val_loss: 2.4497 - val_r2_score: -91.8587\n",
      "Epoch 44/50\n",
      "36/36 [==============================] - 0s 8ms/step - loss: 2.2699 - r2_score: -109.5284 - val_loss: 2.4878 - val_r2_score: -93.3029\n",
      "Epoch 45/50\n",
      "36/36 [==============================] - 0s 8ms/step - loss: 2.2662 - r2_score: -109.3488 - val_loss: 2.5102 - val_r2_score: -94.1552\n",
      "Epoch 46/50\n",
      "36/36 [==============================] - 0s 7ms/step - loss: 2.3042 - r2_score: -111.1991 - val_loss: 2.5559 - val_r2_score: -95.8845\n",
      "Epoch 47/50\n",
      "36/36 [==============================] - 0s 7ms/step - loss: 2.3650 - r2_score: -114.1592 - val_loss: 2.4406 - val_r2_score: -91.5135\n",
      "Epoch 48/50\n",
      "36/36 [==============================] - 0s 8ms/step - loss: 2.2748 - r2_score: -109.7696 - val_loss: 2.5053 - val_r2_score: -93.9666\n",
      "Epoch 49/50\n",
      "36/36 [==============================] - 0s 8ms/step - loss: 2.2527 - r2_score: -108.6915 - val_loss: 2.4318 - val_r2_score: -91.1830\n",
      "Epoch 50/50\n",
      "36/36 [==============================] - 0s 7ms/step - loss: 2.2357 - r2_score: -107.8662 - val_loss: 2.4336 - val_r2_score: -91.2513\n"
     ]
    }
   ],
   "source": [
    "model_1.compile(loss = 'mean_squared_error' , optimizer = keras.optimizers.Adam(learning_rate = lr), metrics = keras.metrics.R2Score())\n",
    "\n",
    "nn_1 = model_1.fit(X_train_nn, y_train_nn, epochs=nepoch, batch_size=nbatch, validation_data = (X_val_nn, y_val_nn))"
   ]
  },
  {
   "cell_type": "code",
   "execution_count": 360,
   "id": "2117b8c1",
   "metadata": {},
   "outputs": [
    {
     "name": "stdout",
     "output_type": "stream",
     "text": [
      "-91.25125122070312\n"
     ]
    }
   ],
   "source": [
    "last_epoch_metric = nn_1.history['val_r2_score'][-1]\n",
    "\n",
    "print(last_epoch_metric)\n",
    "# OH NO"
   ]
  },
  {
   "cell_type": "markdown",
   "id": "40a9e54b",
   "metadata": {},
   "source": [
    "tuning"
   ]
  },
  {
   "cell_type": "code",
   "execution_count": 363,
   "id": "befd471a",
   "metadata": {},
   "outputs": [],
   "source": [
    "result_nn1 = compile_and_tune_model(model_1, param_nn, X_train_nn, y_train_nn, X_val_nn, y_val_nn)"
   ]
  },
  {
   "cell_type": "code",
   "execution_count": 364,
   "id": "af554364",
   "metadata": {},
   "outputs": [
    {
     "data": {
      "text/plain": [
       "[{'params': {'epoch': 25, 'learning_rate': 0.05, 'batch_size': 1000},\n",
       "  'last_epoch_metric': -1.1663808822631836},\n",
       " {'params': {'epoch': 25, 'learning_rate': 0.05, 'batch_size': 1500},\n",
       "  'last_epoch_metric': -0.0073899030685424805},\n",
       " {'params': {'epoch': 25, 'learning_rate': 0.05, 'batch_size': 3000},\n",
       "  'last_epoch_metric': -0.0001347064971923828},\n",
       " {'params': {'epoch': 25, 'learning_rate': 0.025, 'batch_size': 1000},\n",
       "  'last_epoch_metric': -0.011536598205566406},\n",
       " {'params': {'epoch': 25, 'learning_rate': 0.025, 'batch_size': 1500},\n",
       "  'last_epoch_metric': -0.0007798671722412109},\n",
       " {'params': {'epoch': 25, 'learning_rate': 0.025, 'batch_size': 3000},\n",
       "  'last_epoch_metric': -0.00019490718841552734},\n",
       " {'params': {'epoch': 25, 'learning_rate': 0.01, 'batch_size': 1000},\n",
       "  'last_epoch_metric': -0.0058356523513793945},\n",
       " {'params': {'epoch': 25, 'learning_rate': 0.01, 'batch_size': 1500},\n",
       "  'last_epoch_metric': -0.0030161142349243164},\n",
       " {'params': {'epoch': 25, 'learning_rate': 0.01, 'batch_size': 3000},\n",
       "  'last_epoch_metric': -0.0030192136764526367},\n",
       " {'params': {'epoch': 50, 'learning_rate': 0.05, 'batch_size': 1000},\n",
       "  'last_epoch_metric': -0.005213737487792969},\n",
       " {'params': {'epoch': 50, 'learning_rate': 0.05, 'batch_size': 1500},\n",
       "  'last_epoch_metric': -0.0016443729400634766},\n",
       " {'params': {'epoch': 50, 'learning_rate': 0.05, 'batch_size': 3000},\n",
       "  'last_epoch_metric': -0.0022836923599243164},\n",
       " {'params': {'epoch': 50, 'learning_rate': 0.025, 'batch_size': 1000},\n",
       "  'last_epoch_metric': -2.8014183044433594e-05},\n",
       " {'params': {'epoch': 50, 'learning_rate': 0.025, 'batch_size': 1500},\n",
       "  'last_epoch_metric': -0.005498051643371582},\n",
       " {'params': {'epoch': 50, 'learning_rate': 0.025, 'batch_size': 3000},\n",
       "  'last_epoch_metric': -0.004536867141723633},\n",
       " {'params': {'epoch': 50, 'learning_rate': 0.01, 'batch_size': 1000},\n",
       "  'last_epoch_metric': -3.0994415283203125e-06},\n",
       " {'params': {'epoch': 50, 'learning_rate': 0.01, 'batch_size': 1500},\n",
       "  'last_epoch_metric': -0.0009510517120361328},\n",
       " {'params': {'epoch': 50, 'learning_rate': 0.01, 'batch_size': 3000},\n",
       "  'last_epoch_metric': -0.003659367561340332},\n",
       " {'params': {'epoch': 75, 'learning_rate': 0.05, 'batch_size': 1000},\n",
       "  'last_epoch_metric': -0.0037430524826049805},\n",
       " {'params': {'epoch': 75, 'learning_rate': 0.05, 'batch_size': 1500},\n",
       "  'last_epoch_metric': -0.007968544960021973},\n",
       " {'params': {'epoch': 75, 'learning_rate': 0.05, 'batch_size': 3000},\n",
       "  'last_epoch_metric': -0.002260446548461914},\n",
       " {'params': {'epoch': 75, 'learning_rate': 0.025, 'batch_size': 1000},\n",
       "  'last_epoch_metric': -0.006191253662109375},\n",
       " {'params': {'epoch': 75, 'learning_rate': 0.025, 'batch_size': 1500},\n",
       "  'last_epoch_metric': -0.0018315315246582031},\n",
       " {'params': {'epoch': 75, 'learning_rate': 0.025, 'batch_size': 3000},\n",
       "  'last_epoch_metric': -0.001999974250793457},\n",
       " {'params': {'epoch': 75, 'learning_rate': 0.01, 'batch_size': 1000},\n",
       "  'last_epoch_metric': -0.007707357406616211},\n",
       " {'params': {'epoch': 75, 'learning_rate': 0.01, 'batch_size': 1500},\n",
       "  'last_epoch_metric': -0.0010629892349243164},\n",
       " {'params': {'epoch': 75, 'learning_rate': 0.01, 'batch_size': 3000},\n",
       "  'last_epoch_metric': -0.004868626594543457},\n",
       " {'params': {'epoch': 100, 'learning_rate': 0.05, 'batch_size': 1000},\n",
       "  'last_epoch_metric': -1.0251998901367188e-05},\n",
       " {'params': {'epoch': 100, 'learning_rate': 0.05, 'batch_size': 1500},\n",
       "  'last_epoch_metric': -0.005501985549926758},\n",
       " {'params': {'epoch': 100, 'learning_rate': 0.05, 'batch_size': 3000},\n",
       "  'last_epoch_metric': -0.013383030891418457},\n",
       " {'params': {'epoch': 100, 'learning_rate': 0.025, 'batch_size': 1000},\n",
       "  'last_epoch_metric': -0.004615187644958496},\n",
       " {'params': {'epoch': 100, 'learning_rate': 0.025, 'batch_size': 1500},\n",
       "  'last_epoch_metric': -0.0028198957443237305},\n",
       " {'params': {'epoch': 100, 'learning_rate': 0.025, 'batch_size': 3000},\n",
       "  'last_epoch_metric': -0.0020514726638793945},\n",
       " {'params': {'epoch': 100, 'learning_rate': 0.01, 'batch_size': 1000},\n",
       "  'last_epoch_metric': -0.0031174421310424805},\n",
       " {'params': {'epoch': 100, 'learning_rate': 0.01, 'batch_size': 1500},\n",
       "  'last_epoch_metric': -0.0033437013626098633},\n",
       " {'params': {'epoch': 100, 'learning_rate': 0.01, 'batch_size': 3000},\n",
       "  'last_epoch_metric': -0.005528688430786133}]"
      ]
     },
     "execution_count": 364,
     "metadata": {},
     "output_type": "execute_result"
    }
   ],
   "source": [
    "result_nn1"
   ]
  },
  {
   "cell_type": "markdown",
   "id": "08db22ee",
   "metadata": {},
   "source": [
    "best model"
   ]
  },
  {
   "cell_type": "code",
   "execution_count": null,
   "id": "5f6e2f9d",
   "metadata": {},
   "outputs": [],
   "source": []
  },
  {
   "cell_type": "code",
   "execution_count": null,
   "id": "c453ab94",
   "metadata": {},
   "outputs": [],
   "source": [
    "# evaluating\n",
    "\n",
    "r2_nn1 = model_1.evaluate(X_test_nn, y_test)\n",
    "\n",
    "print('R^2 is: ', )"
   ]
  },
  {
   "cell_type": "markdown",
   "id": "db3d8800",
   "metadata": {},
   "source": [
    "**3-layer**"
   ]
  },
  {
   "cell_type": "code",
   "execution_count": 366,
   "id": "d05b81f7",
   "metadata": {},
   "outputs": [],
   "source": [
    "input_dim = 20\n",
    "layer1_n = 32\n",
    "layer2_n = 16\n",
    "layer3_n = 16\n",
    "\n",
    "\n",
    "model_3 = Sequential([\n",
    "            layers.Dense(layer1_n, input_dim = input_dim, activation='relu'),\n",
    "            layers.Dense(layer2_n, activation='relu'),\n",
    "            layers.Dense(layer3_n, activation='relu'),\n",
    "            layers.Dense(1, activation='linear')\n",
    "        ])\n"
   ]
  },
  {
   "cell_type": "code",
   "execution_count": null,
   "id": "c66770ae",
   "metadata": {},
   "outputs": [],
   "source": [
    "# parameters\n",
    "\n",
    "nepoch = 50\n",
    "lr = 0.05\n",
    "nbatch = 1000"
   ]
  },
  {
   "cell_type": "code",
   "execution_count": 367,
   "id": "a06f20f8",
   "metadata": {
    "collapsed": true
   },
   "outputs": [
    {
     "name": "stdout",
     "output_type": "stream",
     "text": [
      "Epoch 1/50\n",
      "36/36 [==============================] - 1s 12ms/step - loss: 1091876618240.0000 - r2_score: -53167953805312.0000 - val_loss: 7221979136.0000 - val_r2_score: -273761353728.0000\n",
      "Epoch 2/50\n",
      "36/36 [==============================] - 0s 7ms/step - loss: 1015233536.0000 - r2_score: -49435893760.0000 - val_loss: 149339056.0000 - val_r2_score: -5660950016.0000\n",
      "Epoch 3/50\n",
      "36/36 [==============================] - 0s 7ms/step - loss: 19348680.0000 - r2_score: -942166720.0000 - val_loss: 2301929.7500 - val_r2_score: -87258552.0000\n",
      "Epoch 4/50\n",
      "36/36 [==============================] - 0s 6ms/step - loss: 401133.5312 - r2_score: -19532840.0000 - val_loss: 1935.8021 - val_r2_score: -73378.8594\n",
      "Epoch 5/50\n",
      "36/36 [==============================] - 0s 7ms/step - loss: 12632.1602 - r2_score: -615110.6250 - val_loss: 2966.1406 - val_r2_score: -112435.5859\n",
      "Epoch 6/50\n",
      "36/36 [==============================] - 0s 6ms/step - loss: 509.6871 - r2_score: -24817.7578 - val_loss: 12.4011 - val_r2_score: -469.0861\n",
      "Epoch 7/50\n",
      "36/36 [==============================] - 0s 7ms/step - loss: 14.5907 - r2_score: -709.4813 - val_loss: 0.4795 - val_r2_score: -17.1752\n",
      "Epoch 8/50\n",
      "36/36 [==============================] - 0s 5ms/step - loss: 0.4124 - r2_score: -19.0818 - val_loss: 0.1312 - val_r2_score: -3.9717\n",
      "Epoch 9/50\n",
      "36/36 [==============================] - 0s 4ms/step - loss: 0.0491 - r2_score: -1.3904 - val_loss: 0.0443 - val_r2_score: -0.6794\n",
      "Epoch 10/50\n",
      "36/36 [==============================] - 0s 5ms/step - loss: 0.0408 - r2_score: -0.9884 - val_loss: 0.0443 - val_r2_score: -0.6794\n",
      "Epoch 11/50\n",
      "36/36 [==============================] - 0s 7ms/step - loss: 0.0408 - r2_score: -0.9883 - val_loss: 0.0443 - val_r2_score: -0.6793\n",
      "Epoch 12/50\n",
      "36/36 [==============================] - 0s 8ms/step - loss: 0.0408 - r2_score: -0.9882 - val_loss: 0.0443 - val_r2_score: -0.6789\n",
      "Epoch 13/50\n",
      "36/36 [==============================] - 0s 7ms/step - loss: 0.0408 - r2_score: -0.9877 - val_loss: 0.0443 - val_r2_score: -0.6789\n",
      "Epoch 14/50\n",
      "36/36 [==============================] - 0s 8ms/step - loss: 0.0408 - r2_score: -0.9873 - val_loss: 0.0443 - val_r2_score: -0.6786\n",
      "Epoch 15/50\n",
      "36/36 [==============================] - 0s 7ms/step - loss: 0.0408 - r2_score: -0.9872 - val_loss: 0.0443 - val_r2_score: -0.6785\n",
      "Epoch 16/50\n",
      "36/36 [==============================] - 0s 8ms/step - loss: 0.0408 - r2_score: -0.9871 - val_loss: 0.0443 - val_r2_score: -0.6785\n",
      "Epoch 17/50\n",
      "36/36 [==============================] - 0s 8ms/step - loss: 0.0408 - r2_score: -0.9870 - val_loss: 0.0443 - val_r2_score: -0.6784\n",
      "Epoch 18/50\n",
      "36/36 [==============================] - 0s 9ms/step - loss: 0.0408 - r2_score: -0.9870 - val_loss: 0.0443 - val_r2_score: -0.6784\n",
      "Epoch 19/50\n",
      "36/36 [==============================] - 0s 9ms/step - loss: 0.0408 - r2_score: -0.9869 - val_loss: 0.0443 - val_r2_score: -0.6783\n",
      "Epoch 20/50\n",
      "36/36 [==============================] - 0s 9ms/step - loss: 0.0408 - r2_score: -0.9868 - val_loss: 0.0443 - val_r2_score: -0.6782\n",
      "Epoch 21/50\n",
      "36/36 [==============================] - 0s 9ms/step - loss: 0.0408 - r2_score: -0.9867 - val_loss: 0.0443 - val_r2_score: -0.6781\n",
      "Epoch 22/50\n",
      "36/36 [==============================] - 0s 8ms/step - loss: 0.0408 - r2_score: -0.9865 - val_loss: 0.0443 - val_r2_score: -0.6780\n",
      "Epoch 23/50\n",
      "36/36 [==============================] - 0s 8ms/step - loss: 0.0408 - r2_score: -0.9864 - val_loss: 0.0443 - val_r2_score: -0.6780\n",
      "Epoch 24/50\n",
      "36/36 [==============================] - 0s 8ms/step - loss: 0.0408 - r2_score: -0.9863 - val_loss: 0.0443 - val_r2_score: -0.6779\n",
      "Epoch 25/50\n",
      "36/36 [==============================] - 0s 8ms/step - loss: 0.0408 - r2_score: -0.9862 - val_loss: 0.0443 - val_r2_score: -0.6775\n",
      "Epoch 26/50\n",
      "36/36 [==============================] - 0s 8ms/step - loss: 0.0408 - r2_score: -0.9856 - val_loss: 0.0443 - val_r2_score: -0.6774\n",
      "Epoch 27/50\n",
      "36/36 [==============================] - 0s 8ms/step - loss: 0.0408 - r2_score: -0.9855 - val_loss: 0.0442 - val_r2_score: -0.6773\n",
      "Epoch 28/50\n",
      "36/36 [==============================] - 0s 7ms/step - loss: 0.0408 - r2_score: -0.9852 - val_loss: 0.0442 - val_r2_score: -0.6771\n",
      "Epoch 29/50\n",
      "36/36 [==============================] - 0s 8ms/step - loss: 0.0408 - r2_score: -0.9850 - val_loss: 0.0442 - val_r2_score: -0.6770\n",
      "Epoch 30/50\n",
      "36/36 [==============================] - 0s 7ms/step - loss: 0.0408 - r2_score: -0.9849 - val_loss: 0.0442 - val_r2_score: -0.6769\n",
      "Epoch 31/50\n",
      "36/36 [==============================] - 0s 8ms/step - loss: 0.0408 - r2_score: -0.9847 - val_loss: 0.0442 - val_r2_score: -0.6768\n",
      "Epoch 32/50\n",
      "36/36 [==============================] - 0s 7ms/step - loss: 0.0408 - r2_score: -0.9846 - val_loss: 0.0442 - val_r2_score: -0.6767\n",
      "Epoch 33/50\n",
      "36/36 [==============================] - 0s 8ms/step - loss: 0.0408 - r2_score: -0.9845 - val_loss: 0.0442 - val_r2_score: -0.6766\n",
      "Epoch 34/50\n",
      "36/36 [==============================] - 0s 9ms/step - loss: 0.0407 - r2_score: -0.9842 - val_loss: 0.0442 - val_r2_score: -0.6764\n",
      "Epoch 35/50\n",
      "36/36 [==============================] - 0s 9ms/step - loss: 0.0407 - r2_score: -0.9841 - val_loss: 0.0442 - val_r2_score: -0.6763\n",
      "Epoch 36/50\n",
      "36/36 [==============================] - 0s 8ms/step - loss: 0.0407 - r2_score: -0.9839 - val_loss: 0.0442 - val_r2_score: -0.6762\n",
      "Epoch 37/50\n",
      "36/36 [==============================] - 0s 8ms/step - loss: 0.0407 - r2_score: -0.9836 - val_loss: 0.0442 - val_r2_score: -0.6761\n",
      "Epoch 38/50\n",
      "36/36 [==============================] - 0s 8ms/step - loss: 0.0407 - r2_score: -0.9837 - val_loss: 0.0442 - val_r2_score: -0.6760\n",
      "Epoch 39/50\n",
      "36/36 [==============================] - 0s 7ms/step - loss: 0.0407 - r2_score: -0.9824 - val_loss: 0.0442 - val_r2_score: -0.6750\n",
      "Epoch 40/50\n",
      "36/36 [==============================] - 0s 9ms/step - loss: 0.0407 - r2_score: -0.9821 - val_loss: 0.0442 - val_r2_score: -0.6748\n",
      "Epoch 41/50\n",
      "36/36 [==============================] - 0s 9ms/step - loss: 0.0407 - r2_score: -0.9818 - val_loss: 0.0442 - val_r2_score: -0.6747\n",
      "Epoch 42/50\n",
      "36/36 [==============================] - 0s 8ms/step - loss: 0.0407 - r2_score: -0.9816 - val_loss: 0.0442 - val_r2_score: -0.6746\n",
      "Epoch 43/50\n",
      "36/36 [==============================] - 0s 8ms/step - loss: 0.0407 - r2_score: -0.9813 - val_loss: 0.0442 - val_r2_score: -0.6743\n",
      "Epoch 44/50\n",
      "36/36 [==============================] - 0s 8ms/step - loss: 0.0407 - r2_score: -0.9811 - val_loss: 0.0442 - val_r2_score: -0.6742\n",
      "Epoch 45/50\n",
      "36/36 [==============================] - 0s 9ms/step - loss: 0.0407 - r2_score: -0.9809 - val_loss: 0.0442 - val_r2_score: -0.6741\n",
      "Epoch 46/50\n",
      "36/36 [==============================] - 0s 8ms/step - loss: 0.0407 - r2_score: -0.9807 - val_loss: 0.0442 - val_r2_score: -0.6739\n",
      "Epoch 47/50\n",
      "36/36 [==============================] - 0s 8ms/step - loss: 0.0407 - r2_score: -0.9804 - val_loss: 0.0442 - val_r2_score: -0.6736\n",
      "Epoch 48/50\n",
      "36/36 [==============================] - 0s 8ms/step - loss: 0.0407 - r2_score: -0.9801 - val_loss: 0.0441 - val_r2_score: -0.6735\n",
      "Epoch 49/50\n",
      "36/36 [==============================] - 0s 9ms/step - loss: 0.0407 - r2_score: -0.9799 - val_loss: 0.0441 - val_r2_score: -0.6733\n",
      "Epoch 50/50\n",
      "36/36 [==============================] - 0s 7ms/step - loss: 0.0407 - r2_score: -0.9797 - val_loss: 0.0441 - val_r2_score: -0.6732\n"
     ]
    }
   ],
   "source": [
    "model_3.compile(loss = 'mean_squared_error' , optimizer = keras.optimizers.Adam(learning_rate = lr), metrics = keras.metrics.R2Score())\n",
    "\n",
    "nn_3 = model_3.fit(X_train_nn, y_train_nn, epochs=nepoch, batch_size=nbatch, validation_data = (X_val_nn, y_val_nn))"
   ]
  },
  {
   "cell_type": "code",
   "execution_count": 369,
   "id": "06bd560d",
   "metadata": {},
   "outputs": [
    {
     "name": "stdout",
     "output_type": "stream",
     "text": [
      "-0.6731723546981812\n"
     ]
    }
   ],
   "source": [
    "last_epoch_metric = nn_3.history['val_r2_score'][-1]\n",
    "\n",
    "print(last_epoch_metric)\n",
    "# OH NO"
   ]
  },
  {
   "cell_type": "markdown",
   "id": "e05048d0",
   "metadata": {},
   "source": [
    "tuning"
   ]
  },
  {
   "cell_type": "code",
   "execution_count": null,
   "id": "dfc51824",
   "metadata": {},
   "outputs": [],
   "source": [
    "result_nn3 = compile_and_tune_model(model_3, param_nn, X_train_nn, y_train_nn, X_val_nn, y_val_nn)"
   ]
  },
  {
   "cell_type": "code",
   "execution_count": null,
   "id": "55e54557",
   "metadata": {},
   "outputs": [],
   "source": [
    "result_nn3"
   ]
  },
  {
   "cell_type": "code",
   "execution_count": null,
   "id": "1b7798f4",
   "metadata": {},
   "outputs": [],
   "source": []
  },
  {
   "cell_type": "markdown",
   "id": "5f53868c",
   "metadata": {},
   "source": [
    "best model"
   ]
  },
  {
   "cell_type": "code",
   "execution_count": null,
   "id": "d397a2af",
   "metadata": {},
   "outputs": [],
   "source": []
  }
 ],
 "metadata": {
  "kernelspec": {
   "display_name": "Python 3 (ipykernel)",
   "language": "python",
   "name": "python3"
  },
  "language_info": {
   "codemirror_mode": {
    "name": "ipython",
    "version": 3
   },
   "file_extension": ".py",
   "mimetype": "text/x-python",
   "name": "python",
   "nbconvert_exporter": "python",
   "pygments_lexer": "ipython3",
   "version": "3.11.5"
  }
 },
 "nbformat": 4,
 "nbformat_minor": 5
}
